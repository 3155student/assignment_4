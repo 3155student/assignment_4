{
 "cells": [
  {
   "cell_type": "markdown",
   "metadata": {},
   "source": [
    "# Assignment 4 - Jackie Woodlief, Jeff Sharpe"
   ]
  },
  {
   "cell_type": "markdown",
   "metadata": {},
   "source": [
    "### Big Picture\n",
    "Hard Voting: uses predicted class labels for majority rule voting\n",
    "\n",
    "Soft Voting: predicts the class label based on the argmax of the sums of the predicted probabilities\n",
    "\n",
    "For this project we are implementing multiclass classification to determine which of the 10 classes a glacier belongs to (for our dataset, 0-9). We will be doing various data discovery tasks to start with to get a better idea of our data. In particular, we will be plotting the glaciers on a simulated globe based on the given lattitudes and longitudes. We will be using ensemble methods to test their efficiencies, but first we will get a baseline reading with the decision tree classifer and compare with the ensemble methods.\n",
    "\n",
    "We thought about doing multi-class classification according to continent, but thought this would be a bit easier, so we wanted to try something more challenging which is why we choose to use primary classes as our labels."
   ]
  },
  {
   "cell_type": "markdown",
   "metadata": {},
   "source": [
    "### Get the Data\n",
    "\n",
    "Dataset: https://www.kaggle.com/nsidcorg/glacier-inventory\n",
    "Size: 3.2 MB\n",
    "Entries: 132889\n",
    "Features: 39\n",
    "\n",
    "We looked at, and were seriously considering, several data sets. In the end we choose this one because of it's geographic element and the prospects of implementing multi-class classification. Since we have only worked binary classification for the previous assignments, we thought we would try something more advanced. We are also curious as to how accurate the end results will be.\n",
    "\n",
    "Some of the noticeable stats that you will observe right away is that some of the attributes have a lot of missing values, we'll have to figure out if we should remove those attributes or if it would be better to use an imputer to fill in the missing values. Also, immediately, you can see that some of the attributes are, as they should be, positively correlated, such as longitude and mean elevation accumulation. There are a couple more observations like this that are more-or-less like common sense observations, but it's still good to explore these because it may be unintuitive.\n",
    "\n",
    "Below is our primary class key, we had to find this data from another source since our data set only gave numbers between 0 and 9 (inclusive).\n",
    "\n",
    "Primary Class Key:  \n",
    "0: Uncertain/misc.  \n",
    "1: Continental Ice Sheet  \n",
    "2: Ice-field  \n",
    "3: Ice Cap  \n",
    "4: Outlet Glacier  \n",
    "5: Valley Glacier  \n",
    "6: Mountain Glacier  \n",
    "7: Snowfield/Glacieret  \n",
    "8: Ice Shelf  \n",
    "9: Rock Glacier  "
   ]
  },
  {
   "cell_type": "code",
   "execution_count": 1,
   "metadata": {
    "collapsed": true
   },
   "outputs": [],
   "source": [
    "#These are all the import statements!\n",
    "\n",
    "import pandas as pd\n",
    "import numpy as np\n",
    "import matplotlib.pyplot as plt\n",
    "from sklearn.preprocessing import Imputer, LabelEncoder\n",
    "from sklearn.model_selection import train_test_split, cross_val_score, cross_val_predict\n",
    "from sklearn.tree import DecisionTreeClassifier\n",
    "from sklearn.metrics import confusion_matrix, precision_score, recall_score, f1_score, precision_recall_curve, roc_curve\n",
    "from sklearn.metrics import roc_auc_score, accuracy_score\n",
    "from sklearn.ensemble import BaggingClassifier, RandomForestClassifier, AdaBoostClassifier\n",
    "import sys\n"
   ]
  },
  {
   "cell_type": "code",
   "execution_count": 2,
   "metadata": {
    "collapsed": true
   },
   "outputs": [],
   "source": [
    "def plot_dataset(X, y, axes, col1, col2):\n",
    "    plt.plot(X[:, col1][y==0], X[:, col2][y==0], \"gv\")\n",
    "    plt.plot(X[:, col1][y==1], X[:, col2][y==1], \"c^\")\n",
    "    plt.plot(X[:, col1][y==2], X[:, col2][y==2], \"m<\")\n",
    "    plt.plot(X[:, col1][y==3], X[:, col2][y==3], \"yv\")\n",
    "    plt.plot(X[:, col1][y==4], X[:, col2][y==4], \"k3\")\n",
    "    plt.plot(X[:, col1][y==5], X[:, col2][y==5], \"wo\")\n",
    "    plt.plot(X[:, col1][y==6], X[:, col2][y==6], \"bd\")\n",
    "    plt.plot(X[:, col1][y==7], X[:, col2][y==7], \"ro\")\n",
    "    plt.plot(X[:, col1][y==8], X[:, col2][y==8], \"gd\")\n",
    "    plt.plot(X[:, col1][y==9], X[:, col2][y==9], \"gs\")\n",
    "    plt.axis(axes)\n",
    "    plt.grid(True, which='both')\n",
    "    plt.xlabel(r\"$x_1$\", fontsize=20)\n",
    "    plt.ylabel(r\"$x_2$\", fontsize=20, rotation=0)\n"
   ]
  },
  {
   "cell_type": "code",
   "execution_count": 3,
   "metadata": {},
   "outputs": [
    {
     "name": "stderr",
     "output_type": "stream",
     "text": [
      "/home/shelob/anaconda3/lib/python3.6/site-packages/IPython/core/interactiveshell.py:2717: DtypeWarning: Columns (5) have mixed types. Specify dtype option on import or set low_memory=False.\n",
      "  interactivity=interactivity, compiler=compiler, result=result)\n"
     ]
    }
   ],
   "source": [
    "#Here we are reading in our dataset\n",
    "\n",
    "glacier_data = pd.read_csv(\"database.csv\")"
   ]
  },
  {
   "cell_type": "code",
   "execution_count": 4,
   "metadata": {},
   "outputs": [
    {
     "data": {
      "text/html": [
       "<div>\n",
       "<style>\n",
       "    .dataframe thead tr:only-child th {\n",
       "        text-align: right;\n",
       "    }\n",
       "\n",
       "    .dataframe thead th {\n",
       "        text-align: left;\n",
       "    }\n",
       "\n",
       "    .dataframe tbody tr th {\n",
       "        vertical-align: top;\n",
       "    }\n",
       "</style>\n",
       "<table border=\"1\" class=\"dataframe\">\n",
       "  <thead>\n",
       "    <tr style=\"text-align: right;\">\n",
       "      <th></th>\n",
       "      <th>Glacier ID</th>\n",
       "      <th>Political Unit</th>\n",
       "      <th>Continent</th>\n",
       "      <th>Basin Code</th>\n",
       "      <th>Location Code</th>\n",
       "      <th>Glacier Code</th>\n",
       "      <th>Glacier Name</th>\n",
       "      <th>Latitude</th>\n",
       "      <th>Longitude</th>\n",
       "      <th>Primary Class</th>\n",
       "      <th>...</th>\n",
       "      <th>Maximum Length</th>\n",
       "      <th>Maximum Length Exposed</th>\n",
       "      <th>Maximum Length Ablation</th>\n",
       "      <th>Mean Depth</th>\n",
       "      <th>Depth Accuracy</th>\n",
       "      <th>Accumulation Orientation</th>\n",
       "      <th>Ablation Orientation</th>\n",
       "      <th>Topographic Map Year</th>\n",
       "      <th>Topographic Map Scale</th>\n",
       "      <th>Photograph Year</th>\n",
       "    </tr>\n",
       "  </thead>\n",
       "  <tbody>\n",
       "    <tr>\n",
       "      <th>0</th>\n",
       "      <td>AF5Q112B0001</td>\n",
       "      <td>AFGHANISTAN</td>\n",
       "      <td>ASIA</td>\n",
       "      <td>Q112</td>\n",
       "      <td>B0</td>\n",
       "      <td>1</td>\n",
       "      <td>NaN</td>\n",
       "      <td>34.672</td>\n",
       "      <td>68.874</td>\n",
       "      <td>9.0</td>\n",
       "      <td>...</td>\n",
       "      <td>1.9</td>\n",
       "      <td>NaN</td>\n",
       "      <td>NaN</td>\n",
       "      <td>NaN</td>\n",
       "      <td>NaN</td>\n",
       "      <td>NE</td>\n",
       "      <td>NE</td>\n",
       "      <td>1959.0</td>\n",
       "      <td>100000.0</td>\n",
       "      <td>NaN</td>\n",
       "    </tr>\n",
       "    <tr>\n",
       "      <th>1</th>\n",
       "      <td>AF5Q112B0002</td>\n",
       "      <td>AFGHANISTAN</td>\n",
       "      <td>ASIA</td>\n",
       "      <td>Q112</td>\n",
       "      <td>B0</td>\n",
       "      <td>2</td>\n",
       "      <td>NaN</td>\n",
       "      <td>34.676</td>\n",
       "      <td>68.855</td>\n",
       "      <td>9.0</td>\n",
       "      <td>...</td>\n",
       "      <td>0.8</td>\n",
       "      <td>NaN</td>\n",
       "      <td>NaN</td>\n",
       "      <td>NaN</td>\n",
       "      <td>NaN</td>\n",
       "      <td>NW</td>\n",
       "      <td>NW</td>\n",
       "      <td>1959.0</td>\n",
       "      <td>100000.0</td>\n",
       "      <td>NaN</td>\n",
       "    </tr>\n",
       "    <tr>\n",
       "      <th>2</th>\n",
       "      <td>AF5Q112B0003</td>\n",
       "      <td>AFGHANISTAN</td>\n",
       "      <td>ASIA</td>\n",
       "      <td>Q112</td>\n",
       "      <td>B0</td>\n",
       "      <td>3</td>\n",
       "      <td>NaN</td>\n",
       "      <td>34.689</td>\n",
       "      <td>68.854</td>\n",
       "      <td>9.0</td>\n",
       "      <td>...</td>\n",
       "      <td>1.5</td>\n",
       "      <td>NaN</td>\n",
       "      <td>NaN</td>\n",
       "      <td>NaN</td>\n",
       "      <td>NaN</td>\n",
       "      <td>NW</td>\n",
       "      <td>NW</td>\n",
       "      <td>1959.0</td>\n",
       "      <td>100000.0</td>\n",
       "      <td>NaN</td>\n",
       "    </tr>\n",
       "    <tr>\n",
       "      <th>3</th>\n",
       "      <td>AF5Q112B0004</td>\n",
       "      <td>AFGHANISTAN</td>\n",
       "      <td>ASIA</td>\n",
       "      <td>Q112</td>\n",
       "      <td>B0</td>\n",
       "      <td>4</td>\n",
       "      <td>NaN</td>\n",
       "      <td>34.707</td>\n",
       "      <td>68.857</td>\n",
       "      <td>9.0</td>\n",
       "      <td>...</td>\n",
       "      <td>1.5</td>\n",
       "      <td>NaN</td>\n",
       "      <td>NaN</td>\n",
       "      <td>NaN</td>\n",
       "      <td>NaN</td>\n",
       "      <td>NE</td>\n",
       "      <td>NE</td>\n",
       "      <td>1959.0</td>\n",
       "      <td>100000.0</td>\n",
       "      <td>NaN</td>\n",
       "    </tr>\n",
       "    <tr>\n",
       "      <th>4</th>\n",
       "      <td>AF5Q112B0005</td>\n",
       "      <td>AFGHANISTAN</td>\n",
       "      <td>ASIA</td>\n",
       "      <td>Q112</td>\n",
       "      <td>B0</td>\n",
       "      <td>5</td>\n",
       "      <td>NaN</td>\n",
       "      <td>34.719</td>\n",
       "      <td>68.852</td>\n",
       "      <td>9.0</td>\n",
       "      <td>...</td>\n",
       "      <td>2.0</td>\n",
       "      <td>NaN</td>\n",
       "      <td>NaN</td>\n",
       "      <td>NaN</td>\n",
       "      <td>NaN</td>\n",
       "      <td>NaN</td>\n",
       "      <td>NaN</td>\n",
       "      <td>1959.0</td>\n",
       "      <td>100000.0</td>\n",
       "      <td>NaN</td>\n",
       "    </tr>\n",
       "  </tbody>\n",
       "</table>\n",
       "<p>5 rows × 39 columns</p>\n",
       "</div>"
      ],
      "text/plain": [
       "     Glacier ID Political Unit Continent Basin Code Location Code  \\\n",
       "0  AF5Q112B0001    AFGHANISTAN      ASIA       Q112            B0   \n",
       "1  AF5Q112B0002    AFGHANISTAN      ASIA       Q112            B0   \n",
       "2  AF5Q112B0003    AFGHANISTAN      ASIA       Q112            B0   \n",
       "3  AF5Q112B0004    AFGHANISTAN      ASIA       Q112            B0   \n",
       "4  AF5Q112B0005    AFGHANISTAN      ASIA       Q112            B0   \n",
       "\n",
       "  Glacier Code Glacier Name  Latitude  Longitude  Primary Class  \\\n",
       "0            1          NaN    34.672     68.874            9.0   \n",
       "1            2          NaN    34.676     68.855            9.0   \n",
       "2            3          NaN    34.689     68.854            9.0   \n",
       "3            4          NaN    34.707     68.857            9.0   \n",
       "4            5          NaN    34.719     68.852            9.0   \n",
       "\n",
       "        ...         Maximum Length  Maximum Length Exposed  \\\n",
       "0       ...                    1.9                     NaN   \n",
       "1       ...                    0.8                     NaN   \n",
       "2       ...                    1.5                     NaN   \n",
       "3       ...                    1.5                     NaN   \n",
       "4       ...                    2.0                     NaN   \n",
       "\n",
       "   Maximum Length Ablation  Mean Depth  Depth Accuracy  \\\n",
       "0                      NaN         NaN             NaN   \n",
       "1                      NaN         NaN             NaN   \n",
       "2                      NaN         NaN             NaN   \n",
       "3                      NaN         NaN             NaN   \n",
       "4                      NaN         NaN             NaN   \n",
       "\n",
       "   Accumulation Orientation  Ablation Orientation  Topographic Map Year  \\\n",
       "0                        NE                    NE                1959.0   \n",
       "1                        NW                    NW                1959.0   \n",
       "2                        NW                    NW                1959.0   \n",
       "3                        NE                    NE                1959.0   \n",
       "4                       NaN                   NaN                1959.0   \n",
       "\n",
       "   Topographic Map Scale  Photograph Year  \n",
       "0               100000.0              NaN  \n",
       "1               100000.0              NaN  \n",
       "2               100000.0              NaN  \n",
       "3               100000.0              NaN  \n",
       "4               100000.0              NaN  \n",
       "\n",
       "[5 rows x 39 columns]"
      ]
     },
     "execution_count": 4,
     "metadata": {},
     "output_type": "execute_result"
    }
   ],
   "source": [
    "glacier_data.head(5)"
   ]
  },
  {
   "cell_type": "code",
   "execution_count": 5,
   "metadata": {
    "scrolled": true
   },
   "outputs": [
    {
     "name": "stdout",
     "output_type": "stream",
     "text": [
      "<class 'pandas.core.frame.DataFrame'>\n",
      "RangeIndex: 132890 entries, 0 to 132889\n",
      "Data columns (total 39 columns):\n",
      "Glacier ID                     132890 non-null object\n",
      "Political Unit                 132890 non-null object\n",
      "Continent                      132890 non-null object\n",
      "Basin Code                     132890 non-null object\n",
      "Location Code                  132890 non-null object\n",
      "Glacier Code                   132890 non-null object\n",
      "Glacier Name                   46751 non-null object\n",
      "Latitude                       132890 non-null float64\n",
      "Longitude                      132890 non-null float64\n",
      "Primary Class                  131406 non-null float64\n",
      "Glacier Source                 132746 non-null float64\n",
      "Basin Count                    15558 non-null float64\n",
      "Glacier Form                   131813 non-null float64\n",
      "Glacier Activity               132775 non-null float64\n",
      "Activity Start                 4202 non-null float64\n",
      "Activity End                   143 non-null float64\n",
      "Minimum Elevation              117162 non-null float64\n",
      "Minimum Elevation Exposed      89697 non-null float64\n",
      "Mean Elevation                 81599 non-null float64\n",
      "Mean Elevation Accumulation    15473 non-null float64\n",
      "Mean Elevation Ablation        11053 non-null float64\n",
      "Maximum Elevation              115468 non-null float64\n",
      "Snow Line Elevation            28848 non-null float64\n",
      "Snow Line Accuracy             23324 non-null float64\n",
      "Glacier Area                   128374 non-null float64\n",
      "Area Accuracy                  84440 non-null float64\n",
      "Area Exposed                   90737 non-null float64\n",
      "Mean Width                     69966 non-null float64\n",
      "Mean Length                    55258 non-null float64\n",
      "Maximum Length                 102593 non-null float64\n",
      "Maximum Length Exposed         84621 non-null float64\n",
      "Maximum Length Ablation        17051 non-null float64\n",
      "Mean Depth                     70071 non-null float64\n",
      "Depth Accuracy                 78685 non-null float64\n",
      "Accumulation Orientation       114432 non-null object\n",
      "Ablation Orientation           116534 non-null object\n",
      "Topographic Map Year           83697 non-null float64\n",
      "Topographic Map Scale          74586 non-null float64\n",
      "Photograph Year                82464 non-null float64\n",
      "dtypes: float64(30), object(9)\n",
      "memory usage: 39.5+ MB\n"
     ]
    }
   ],
   "source": [
    "glacier_data.info()"
   ]
  },
  {
   "cell_type": "code",
   "execution_count": 6,
   "metadata": {
    "scrolled": true
   },
   "outputs": [
    {
     "data": {
      "text/html": [
       "<div>\n",
       "<style>\n",
       "    .dataframe thead tr:only-child th {\n",
       "        text-align: right;\n",
       "    }\n",
       "\n",
       "    .dataframe thead th {\n",
       "        text-align: left;\n",
       "    }\n",
       "\n",
       "    .dataframe tbody tr th {\n",
       "        vertical-align: top;\n",
       "    }\n",
       "</style>\n",
       "<table border=\"1\" class=\"dataframe\">\n",
       "  <thead>\n",
       "    <tr style=\"text-align: right;\">\n",
       "      <th></th>\n",
       "      <th>Latitude</th>\n",
       "      <th>Longitude</th>\n",
       "      <th>Primary Class</th>\n",
       "      <th>Glacier Source</th>\n",
       "      <th>Basin Count</th>\n",
       "      <th>Glacier Form</th>\n",
       "      <th>Glacier Activity</th>\n",
       "      <th>Activity Start</th>\n",
       "      <th>Activity End</th>\n",
       "      <th>Minimum Elevation</th>\n",
       "      <th>...</th>\n",
       "      <th>Mean Width</th>\n",
       "      <th>Mean Length</th>\n",
       "      <th>Maximum Length</th>\n",
       "      <th>Maximum Length Exposed</th>\n",
       "      <th>Maximum Length Ablation</th>\n",
       "      <th>Mean Depth</th>\n",
       "      <th>Depth Accuracy</th>\n",
       "      <th>Topographic Map Year</th>\n",
       "      <th>Topographic Map Scale</th>\n",
       "      <th>Photograph Year</th>\n",
       "    </tr>\n",
       "  </thead>\n",
       "  <tbody>\n",
       "    <tr>\n",
       "      <th>count</th>\n",
       "      <td>132890.000000</td>\n",
       "      <td>132890.000000</td>\n",
       "      <td>131406.000000</td>\n",
       "      <td>132746.000000</td>\n",
       "      <td>15558.000000</td>\n",
       "      <td>131813.000000</td>\n",
       "      <td>132775.000000</td>\n",
       "      <td>4202.000000</td>\n",
       "      <td>143.000000</td>\n",
       "      <td>117162.000000</td>\n",
       "      <td>...</td>\n",
       "      <td>69966.000000</td>\n",
       "      <td>55258.000000</td>\n",
       "      <td>102593.000000</td>\n",
       "      <td>84621.000000</td>\n",
       "      <td>17051.000000</td>\n",
       "      <td>70071.000000</td>\n",
       "      <td>78685.000000</td>\n",
       "      <td>83697.000000</td>\n",
       "      <td>74586.000000</td>\n",
       "      <td>82464.000000</td>\n",
       "    </tr>\n",
       "    <tr>\n",
       "      <th>mean</th>\n",
       "      <td>36.322101</td>\n",
       "      <td>31.902296</td>\n",
       "      <td>5.716231</td>\n",
       "      <td>0.864712</td>\n",
       "      <td>1.031752</td>\n",
       "      <td>3.738918</td>\n",
       "      <td>0.620448</td>\n",
       "      <td>1967.112327</td>\n",
       "      <td>1986.930070</td>\n",
       "      <td>3502.362063</td>\n",
       "      <td>...</td>\n",
       "      <td>0.563436</td>\n",
       "      <td>1.392470</td>\n",
       "      <td>1.417326</td>\n",
       "      <td>1.328634</td>\n",
       "      <td>1.621133</td>\n",
       "      <td>28.415085</td>\n",
       "      <td>2.262960</td>\n",
       "      <td>1970.529565</td>\n",
       "      <td>96838.461508</td>\n",
       "      <td>1974.795899</td>\n",
       "    </tr>\n",
       "    <tr>\n",
       "      <th>std</th>\n",
       "      <td>27.821062</td>\n",
       "      <td>83.860643</td>\n",
       "      <td>1.768668</td>\n",
       "      <td>0.494326</td>\n",
       "      <td>0.327473</td>\n",
       "      <td>2.255064</td>\n",
       "      <td>1.072336</td>\n",
       "      <td>11.348193</td>\n",
       "      <td>6.999648</td>\n",
       "      <td>1735.317842</td>\n",
       "      <td>...</td>\n",
       "      <td>0.643816</td>\n",
       "      <td>2.087975</td>\n",
       "      <td>2.560785</td>\n",
       "      <td>1.984061</td>\n",
       "      <td>3.286073</td>\n",
       "      <td>46.480501</td>\n",
       "      <td>0.999009</td>\n",
       "      <td>10.276403</td>\n",
       "      <td>69675.200534</td>\n",
       "      <td>14.107653</td>\n",
       "    </tr>\n",
       "    <tr>\n",
       "      <th>min</th>\n",
       "      <td>-71.657200</td>\n",
       "      <td>-179.918000</td>\n",
       "      <td>0.000000</td>\n",
       "      <td>0.000000</td>\n",
       "      <td>1.000000</td>\n",
       "      <td>0.000000</td>\n",
       "      <td>0.000000</td>\n",
       "      <td>1901.000000</td>\n",
       "      <td>1958.000000</td>\n",
       "      <td>0.000000</td>\n",
       "      <td>...</td>\n",
       "      <td>0.000000</td>\n",
       "      <td>0.020000</td>\n",
       "      <td>0.060000</td>\n",
       "      <td>0.000000</td>\n",
       "      <td>0.000000</td>\n",
       "      <td>0.000000</td>\n",
       "      <td>1.000000</td>\n",
       "      <td>1901.000000</td>\n",
       "      <td>750.000000</td>\n",
       "      <td>1900.000000</td>\n",
       "    </tr>\n",
       "    <tr>\n",
       "      <th>25%</th>\n",
       "      <td>30.616000</td>\n",
       "      <td>-50.375000</td>\n",
       "      <td>6.000000</td>\n",
       "      <td>1.000000</td>\n",
       "      <td>1.000000</td>\n",
       "      <td>3.000000</td>\n",
       "      <td>0.000000</td>\n",
       "      <td>1963.000000</td>\n",
       "      <td>1986.000000</td>\n",
       "      <td>1800.000000</td>\n",
       "      <td>...</td>\n",
       "      <td>0.300000</td>\n",
       "      <td>0.500000</td>\n",
       "      <td>0.500000</td>\n",
       "      <td>0.500000</td>\n",
       "      <td>0.200000</td>\n",
       "      <td>12.000000</td>\n",
       "      <td>1.000000</td>\n",
       "      <td>1966.000000</td>\n",
       "      <td>50000.000000</td>\n",
       "      <td>1968.000000</td>\n",
       "    </tr>\n",
       "    <tr>\n",
       "      <th>50%</th>\n",
       "      <td>38.580000</td>\n",
       "      <td>75.484500</td>\n",
       "      <td>6.000000</td>\n",
       "      <td>1.000000</td>\n",
       "      <td>1.000000</td>\n",
       "      <td>4.000000</td>\n",
       "      <td>0.000000</td>\n",
       "      <td>1967.000000</td>\n",
       "      <td>1986.000000</td>\n",
       "      <td>3840.000000</td>\n",
       "      <td>...</td>\n",
       "      <td>0.400000</td>\n",
       "      <td>0.800000</td>\n",
       "      <td>0.800000</td>\n",
       "      <td>0.800000</td>\n",
       "      <td>0.600000</td>\n",
       "      <td>20.000000</td>\n",
       "      <td>2.000000</td>\n",
       "      <td>1972.000000</td>\n",
       "      <td>90000.000000</td>\n",
       "      <td>1971.000000</td>\n",
       "    </tr>\n",
       "    <tr>\n",
       "      <th>75%</th>\n",
       "      <td>49.223000</td>\n",
       "      <td>85.265750</td>\n",
       "      <td>7.000000</td>\n",
       "      <td>1.000000</td>\n",
       "      <td>1.000000</td>\n",
       "      <td>5.000000</td>\n",
       "      <td>1.000000</td>\n",
       "      <td>1975.000000</td>\n",
       "      <td>1988.000000</td>\n",
       "      <td>5020.000000</td>\n",
       "      <td>...</td>\n",
       "      <td>0.700000</td>\n",
       "      <td>1.510000</td>\n",
       "      <td>1.500000</td>\n",
       "      <td>1.500000</td>\n",
       "      <td>2.000000</td>\n",
       "      <td>36.000000</td>\n",
       "      <td>3.000000</td>\n",
       "      <td>1978.000000</td>\n",
       "      <td>100000.000000</td>\n",
       "      <td>1980.000000</td>\n",
       "    </tr>\n",
       "    <tr>\n",
       "      <th>max</th>\n",
       "      <td>89.300000</td>\n",
       "      <td>179.680000</td>\n",
       "      <td>9.000000</td>\n",
       "      <td>3.000000</td>\n",
       "      <td>7.000000</td>\n",
       "      <td>9.000000</td>\n",
       "      <td>8.000000</td>\n",
       "      <td>1996.000000</td>\n",
       "      <td>2002.000000</td>\n",
       "      <td>8047.000000</td>\n",
       "      <td>...</td>\n",
       "      <td>29.800000</td>\n",
       "      <td>76.640000</td>\n",
       "      <td>145.000000</td>\n",
       "      <td>125.000000</td>\n",
       "      <td>64.500000</td>\n",
       "      <td>7060.000000</td>\n",
       "      <td>5.000000</td>\n",
       "      <td>1998.000000</td>\n",
       "      <td>1000000.000000</td>\n",
       "      <td>2003.000000</td>\n",
       "    </tr>\n",
       "  </tbody>\n",
       "</table>\n",
       "<p>8 rows × 30 columns</p>\n",
       "</div>"
      ],
      "text/plain": [
       "            Latitude      Longitude  Primary Class  Glacier Source  \\\n",
       "count  132890.000000  132890.000000  131406.000000   132746.000000   \n",
       "mean       36.322101      31.902296       5.716231        0.864712   \n",
       "std        27.821062      83.860643       1.768668        0.494326   \n",
       "min       -71.657200    -179.918000       0.000000        0.000000   \n",
       "25%        30.616000     -50.375000       6.000000        1.000000   \n",
       "50%        38.580000      75.484500       6.000000        1.000000   \n",
       "75%        49.223000      85.265750       7.000000        1.000000   \n",
       "max        89.300000     179.680000       9.000000        3.000000   \n",
       "\n",
       "        Basin Count   Glacier Form  Glacier Activity  Activity Start  \\\n",
       "count  15558.000000  131813.000000     132775.000000     4202.000000   \n",
       "mean       1.031752       3.738918          0.620448     1967.112327   \n",
       "std        0.327473       2.255064          1.072336       11.348193   \n",
       "min        1.000000       0.000000          0.000000     1901.000000   \n",
       "25%        1.000000       3.000000          0.000000     1963.000000   \n",
       "50%        1.000000       4.000000          0.000000     1967.000000   \n",
       "75%        1.000000       5.000000          1.000000     1975.000000   \n",
       "max        7.000000       9.000000          8.000000     1996.000000   \n",
       "\n",
       "       Activity End  Minimum Elevation       ...           Mean Width  \\\n",
       "count    143.000000      117162.000000       ...         69966.000000   \n",
       "mean    1986.930070        3502.362063       ...             0.563436   \n",
       "std        6.999648        1735.317842       ...             0.643816   \n",
       "min     1958.000000           0.000000       ...             0.000000   \n",
       "25%     1986.000000        1800.000000       ...             0.300000   \n",
       "50%     1986.000000        3840.000000       ...             0.400000   \n",
       "75%     1988.000000        5020.000000       ...             0.700000   \n",
       "max     2002.000000        8047.000000       ...            29.800000   \n",
       "\n",
       "        Mean Length  Maximum Length  Maximum Length Exposed  \\\n",
       "count  55258.000000   102593.000000            84621.000000   \n",
       "mean       1.392470        1.417326                1.328634   \n",
       "std        2.087975        2.560785                1.984061   \n",
       "min        0.020000        0.060000                0.000000   \n",
       "25%        0.500000        0.500000                0.500000   \n",
       "50%        0.800000        0.800000                0.800000   \n",
       "75%        1.510000        1.500000                1.500000   \n",
       "max       76.640000      145.000000              125.000000   \n",
       "\n",
       "       Maximum Length Ablation    Mean Depth  Depth Accuracy  \\\n",
       "count             17051.000000  70071.000000    78685.000000   \n",
       "mean                  1.621133     28.415085        2.262960   \n",
       "std                   3.286073     46.480501        0.999009   \n",
       "min                   0.000000      0.000000        1.000000   \n",
       "25%                   0.200000     12.000000        1.000000   \n",
       "50%                   0.600000     20.000000        2.000000   \n",
       "75%                   2.000000     36.000000        3.000000   \n",
       "max                  64.500000   7060.000000        5.000000   \n",
       "\n",
       "       Topographic Map Year  Topographic Map Scale  Photograph Year  \n",
       "count          83697.000000           74586.000000     82464.000000  \n",
       "mean            1970.529565           96838.461508      1974.795899  \n",
       "std               10.276403           69675.200534        14.107653  \n",
       "min             1901.000000             750.000000      1900.000000  \n",
       "25%             1966.000000           50000.000000      1968.000000  \n",
       "50%             1972.000000           90000.000000      1971.000000  \n",
       "75%             1978.000000          100000.000000      1980.000000  \n",
       "max             1998.000000         1000000.000000      2003.000000  \n",
       "\n",
       "[8 rows x 30 columns]"
      ]
     },
     "execution_count": 6,
     "metadata": {},
     "output_type": "execute_result"
    }
   ],
   "source": [
    "glacier_data.describe()"
   ]
  },
  {
   "cell_type": "code",
   "execution_count": 7,
   "metadata": {},
   "outputs": [
    {
     "data": {
      "text/plain": [
       "AFRICA                                  59\n",
       "ANTARCTICA                             957\n",
       "ASIA                                 81245\n",
       "EUROPE                               12889\n",
       "NEW ZEALAND AND ANTARCTIC ISLANDS     3704\n",
       "NORTH AMERICA                        24689\n",
       "SOUTH AMERICA                         9347\n",
       "Name: Continent, dtype: int64"
      ]
     },
     "execution_count": 7,
     "metadata": {},
     "output_type": "execute_result"
    }
   ],
   "source": [
    "# Taking a look at what continents are represented in chronological order\n",
    "\n",
    "glacier_data[\"Continent\"].value_counts().sort_index()"
   ]
  },
  {
   "cell_type": "code",
   "execution_count": null,
   "metadata": {},
   "outputs": [
    {
     "data": {
      "image/png": "[encoded data removed]",
      "text/plain": [
       "<matplotlib.figure.Figure at 0x7f7f1041f9b0>"
      ]
     },
     "metadata": {},
     "output_type": "display_data"
    }
   ],
   "source": [
    "# This is essentially a map of the world! The alpha .1 makes it easier to determine concentrations of glaciers\n",
    "\n",
    "glacier_data.plot(kind = \"scatter\", x = \"Longitude\", y = \"Latitude\", alpha = .1)\n",
    "plt.show()"
   ]
  },
  {
   "cell_type": "code",
   "execution_count": null,
   "metadata": {},
   "outputs": [],
   "source": [
    "# Let's see if we can get a better visualization without modifying our data\n",
    "\n",
    "glacier_data.plot(kind = \"scatter\", x = \"Longitude\", y = \"Latitude\", alpha = .3,\n",
    "                 s = glacier_data[\"Glacier Area\"], label = \"Glacier Area\", figsize=(10, 7),\n",
    "                 c = \"Maximum Elevation\", cmap = plt.get_cmap(\"jet\"), colorbar = True,\n",
    "                 )\n",
    "\n",
    "plt.legend()\n",
    "plt.show()"
   ]
  },
  {
   "cell_type": "code",
   "execution_count": null,
   "metadata": {
    "scrolled": true
   },
   "outputs": [],
   "source": [
    "# Let's try setting our c value to Primary Class, since that will be our multi-class label, and see what happens\n",
    "# Also, let's try to minimize the size of the circles by dividing glacier area by 1.10\n",
    "\n",
    "glacier_data.plot(kind = \"scatter\", x = \"Longitude\", y = \"Latitude\", alpha = .4,\n",
    "                 s = glacier_data[\"Glacier Area\"] / 1.10, label = \"Glacier Area\", figsize=(10, 7),\n",
    "                 c = \"Primary Class\", cmap = plt.get_cmap(\"jet\"), colorbar = True,\n",
    "                 )\n",
    "\n",
    "plt.legend()\n",
    "plt.show()"
   ]
  },
  {
   "cell_type": "code",
   "execution_count": null,
   "metadata": {},
   "outputs": [],
   "source": [
    "# Now let's see if we can zoom in more on the glaciers in Central / South America area, since they are harder to see\n",
    "# because the glaciers there typically have less area than elsewhere\n",
    "\n",
    "glacier_data.plot(kind = \"scatter\", x = \"Longitude\", y = \"Latitude\", alpha = .4,\n",
    "                 s = glacier_data[\"Glacier Area\"], label = \"Glacier Area\", figsize=(10, 7),\n",
    "                 c = \"Primary Class\", cmap = plt.get_cmap(\"jet\"), colorbar = True,\n",
    "                 )\n",
    "\n",
    "plt.axis([-80, -60, -40, 0])\n",
    "plt.legend()\n",
    "plt.show()"
   ]
  },
  {
   "cell_type": "markdown",
   "metadata": {},
   "source": [
    "# Info gained from mapping\n",
    "\n",
    "We can clearly see that if you go further north or south, you will typically see higher elevation glaciers, as opposed to the ones found closer to the equator. In addition, if we plot based on primary classes (reference the key above for complete details) we realize that the montain and valley glaciers are usually found within countries (as a decent distance inland), as they should be, like US or Canada or India, etc. and we notice that most of the continental ice sheets and ice fields are found very far north. Also those glaciers are bigger than any others, which makes sense. It's nice to be able to graph this data set like this and realize it on a more global scale!"
   ]
  },
  {
   "cell_type": "code",
   "execution_count": null,
   "metadata": {
    "scrolled": true
   },
   "outputs": [],
   "source": [
    "#We should get 30 graphs since 9 of our attributes are objects\n",
    "\n",
    "%matplotlib inline\n",
    "\n",
    "glacier_data.hist(bins = 50, figsize = (20, 15))\n",
    "plt.show()"
   ]
  },
  {
   "cell_type": "markdown",
   "metadata": {},
   "source": [
    "# Correlation matrix\n",
    "\n",
    "Let's look at the correlation matrix so far to spot any off-the-bat positive / negative correlations!"
   ]
  },
  {
   "cell_type": "code",
   "execution_count": null,
   "metadata": {
    "collapsed": true
   },
   "outputs": [],
   "source": [
    "corr_1 = glacier_data.corr()"
   ]
  },
  {
   "cell_type": "code",
   "execution_count": null,
   "metadata": {},
   "outputs": [],
   "source": [
    "corr_1[\"Longitude\"].sort_values(ascending = False)"
   ]
  },
  {
   "cell_type": "code",
   "execution_count": null,
   "metadata": {},
   "outputs": [],
   "source": [
    "corr_1[\"Maximum Elevation\"].sort_values(ascending = False)"
   ]
  },
  {
   "cell_type": "code",
   "execution_count": null,
   "metadata": {},
   "outputs": [],
   "source": [
    "corr_1[\"Minimum Elevation\"].sort_values(ascending = False)"
   ]
  },
  {
   "cell_type": "code",
   "execution_count": null,
   "metadata": {},
   "outputs": [],
   "source": [
    "#There are no strong correlations with Primary Class, which is good. It means that our dataset is complex!\n",
    "\n",
    "corr_1[\"Primary Class\"].sort_values(ascending = False)"
   ]
  },
  {
   "cell_type": "code",
   "execution_count": null,
   "metadata": {
    "scrolled": true
   },
   "outputs": [],
   "source": [
    "#This is the data that will be used as the multiclass labels, let's take a look at the stats of our future labels\n",
    "\n",
    "glacier_data[\"Primary Class\"].value_counts().sort_index()"
   ]
  },
  {
   "cell_type": "markdown",
   "metadata": {},
   "source": [
    "# Lastly, to visualize, let's look at some scatter plots\n",
    "\n",
    "The most interesting of these is the relation between latitude and max elevation, the data seems to fit a binomial curve, which is nice because it makes our data a little more exciting. The others I have choosen to plot have little correlations, which could mean that our data set is fairly complex."
   ]
  },
  {
   "cell_type": "code",
   "execution_count": null,
   "metadata": {},
   "outputs": [],
   "source": [
    "glacier_data.plot(kind = \"scatter\", x = \"Glacier Area\", y = \"Maximum Elevation\")\n",
    "plt.show()"
   ]
  },
  {
   "cell_type": "code",
   "execution_count": null,
   "metadata": {},
   "outputs": [],
   "source": [
    "glacier_data.plot(kind = \"scatter\", x = \"Glacier Area\", y = \"Minimum Elevation\")\n",
    "plt.show()"
   ]
  },
  {
   "cell_type": "code",
   "execution_count": null,
   "metadata": {},
   "outputs": [],
   "source": [
    "glacier_data.plot(kind = \"scatter\", x = \"Latitude\", y = \"Maximum Elevation\")\n",
    "plt.show()"
   ]
  },
  {
   "cell_type": "code",
   "execution_count": null,
   "metadata": {},
   "outputs": [],
   "source": [
    "glacier_data.plot(kind = \"scatter\", x = \"Longitude\", y = \"Glacier Area\")\n",
    "plt.show()"
   ]
  },
  {
   "cell_type": "markdown",
   "metadata": {},
   "source": [
    "# Copying our dataset\n",
    "\n",
    "Let's copy our data set so that we can refer back to the original at anytime"
   ]
  },
  {
   "cell_type": "code",
   "execution_count": null,
   "metadata": {
    "collapsed": true
   },
   "outputs": [],
   "source": [
    "copy = pd.DataFrame.copy(glacier_data)"
   ]
  },
  {
   "cell_type": "markdown",
   "metadata": {},
   "source": [
    "# Encoding\n",
    "\n",
    "There are some attributes that would likely affect the results, such as the ablation orientation (which is the melting of the glacier in a certain direction) and the accumulation orientation (in what direction has the snow accumlated in). In addition to these, other fields that we will encode are the political unit, continent, location, etc. In short, we are encoding the attributes that could affect the results in our favor. Let's go ahead and do that!"
   ]
  },
  {
   "cell_type": "code",
   "execution_count": null,
   "metadata": {
    "collapsed": true
   },
   "outputs": [],
   "source": [
    "encoder = LabelEncoder()"
   ]
  },
  {
   "cell_type": "code",
   "execution_count": null,
   "metadata": {},
   "outputs": [],
   "source": [
    "ablation_cat = copy[\"Ablation Orientation\"]\n",
    "ablation_cat_encoded = encoder.fit_transform(ablation_cat.astype(str))\n",
    "ablation_cat_encoded"
   ]
  },
  {
   "cell_type": "code",
   "execution_count": null,
   "metadata": {},
   "outputs": [],
   "source": [
    "accumulation_cat = copy[\"Accumulation Orientation\"]\n",
    "accumulation_cat_encoded = encoder.fit_transform(accumulation_cat.astype(str))\n",
    "accumulation_cat_encoded"
   ]
  },
  {
   "cell_type": "code",
   "execution_count": null,
   "metadata": {},
   "outputs": [],
   "source": [
    "political_cat = copy[\"Political Unit\"]\n",
    "political_cat_encoded = encoder.fit_transform(political_cat)\n",
    "political_cat_encoded"
   ]
  },
  {
   "cell_type": "code",
   "execution_count": null,
   "metadata": {},
   "outputs": [],
   "source": [
    "continent_cat = copy[\"Continent\"]\n",
    "continent_cat_encoded = encoder.fit_transform(continent_cat)\n",
    "continent_cat_encoded"
   ]
  },
  {
   "cell_type": "code",
   "execution_count": null,
   "metadata": {},
   "outputs": [],
   "source": [
    "basin_cat = copy[\"Basin Code\"]\n",
    "basin_cat_encoded = encoder.fit_transform(basin_cat)\n",
    "basin_cat_encoded"
   ]
  },
  {
   "cell_type": "code",
   "execution_count": null,
   "metadata": {},
   "outputs": [],
   "source": [
    "location_cat = copy[\"Location Code\"]\n",
    "location_cat_encoded = encoder.fit_transform(location_cat)\n",
    "location_cat_encoded"
   ]
  },
  {
   "cell_type": "code",
   "execution_count": null,
   "metadata": {},
   "outputs": [],
   "source": [
    "glacier_cat = copy[\"Glacier Code\"]\n",
    "glacier_cat_encoded = encoder.fit_transform(glacier_cat.astype(str))\n",
    "glacier_cat_encoded"
   ]
  },
  {
   "cell_type": "code",
   "execution_count": null,
   "metadata": {
    "collapsed": true
   },
   "outputs": [],
   "source": [
    "# Now that we have encoded this data, lets replace the attributes in copy with the encoded versions\n",
    "\n",
    "copy[\"Ablation Orientation\"] = ablation_cat_encoded\n",
    "copy[\"Accumulation Orientation\"] = accumulation_cat_encoded\n",
    "copy[\"Political Unit\"] = political_cat_encoded\n",
    "copy[\"Continent\"] = continent_cat_encoded\n",
    "copy[\"Basin Code\"] = basin_cat_encoded\n",
    "copy[\"Location Code\"] = location_cat_encoded\n",
    "copy[\"Glacier Code\"] = glacier_cat_encoded"
   ]
  },
  {
   "cell_type": "code",
   "execution_count": null,
   "metadata": {},
   "outputs": [],
   "source": [
    "# Now lets compute the histograms again with the added columns\n",
    "\n",
    "%matplotlib inline\n",
    "\n",
    "copy.hist(bins = 50, figsize = (20, 15))\n",
    "plt.show()"
   ]
  },
  {
   "cell_type": "code",
   "execution_count": null,
   "metadata": {},
   "outputs": [],
   "source": [
    "copy.info()"
   ]
  },
  {
   "cell_type": "markdown",
   "metadata": {},
   "source": [
    "# Removing some of the attributes\n",
    "\n",
    "Now that we have converted some of the attributes to int's to aid in our goal of multi-class classification, we can go ahead and remove some of the attributes that will likely not affect our results, attributes such as a glaciers name."
   ]
  },
  {
   "cell_type": "code",
   "execution_count": null,
   "metadata": {
    "collapsed": true
   },
   "outputs": [],
   "source": [
    "#remove Glacier Name and Glacier ID\n",
    "\n",
    "copy = copy.drop(\"Glacier Name\", 1)\n",
    "copy = copy.drop(\"Glacier ID\", 1)"
   ]
  },
  {
   "cell_type": "code",
   "execution_count": null,
   "metadata": {
    "scrolled": true
   },
   "outputs": [],
   "source": [
    "copy.head(5)"
   ]
  },
  {
   "cell_type": "code",
   "execution_count": null,
   "metadata": {
    "scrolled": true
   },
   "outputs": [],
   "source": [
    "# We were thinking about removing some of the attributes which see many NaN values, but after doing\n",
    "# a value_counts() on them, we realized that it would make more sense to include them and use the\n",
    "# imputer on the rest\n",
    "\n",
    "copy[\"Maximum Length Exposed\"].value_counts()"
   ]
  },
  {
   "cell_type": "code",
   "execution_count": null,
   "metadata": {
    "scrolled": true
   },
   "outputs": [],
   "source": [
    "copy[\"Mean Depth\"].value_counts()"
   ]
  },
  {
   "cell_type": "code",
   "execution_count": null,
   "metadata": {
    "collapsed": true
   },
   "outputs": [],
   "source": [
    "# We experiemnted with removing the attributes that have a lot of missing values, in a couple of cases accuracy\n",
    "# measures increased by a point or two, but overall it worsened the experience, so we decided to just do the \n",
    "# imputer\n",
    "\n",
    "# FOR THIS TRIAL try removing a few more attributes\n",
    "\n",
    "# copy = copy.drop(\"Maximum Length Exposed\", 1)\n",
    "# copy = copy.drop(\"Maximum Length Ablation\", 1)\n",
    "# copy = copy.drop(\"Mean Depth\", 1)\n",
    "# copy = copy.drop(\"Depth Accuracy\", 1)"
   ]
  },
  {
   "cell_type": "markdown",
   "metadata": {},
   "source": [
    "# Now we need to focus on cleaning the data we have up\n",
    "\n",
    "We'll start by getting rid of all of the NaN values in our dataset, we will use the imputer to square this away!"
   ]
  },
  {
   "cell_type": "code",
   "execution_count": null,
   "metadata": {
    "collapsed": true
   },
   "outputs": [],
   "source": [
    "imputer = Imputer(strategy = \"median\") # we tried mean here, but the program wouldn't run"
   ]
  },
  {
   "cell_type": "code",
   "execution_count": null,
   "metadata": {},
   "outputs": [],
   "source": [
    "imputer.fit(copy)"
   ]
  },
  {
   "cell_type": "code",
   "execution_count": null,
   "metadata": {
    "collapsed": true
   },
   "outputs": [],
   "source": [
    "X = imputer.transform(copy)"
   ]
  },
  {
   "cell_type": "code",
   "execution_count": null,
   "metadata": {},
   "outputs": [],
   "source": [
    "X.shape"
   ]
  },
  {
   "cell_type": "code",
   "execution_count": null,
   "metadata": {},
   "outputs": [],
   "source": [
    "transform_copy = pd.DataFrame(X, columns = copy.columns)\n",
    "transform_copy"
   ]
  },
  {
   "cell_type": "code",
   "execution_count": null,
   "metadata": {
    "collapsed": true
   },
   "outputs": [],
   "source": [
    "# Now let's re-examine the correlation matrix to see if there are any new points of interest\n",
    "\n",
    "corr_2 = transform_copy.corr()"
   ]
  },
  {
   "cell_type": "code",
   "execution_count": null,
   "metadata": {},
   "outputs": [],
   "source": [
    "# When looking at the longitude, we notice that Continent, one of the attributes that we encoded, has a very high\n",
    "# negative correlation, so it seems like it was worth while to encode a few of the attributes\n",
    "\n",
    "corr_2[\"Longitude\"].sort_values(ascending = False)"
   ]
  },
  {
   "cell_type": "code",
   "execution_count": null,
   "metadata": {},
   "outputs": [],
   "source": [
    "corr_2[\"Maximum Elevation\"].sort_values(ascending = False)"
   ]
  },
  {
   "cell_type": "code",
   "execution_count": null,
   "metadata": {
    "scrolled": true
   },
   "outputs": [],
   "source": [
    "corr_2[\"Ablation Orientation\"].sort_values(ascending = False)"
   ]
  },
  {
   "cell_type": "code",
   "execution_count": null,
   "metadata": {
    "scrolled": true
   },
   "outputs": [],
   "source": [
    "corr_2[\"Accumulation Orientation\"].sort_values(ascending = False)"
   ]
  },
  {
   "cell_type": "code",
   "execution_count": null,
   "metadata": {
    "scrolled": true
   },
   "outputs": [],
   "source": [
    "corr_2[\"Continent\"].sort_values(ascending = False)"
   ]
  },
  {
   "cell_type": "code",
   "execution_count": null,
   "metadata": {
    "scrolled": true
   },
   "outputs": [],
   "source": [
    "corr_2[\"Political Unit\"].sort_values(ascending = False)"
   ]
  },
  {
   "cell_type": "markdown",
   "metadata": {},
   "source": [
    "# Split into test and train sets!"
   ]
  },
  {
   "cell_type": "code",
   "execution_count": null,
   "metadata": {
    "collapsed": true
   },
   "outputs": [],
   "source": [
    "train_set, test_set = train_test_split(transform_copy, test_size = 0.2, random_state = 42)"
   ]
  },
  {
   "cell_type": "code",
   "execution_count": null,
   "metadata": {},
   "outputs": [],
   "source": [
    "train_set.head(5)"
   ]
  },
  {
   "cell_type": "code",
   "execution_count": null,
   "metadata": {},
   "outputs": [],
   "source": [
    "test_set.head(5)"
   ]
  },
  {
   "cell_type": "code",
   "execution_count": null,
   "metadata": {
    "collapsed": true
   },
   "outputs": [],
   "source": [
    "# Here we are further splitting, since the y data will be the classes and the x data will be the rest of the data\n",
    "\n",
    "y_train = train_set[\"Primary Class\"]\n",
    "y_test = test_set[\"Primary Class\"]\n",
    "x_test = test_set.drop(\"Primary Class\", 1)\n",
    "x_train = train_set.drop(\"Primary Class\", 1)"
   ]
  },
  {
   "cell_type": "code",
   "execution_count": null,
   "metadata": {},
   "outputs": [],
   "source": [
    "y_test.head(5) # checking out the classes"
   ]
  },
  {
   "cell_type": "code",
   "execution_count": null,
   "metadata": {},
   "outputs": [],
   "source": [
    "x_test.head(5)"
   ]
  },
  {
   "cell_type": "markdown",
   "metadata": {},
   "source": [
    "# Non-linear Separation Visualization\n",
    "\n",
    "As you can see below, our data is not very separable when we compare any two attributes, which means that we have a complex dataset.\n",
    "\n",
    "To minimize the output, we print out the first 51 graphs, if we didn't limit the number of graphs displayed, over 1,000 would be printed to the screen. The first 51 are fairly representative of all of the graphs. You cannot observe separation in any of them, which means that our data set and task is complex; especially since we are doing multiclass classification.\n",
    "\n",
    "Since we are classifying based on 10 classes, it makes it even more non-linearly separable. You'll see that when plotted there is no easy way to separate the data. Maybe you could do some polynomial work on the data, but I would bet that the result would remain the same."
   ]
  },
  {
   "cell_type": "code",
   "execution_count": null,
   "metadata": {},
   "outputs": [],
   "source": [
    "# Here we are filling an array of the top three important features, as ranked by the random forest (later on in the code)\n",
    "# The next three features are features that are somewhat important!\n",
    "\n",
    "first = x_train.columns.get_loc(\"Glacier Form\")\n",
    "second = x_train.columns.get_loc(\"Glacier Area\")\n",
    "third = x_train.columns.get_loc(\"Mean Depth\")\n",
    "fourth = x_train.columns.get_loc(\"Latitude\")\n",
    "fifth = x_train.columns.get_loc(\"Maximum Length\")\n",
    "sixth = x_train.columns.get_loc(\"Area Exposed\")\n",
    "\n",
    "array_of_indexes = [first, second, third, fourth, fifth, sixth]\n",
    "array_of_indexes"
   ]
  },
  {
   "cell_type": "code",
   "execution_count": null,
   "metadata": {
    "collapsed": true
   },
   "outputs": [],
   "source": [
    "x_train_copy = x_train.values\n",
    "y_train_copy = y_train.values"
   ]
  },
  {
   "cell_type": "code",
   "execution_count": null,
   "metadata": {
    "scrolled": true
   },
   "outputs": [],
   "source": [
    "for temp1 in range(len(array_of_indexes)):\n",
    "    for temp2 in range(len(array_of_indexes)):\n",
    "        if (temp1 == temp2):\n",
    "            print(\"\")\n",
    "        else:\n",
    "            plot_dataset(x_train_copy, y_train_copy, [x_train_copy[:, array_of_indexes[temp1]].min() - 10, x_train_copy[:, array_of_indexes[temp1]].max() + 10, x_train_copy[:, array_of_indexes[temp2]].min() - 10, x_train_copy[:, array_of_indexes[temp2]].max() + 10], array_of_indexes[temp1], array_of_indexes[temp2]) #Departure time and distance plotted\n",
    "            plt.show()"
   ]
  },
  {
   "cell_type": "markdown",
   "metadata": {},
   "source": [
    "# Decision Tree Classifier (1-split)"
   ]
  },
  {
   "cell_type": "code",
   "execution_count": null,
   "metadata": {
    "collapsed": true
   },
   "outputs": [],
   "source": [
    "dt_clf = DecisionTreeClassifier(random_state = 42)"
   ]
  },
  {
   "cell_type": "code",
   "execution_count": null,
   "metadata": {},
   "outputs": [],
   "source": [
    "dt_clf.fit(x_train, y_train)\n",
    "dt_clf"
   ]
  },
  {
   "cell_type": "code",
   "execution_count": null,
   "metadata": {},
   "outputs": [],
   "source": [
    "dt_clf.classes_ # verifying that we are using multiple classes"
   ]
  },
  {
   "cell_type": "code",
   "execution_count": null,
   "metadata": {},
   "outputs": [],
   "source": [
    "cross_val_score(dt_clf, x_train, y_train, cv = 3, scoring = \"accuracy\")"
   ]
  },
  {
   "cell_type": "code",
   "execution_count": null,
   "metadata": {},
   "outputs": [],
   "source": [
    "y_train_predict_dt = cross_val_predict(dt_clf, x_train, y_train, cv = 3)\n",
    "y_train_predict_dt"
   ]
  },
  {
   "cell_type": "code",
   "execution_count": null,
   "metadata": {},
   "outputs": [],
   "source": [
    "# The confusion matrix is a bit different for multi-class problems\n",
    "\n",
    "# errors per class?\n",
    "confusion_dt = confusion_matrix(y_train, y_train_predict_dt)\n",
    "confusion_dt"
   ]
  },
  {
   "cell_type": "code",
   "execution_count": null,
   "metadata": {},
   "outputs": [],
   "source": [
    "plt.matshow(confusion_dt, cmap = plt.cm.gray)\n",
    "plt.show()"
   ]
  },
  {
   "cell_type": "markdown",
   "metadata": {},
   "source": [
    "# Class Error\n",
    "\n",
    "Since we are doing a multi-class classification problem, we cannot compute the ROC curve in the same manner as binary classification, so instead we are plotting error by class to show performance in this regard. In the below plot, rows represent the actual class and the columns represent predicted ones. In other words, the brighter a column is, the more times a class was misclassified as that columns class. The below plot is very nice for the decision tree classifier, as there are virtually no super bright columns."
   ]
  },
  {
   "cell_type": "code",
   "execution_count": null,
   "metadata": {
    "collapsed": true
   },
   "outputs": [],
   "source": [
    "sum_of_row = confusion_dt.sum(axis = 1, keepdims = True)\n",
    "norm_conf_dt = confusion_dt / sum_of_row"
   ]
  },
  {
   "cell_type": "code",
   "execution_count": null,
   "metadata": {},
   "outputs": [],
   "source": [
    "np.fill_diagonal(norm_conf_dt, 0)\n",
    "plt.matshow(norm_conf_dt, cmap = plt.cm.gray)\n",
    "plt.show()"
   ]
  },
  {
   "cell_type": "code",
   "execution_count": null,
   "metadata": {},
   "outputs": [],
   "source": [
    "precision_score(y_train, y_train_predict_dt, average = 'weighted')"
   ]
  },
  {
   "cell_type": "code",
   "execution_count": null,
   "metadata": {},
   "outputs": [],
   "source": [
    "recall_score(y_train, y_train_predict_dt, average = 'weighted')"
   ]
  },
  {
   "cell_type": "code",
   "execution_count": null,
   "metadata": {},
   "outputs": [],
   "source": [
    "f1_score(y_train, y_train_predict_dt, average = 'weighted')"
   ]
  },
  {
   "cell_type": "code",
   "execution_count": null,
   "metadata": {},
   "outputs": [],
   "source": [
    "dt_predictions = dt_clf.predict(x_test) #predict how the classes from our test set\n",
    "dt_predictions"
   ]
  },
  {
   "cell_type": "code",
   "execution_count": null,
   "metadata": {},
   "outputs": [],
   "source": [
    "print(accuracy_score(y_test, dt_predictions)) #88.5% accurate on our test set!!!!"
   ]
  },
  {
   "cell_type": "markdown",
   "metadata": {},
   "source": [
    "# Base performance\n",
    "\n",
    "Our base performance when using the decision tree classifier is the 87.90% f1 score."
   ]
  },
  {
   "cell_type": "markdown",
   "metadata": {},
   "source": [
    "# Bagging Classifier\n",
    "\n",
    "Now lets take a look at our bagging classifer!"
   ]
  },
  {
   "cell_type": "code",
   "execution_count": null,
   "metadata": {
    "collapsed": true
   },
   "outputs": [],
   "source": [
    "bagg_clf = BaggingClassifier(\n",
    "    DecisionTreeClassifier(), n_estimators = 500,\n",
    "    max_samples = 100, bootstrap = True, n_jobs = -1)"
   ]
  },
  {
   "cell_type": "code",
   "execution_count": null,
   "metadata": {},
   "outputs": [],
   "source": [
    "bagg_clf.fit(x_train, y_train)\n",
    "bagg_clf"
   ]
  },
  {
   "cell_type": "code",
   "execution_count": null,
   "metadata": {},
   "outputs": [],
   "source": [
    "bagg_clf.classes_"
   ]
  },
  {
   "cell_type": "code",
   "execution_count": null,
   "metadata": {},
   "outputs": [],
   "source": [
    "cross_val_score(bagg_clf, x_train, y_train, cv = 3, scoring = \"accuracy\")"
   ]
  },
  {
   "cell_type": "code",
   "execution_count": null,
   "metadata": {},
   "outputs": [],
   "source": [
    "y_train_predict_bagg = cross_val_predict(bagg_clf, x_train, y_train, cv = 3)\n",
    "y_train_predict_bagg"
   ]
  },
  {
   "cell_type": "code",
   "execution_count": null,
   "metadata": {},
   "outputs": [],
   "source": [
    "confusion_bagg = confusion_matrix(y_train, y_train_predict_bagg)\n",
    "confusion_bagg"
   ]
  },
  {
   "cell_type": "code",
   "execution_count": null,
   "metadata": {},
   "outputs": [],
   "source": [
    "plt.matshow(confusion_bagg, cmap = plt.cm.gray)\n",
    "plt.show()"
   ]
  },
  {
   "cell_type": "code",
   "execution_count": null,
   "metadata": {
    "collapsed": true
   },
   "outputs": [],
   "source": [
    "sum_of_row_bagg = confusion_bagg.sum(axis = 1, keepdims = True)\n",
    "norm_conf_bagg = confusion_bagg / sum_of_row_bagg"
   ]
  },
  {
   "cell_type": "code",
   "execution_count": null,
   "metadata": {},
   "outputs": [],
   "source": [
    "np.fill_diagonal(norm_conf_bagg, 0)\n",
    "plt.matshow(norm_conf_bagg, cmap = plt.cm.gray)\n",
    "plt.show()"
   ]
  },
  {
   "cell_type": "markdown",
   "metadata": {},
   "source": [
    "# Quick evaluation\n",
    "\n",
    "As you can see from the above plot, many classes were misclassified as class 6, especially when the class was actually a class 2 glacier."
   ]
  },
  {
   "cell_type": "code",
   "execution_count": null,
   "metadata": {},
   "outputs": [],
   "source": [
    "precision_score(y_train, y_train_predict_bagg, average = 'weighted')"
   ]
  },
  {
   "cell_type": "code",
   "execution_count": null,
   "metadata": {},
   "outputs": [],
   "source": [
    "recall_score(y_train, y_train_predict_bagg, average = 'weighted')"
   ]
  },
  {
   "cell_type": "code",
   "execution_count": null,
   "metadata": {},
   "outputs": [],
   "source": [
    "f1_score(y_train, y_train_predict_bagg, average = 'weighted')"
   ]
  },
  {
   "cell_type": "code",
   "execution_count": null,
   "metadata": {},
   "outputs": [],
   "source": [
    "bagg_predictions = bagg_clf.predict(x_test) #predict how the classes from our test set\n",
    "bagg_predictions"
   ]
  },
  {
   "cell_type": "code",
   "execution_count": null,
   "metadata": {},
   "outputs": [],
   "source": [
    "print(accuracy_score(y_test, bagg_predictions)) #88.5% accurate on our test set!!!!"
   ]
  },
  {
   "cell_type": "markdown",
   "metadata": {},
   "source": [
    "# Random Forest Ensemble"
   ]
  },
  {
   "cell_type": "code",
   "execution_count": null,
   "metadata": {
    "collapsed": true
   },
   "outputs": [],
   "source": [
    "random_clf = RandomForestClassifier(n_estimators = 500, max_leaf_nodes = 16, n_jobs = -1)"
   ]
  },
  {
   "cell_type": "code",
   "execution_count": null,
   "metadata": {},
   "outputs": [],
   "source": [
    "random_clf.fit(x_train, y_train)\n",
    "random_clf"
   ]
  },
  {
   "cell_type": "code",
   "execution_count": null,
   "metadata": {},
   "outputs": [],
   "source": [
    "random_clf.classes_"
   ]
  },
  {
   "cell_type": "code",
   "execution_count": null,
   "metadata": {},
   "outputs": [],
   "source": [
    "cross_val_score(random_clf, x_train, y_train, cv = 3, scoring = \"accuracy\")"
   ]
  },
  {
   "cell_type": "code",
   "execution_count": null,
   "metadata": {},
   "outputs": [],
   "source": [
    "y_train_predict_random = cross_val_predict(random_clf, x_train, y_train, cv = 3)\n",
    "y_train_predict_random"
   ]
  },
  {
   "cell_type": "code",
   "execution_count": null,
   "metadata": {},
   "outputs": [],
   "source": [
    "confusion_random = confusion_matrix(y_train, y_train_predict_random)\n",
    "confusion_random"
   ]
  },
  {
   "cell_type": "code",
   "execution_count": null,
   "metadata": {},
   "outputs": [],
   "source": [
    "plt.matshow(confusion_random, cmap = plt.cm.gray)\n",
    "plt.show()"
   ]
  },
  {
   "cell_type": "code",
   "execution_count": null,
   "metadata": {
    "collapsed": true
   },
   "outputs": [],
   "source": [
    "sum_of_row_rf = confusion_random.sum(axis = 1, keepdims = True)\n",
    "norm_conf_rf = confusion_random / sum_of_row_rf"
   ]
  },
  {
   "cell_type": "code",
   "execution_count": null,
   "metadata": {
    "scrolled": true
   },
   "outputs": [],
   "source": [
    "np.fill_diagonal(norm_conf_rf, 0)\n",
    "plt.matshow(norm_conf_rf, cmap = plt.cm.gray)\n",
    "plt.show()"
   ]
  },
  {
   "cell_type": "markdown",
   "metadata": {},
   "source": [
    "# Class Error Evaluation\n",
    "\n",
    "We have the same problem with the random forest ensemble that we do with the bagg, many actual classes get misclassified as class 6. That seems to be where most of the error lies. Let's see if adaboost ensemble suffers from the same issues."
   ]
  },
  {
   "cell_type": "code",
   "execution_count": null,
   "metadata": {},
   "outputs": [],
   "source": [
    "precision_score(y_train, y_train_predict_random, average = 'weighted')"
   ]
  },
  {
   "cell_type": "code",
   "execution_count": null,
   "metadata": {},
   "outputs": [],
   "source": [
    "recall_score(y_train, y_train_predict_random, average = 'weighted')"
   ]
  },
  {
   "cell_type": "code",
   "execution_count": null,
   "metadata": {},
   "outputs": [],
   "source": [
    "f1_score(y_train, y_train_predict_random, average = 'weighted')"
   ]
  },
  {
   "cell_type": "code",
   "execution_count": null,
   "metadata": {},
   "outputs": [],
   "source": [
    "random_predictions = random_clf.predict(x_test) #predict how the classes from our test set\n",
    "random_predictions"
   ]
  },
  {
   "cell_type": "code",
   "execution_count": null,
   "metadata": {},
   "outputs": [],
   "source": [
    "print(accuracy_score(y_test, random_predictions)) "
   ]
  },
  {
   "cell_type": "markdown",
   "metadata": {},
   "source": [
    "# Adaboost Classifier"
   ]
  },
  {
   "cell_type": "code",
   "execution_count": null,
   "metadata": {
    "collapsed": true
   },
   "outputs": [],
   "source": [
    "ada_clf = AdaBoostClassifier(\n",
    "    DecisionTreeClassifier(max_depth = 1), n_estimators = 200,\n",
    "    algorithm = \"SAMME.R\", learning_rate = .5)"
   ]
  },
  {
   "cell_type": "code",
   "execution_count": null,
   "metadata": {},
   "outputs": [],
   "source": [
    "ada_clf.fit(x_train, y_train)\n",
    "ada_clf"
   ]
  },
  {
   "cell_type": "code",
   "execution_count": null,
   "metadata": {},
   "outputs": [],
   "source": [
    "ada_clf.classes_"
   ]
  },
  {
   "cell_type": "code",
   "execution_count": null,
   "metadata": {},
   "outputs": [],
   "source": [
    "cross_val_score(ada_clf, x_train, y_train, cv = 3, scoring = \"accuracy\")"
   ]
  },
  {
   "cell_type": "code",
   "execution_count": null,
   "metadata": {},
   "outputs": [],
   "source": [
    "y_train_predict_ada = cross_val_predict(ada_clf, x_train, y_train, cv = 3)\n",
    "y_train_predict_ada"
   ]
  },
  {
   "cell_type": "code",
   "execution_count": null,
   "metadata": {},
   "outputs": [],
   "source": [
    "confusion_ada = confusion_matrix(y_train, y_train_predict_ada)\n",
    "confusion_ada"
   ]
  },
  {
   "cell_type": "code",
   "execution_count": null,
   "metadata": {},
   "outputs": [],
   "source": [
    "plt.matshow(confusion_ada, cmap = plt.cm.gray)\n",
    "plt.show()"
   ]
  },
  {
   "cell_type": "code",
   "execution_count": null,
   "metadata": {
    "collapsed": true
   },
   "outputs": [],
   "source": [
    "sum_of_row_ada = confusion_ada.sum(axis = 1, keepdims = True)\n",
    "norm_conf_ada = confusion_ada / sum_of_row_ada"
   ]
  },
  {
   "cell_type": "code",
   "execution_count": null,
   "metadata": {},
   "outputs": [],
   "source": [
    "np.fill_diagonal(norm_conf_ada, 0)\n",
    "plt.matshow(norm_conf_ada, cmap = plt.cm.gray)\n",
    "plt.show()"
   ]
  },
  {
   "cell_type": "markdown",
   "metadata": {},
   "source": [
    "# Class Error Evaluation\n",
    "\n",
    "As you can see from the above plot of class error, many of the columns are bright, which means that many classes got misclassified. This lines up with the other performance measures that we test. The adaboost ensemble is not performing well for this project."
   ]
  },
  {
   "cell_type": "code",
   "execution_count": null,
   "metadata": {},
   "outputs": [],
   "source": [
    "precision_score(y_train, y_train_predict_ada, average = 'weighted')"
   ]
  },
  {
   "cell_type": "code",
   "execution_count": null,
   "metadata": {},
   "outputs": [],
   "source": [
    "recall_score(y_train, y_train_predict_ada, average = 'weighted')"
   ]
  },
  {
   "cell_type": "code",
   "execution_count": null,
   "metadata": {},
   "outputs": [],
   "source": [
    "f1_score(y_train, y_train_predict_ada, average = 'weighted')"
   ]
  },
  {
   "cell_type": "code",
   "execution_count": null,
   "metadata": {},
   "outputs": [],
   "source": [
    "ada_predictions = ada_clf.predict(x_test) #predict how the classes from our test set\n",
    "ada_predictions"
   ]
  },
  {
   "cell_type": "code",
   "execution_count": null,
   "metadata": {},
   "outputs": [],
   "source": [
    "print(accuracy_score(y_test, ada_predictions))"
   ]
  },
  {
   "cell_type": "markdown",
   "metadata": {},
   "source": [
    "# Best Ensemble method\n",
    "\n",
    "For our purposes and data set the best ensemble method to use is the bagging classifier. It outperformed the random forest and the adaboost ensemble methods, especially the adaboost. Adaboost saw the worst results of the three ensemble classifiers we tested. While bagging classifier was the best, a kind of close second was the random forest, which saw similar results that were only slightly worse than bagging. With this being said though, it's worth pointing out that the best classifier we tested was actually the base decision tree classifier that we implemented, it saw much better results than any of the ensemble classifiers we tested and compared it with. This was surprising, initially we thought that we would see the best performance from random forest ensemble, since in the past random forest always seemed to yield the best results. We do have a different data set though, so the effectiveness of each classifier probably varies by data sets and other variables such as whether or not its a binary or multi-class classification task."
   ]
  },
  {
   "cell_type": "markdown",
   "metadata": {},
   "source": [
    "# Ranking Feature Importance\n",
    "\n",
    "Next, we'll see how the Random Forest Classifier ranked each feature in terms of relative importance!"
   ]
  },
  {
   "cell_type": "code",
   "execution_count": null,
   "metadata": {},
   "outputs": [],
   "source": [
    "# Let's take a look at the raw feature importance's\n",
    "\n",
    "random_clf.feature_importances_"
   ]
  },
  {
   "cell_type": "code",
   "execution_count": null,
   "metadata": {
    "scrolled": true
   },
   "outputs": [],
   "source": [
    "# Now let's make it easier for the user to view\n",
    "\n",
    "for name, score in zip(list(x_train), random_clf.feature_importances_):\n",
    "    print(name, score) # remember these are percents, so multiple by 100"
   ]
  },
  {
   "cell_type": "markdown",
   "metadata": {},
   "source": [
    "# Results\n",
    "\n",
    "When we look at the above results of the feature importances we can see that the most important feature in determinations is glacier form, which is at 17%. Other than this attribute, there are two more whose percents are above 10%, glacier area (10.5 %) and mean depth (10.38%). It's odd that mean depth has such a high weight on the results of random forest, mostly because the majority of its values were NaN, so we used the imputer to find the median. We experimented with dropping this column completely, but we saw worse results in most of our classifiers, so we decided to keep this field. It's just odd because the majority of the values for any given glacier is the median of mean depth before the NaN values were ruled out. There were a few attributes that saw a 0% importance, activity end, basin count, mean elevation accumulation and snow line accuracy. In the future we could probably just go ahead and drop these columns from the calculations completely, but we kept them in our data set so that we could show and realize some 0% feature importances."
   ]
  },
  {
   "cell_type": "markdown",
   "metadata": {},
   "source": [
    "# Present Solution\n",
    "\n",
    "If we were pitching this to a client, we would present the solution that saw the best performance / accuracy measures. If the client requested ensemble methods to be used then we would inform them that in their context the bagging classifier would be the best ensemble method to use. We would tell them that random forest would be a very close alternative and to stay away from ada boost (at least with the parameters that we used). For the clients data, and although we say good results when classifying glacier classes, we may suggest that the user use different labels to see if they could realize better results; different labels such as maybe continent or political unit. The user would have to change up their goal slightly, but it may be worth it if they could get better results. In addition, by first classifying according to the continent or political unit, it may segway into finding out more info about the data. So the client could revisit the primary class labels and implement different attributes (in that they could create their own based on their findings classifying the continent or political unit).\n",
    "\n",
    "So far we learned that it is possible to realize good results when doing multi-class classification, even with 10 classes. We were surprised that the best classifier that we used was the base decision tree classifier, we thought for sure each and every ensemble classifier would out-perform it. In the future maybe we could do grid search and find the optimal hyper parameters for the ensemble methods. If we did this, I am sure we could get better results. Also, something else that may be affecting this is the data, if we used an entirely different data set, then we may realize completely different results. We may see that the ensemble methods performed way better than the base classifiers."
   ]
  },
  {
   "cell_type": "markdown",
   "metadata": {},
   "source": [
    "# Plan for the Future\n",
    "\n",
    "In the end, each ensemble method (and the base decision tree classifier) except for adaboost performed well. The best was the decision tree classifier, which is ironic because it's not an ensemble implementation. One reason that this could be the case is because we need more data. Our data set wasn't small but it also wasn't large. In the future, we can get more data, which will probably improve the performance of the various ensemble methods. Other than the need for more data, our system works well and should work just as well in the future (actually, it may get better). As of now, we are satisfied with the system and saw great multi-class classification accuracy. Also, as we mentioned previously, if we performed grid search to find the optimal parameters to use for the ensemble methods, we could likely get way better performance from them. This would be something to implement in the future as well!\n",
    "\n",
    "Additionally, a theme with class errors that presented itself in all of the ensembles was the fact that various class glaciers kept getting misclassified as class 6. In the future we could explore this issue and maybe combine classes, or some other alternative, and see if we can get the performance up. Maybe we could do something in regards to dimensionality reduction, especially since some of the features are 0% important to the random forest ensemble."
   ]
  },
  {
   "cell_type": "code",
   "execution_count": null,
   "metadata": {
    "collapsed": true
   },
   "outputs": [],
   "source": []
  }
 ],
 "metadata": {
  "kernelspec": {
   "display_name": "Python 3",
   "language": "python",
   "name": "python3"
  },
  "language_info": {
   "codemirror_mode": {
    "name": "ipython",
    "version": 3
   },
   "file_extension": ".py",
   "mimetype": "text/x-python",
   "name": "python",
   "nbconvert_exporter": "python",
   "pygments_lexer": "ipython3",
   "version": "3.6.1"
  }
 },
 "nbformat": 4,
 "nbformat_minor": 2
}
