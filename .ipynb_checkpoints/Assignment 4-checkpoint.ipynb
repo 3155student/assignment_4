{
 "cells": [
  {
   "cell_type": "markdown",
   "metadata": {},
   "source": [
    "# Assignment 4 - Jackie Woodlief, Jeff Sharpe"
   ]
  },
  {
   "cell_type": "markdown",
   "metadata": {},
   "source": [
    "### Big Picture\n",
    "Hard Voting: uses predicted class labels for majority rule voting\n",
    "\n",
    "Soft Voting: predicts the class label based on the argmax of the sums of the predicted probabilities\n",
    "\n",
    "For this project we are implementing multiclass classification to determine which of the 9 classes a glacier belongs to (for our dataset, 0-8). We will be doing various data discovery tasks to start with to get a better idea of our data. In particular, we will be plotting the glaciers on a simulated globe based on the given lattitudes and longitudes."
   ]
  },
  {
   "cell_type": "markdown",
   "metadata": {},
   "source": [
    "### Get the Data\n",
    "\n",
    "Dataset: https://www.kaggle.com/nsidcorg/glacier-inventory\n",
    "Size: 3.2 MB\n",
    "Entries: 132889\n",
    "Features: 39\n",
    "\n",
    "We looked at, and were seriously considering, several data sets. In the end we choose this one because of it's geographic element and the prospects of implementing multi-class classification. Since we have only worked binary classification for the previous assignments, we thought we would try something more advanced. We are also curious as to how accurate the end results will be.\n",
    "\n",
    "Some of the noticeable stats that you will observe right away is that some of the attributes have a lot of missing values, we'll have to figure out if we should remove those attributes or if it would be better to use an imputer to fill in the missing values. Also, immediately, you can see that some of the attributes are, as they should be, positively correlated, such as longitude and mean elevation accumulation. There are a couple more observations like this that are more-or-less like common sense observations, but it's still good to explore these because it may be unintuitive.\n",
    "\n",
    "Below is our primary class key, we had to find this data from another source since our data set only gave numbers between 0 and 9 (inclusive).\n",
    "\n",
    "Primary Class Key:  \n",
    "0: Uncertain/misc.  \n",
    "1: Continental Ice Sheet  \n",
    "2: Ice-field  \n",
    "3: Ice Cap  \n",
    "4: Outlet Glacier  \n",
    "5: Valley Glacier  \n",
    "6: Mountain Glacier  \n",
    "7: Snowfield/Glacieret  \n",
    "8: Ice Shelf  \n",
    "9: Rock Glacier  "
   ]
  },
  {
   "cell_type": "code",
   "execution_count": 88,
   "metadata": {
    "collapsed": true
   },
   "outputs": [],
   "source": [
    "#These are all the import statements!\n",
    "\n",
    "import pandas as pd\n",
    "import numpy as np\n",
    "import matplotlib.pyplot as plt\n",
    "from sklearn.preprocessing import Imputer, LabelEncoder\n",
    "from sklearn.model_selection import train_test_split, cross_val_score, cross_val_predict\n",
    "from sklearn.tree import DecisionTreeClassifier\n",
    "from sklearn.metrics import confusion_matrix, precision_score, recall_score, f1_score, precision_recall_curve, roc_curve\n",
    "from sklearn.metrics import roc_auc_score, accuracy_score\n",
    "from sklearn.ensemble import BaggingClassifier, RandomForestClassifier, AdaBoostClassifier\n"
   ]
  },
  {
   "cell_type": "code",
   "execution_count": 89,
   "metadata": {
    "collapsed": true
   },
   "outputs": [],
   "source": [
    "def plot_dataset(X, y, axes, col1, col2):\n",
    "    plt.plot(X[:, col1][y==0], X[:, col2][y==0], \"gv\")\n",
    "    plt.plot(X[:, col1][y==1], X[:, col2][y==1], \"c^\")\n",
    "    plt.plot(X[:, col1][y==2], X[:, col2][y==2], \"m<\")\n",
    "    plt.plot(X[:, col1][y==3], X[:, col2][y==3], \"yv\")\n",
    "    plt.plot(X[:, col1][y==4], X[:, col2][y==4], \"k3\")\n",
    "    plt.plot(X[:, col1][y==5], X[:, col2][y==5], \"wo\")\n",
    "    plt.plot(X[:, col1][y==6], X[:, col2][y==6], \"bd\")\n",
    "    plt.plot(X[:, col1][y==7], X[:, col2][y==7], \"ro\")\n",
    "    plt.plot(X[:, col1][y==8], X[:, col2][y==8], \"gd\")\n",
    "    plt.plot(X[:, col1][y==9], X[:, col2][y==9], \"gs\")\n",
    "    plt.axis(axes)\n",
    "    plt.grid(True, which='both')\n",
    "    plt.xlabel(r\"$x_1$\", fontsize=20)\n",
    "    plt.ylabel(r\"$x_2$\", fontsize=20, rotation=0)\n"
   ]
  },
  {
   "cell_type": "code",
   "execution_count": 90,
   "metadata": {},
   "outputs": [
    {
     "name": "stderr",
     "output_type": "stream",
     "text": [
      "/home/shelob/anaconda3/lib/python3.6/site-packages/IPython/core/interactiveshell.py:2717: DtypeWarning: Columns (5) have mixed types. Specify dtype option on import or set low_memory=False.\n",
      "  interactivity=interactivity, compiler=compiler, result=result)\n"
     ]
    }
   ],
   "source": [
    "#Here we are reading in our dataset\n",
    "\n",
    "glacier_data = pd.read_csv(\"database.csv\")"
   ]
  },
  {
   "cell_type": "code",
   "execution_count": 91,
   "metadata": {},
   "outputs": [
    {
     "data": {
      "text/html": [
       "<div>\n",
       "<style>\n",
       "    .dataframe thead tr:only-child th {\n",
       "        text-align: right;\n",
       "    }\n",
       "\n",
       "    .dataframe thead th {\n",
       "        text-align: left;\n",
       "    }\n",
       "\n",
       "    .dataframe tbody tr th {\n",
       "        vertical-align: top;\n",
       "    }\n",
       "</style>\n",
       "<table border=\"1\" class=\"dataframe\">\n",
       "  <thead>\n",
       "    <tr style=\"text-align: right;\">\n",
       "      <th></th>\n",
       "      <th>Glacier ID</th>\n",
       "      <th>Political Unit</th>\n",
       "      <th>Continent</th>\n",
       "      <th>Basin Code</th>\n",
       "      <th>Location Code</th>\n",
       "      <th>Glacier Code</th>\n",
       "      <th>Glacier Name</th>\n",
       "      <th>Latitude</th>\n",
       "      <th>Longitude</th>\n",
       "      <th>Primary Class</th>\n",
       "      <th>...</th>\n",
       "      <th>Maximum Length</th>\n",
       "      <th>Maximum Length Exposed</th>\n",
       "      <th>Maximum Length Ablation</th>\n",
       "      <th>Mean Depth</th>\n",
       "      <th>Depth Accuracy</th>\n",
       "      <th>Accumulation Orientation</th>\n",
       "      <th>Ablation Orientation</th>\n",
       "      <th>Topographic Map Year</th>\n",
       "      <th>Topographic Map Scale</th>\n",
       "      <th>Photograph Year</th>\n",
       "    </tr>\n",
       "  </thead>\n",
       "  <tbody>\n",
       "    <tr>\n",
       "      <th>0</th>\n",
       "      <td>AF5Q112B0001</td>\n",
       "      <td>AFGHANISTAN</td>\n",
       "      <td>ASIA</td>\n",
       "      <td>Q112</td>\n",
       "      <td>B0</td>\n",
       "      <td>1</td>\n",
       "      <td>NaN</td>\n",
       "      <td>34.672</td>\n",
       "      <td>68.874</td>\n",
       "      <td>9.0</td>\n",
       "      <td>...</td>\n",
       "      <td>1.9</td>\n",
       "      <td>NaN</td>\n",
       "      <td>NaN</td>\n",
       "      <td>NaN</td>\n",
       "      <td>NaN</td>\n",
       "      <td>NE</td>\n",
       "      <td>NE</td>\n",
       "      <td>1959.0</td>\n",
       "      <td>100000.0</td>\n",
       "      <td>NaN</td>\n",
       "    </tr>\n",
       "    <tr>\n",
       "      <th>1</th>\n",
       "      <td>AF5Q112B0002</td>\n",
       "      <td>AFGHANISTAN</td>\n",
       "      <td>ASIA</td>\n",
       "      <td>Q112</td>\n",
       "      <td>B0</td>\n",
       "      <td>2</td>\n",
       "      <td>NaN</td>\n",
       "      <td>34.676</td>\n",
       "      <td>68.855</td>\n",
       "      <td>9.0</td>\n",
       "      <td>...</td>\n",
       "      <td>0.8</td>\n",
       "      <td>NaN</td>\n",
       "      <td>NaN</td>\n",
       "      <td>NaN</td>\n",
       "      <td>NaN</td>\n",
       "      <td>NW</td>\n",
       "      <td>NW</td>\n",
       "      <td>1959.0</td>\n",
       "      <td>100000.0</td>\n",
       "      <td>NaN</td>\n",
       "    </tr>\n",
       "    <tr>\n",
       "      <th>2</th>\n",
       "      <td>AF5Q112B0003</td>\n",
       "      <td>AFGHANISTAN</td>\n",
       "      <td>ASIA</td>\n",
       "      <td>Q112</td>\n",
       "      <td>B0</td>\n",
       "      <td>3</td>\n",
       "      <td>NaN</td>\n",
       "      <td>34.689</td>\n",
       "      <td>68.854</td>\n",
       "      <td>9.0</td>\n",
       "      <td>...</td>\n",
       "      <td>1.5</td>\n",
       "      <td>NaN</td>\n",
       "      <td>NaN</td>\n",
       "      <td>NaN</td>\n",
       "      <td>NaN</td>\n",
       "      <td>NW</td>\n",
       "      <td>NW</td>\n",
       "      <td>1959.0</td>\n",
       "      <td>100000.0</td>\n",
       "      <td>NaN</td>\n",
       "    </tr>\n",
       "    <tr>\n",
       "      <th>3</th>\n",
       "      <td>AF5Q112B0004</td>\n",
       "      <td>AFGHANISTAN</td>\n",
       "      <td>ASIA</td>\n",
       "      <td>Q112</td>\n",
       "      <td>B0</td>\n",
       "      <td>4</td>\n",
       "      <td>NaN</td>\n",
       "      <td>34.707</td>\n",
       "      <td>68.857</td>\n",
       "      <td>9.0</td>\n",
       "      <td>...</td>\n",
       "      <td>1.5</td>\n",
       "      <td>NaN</td>\n",
       "      <td>NaN</td>\n",
       "      <td>NaN</td>\n",
       "      <td>NaN</td>\n",
       "      <td>NE</td>\n",
       "      <td>NE</td>\n",
       "      <td>1959.0</td>\n",
       "      <td>100000.0</td>\n",
       "      <td>NaN</td>\n",
       "    </tr>\n",
       "    <tr>\n",
       "      <th>4</th>\n",
       "      <td>AF5Q112B0005</td>\n",
       "      <td>AFGHANISTAN</td>\n",
       "      <td>ASIA</td>\n",
       "      <td>Q112</td>\n",
       "      <td>B0</td>\n",
       "      <td>5</td>\n",
       "      <td>NaN</td>\n",
       "      <td>34.719</td>\n",
       "      <td>68.852</td>\n",
       "      <td>9.0</td>\n",
       "      <td>...</td>\n",
       "      <td>2.0</td>\n",
       "      <td>NaN</td>\n",
       "      <td>NaN</td>\n",
       "      <td>NaN</td>\n",
       "      <td>NaN</td>\n",
       "      <td>NaN</td>\n",
       "      <td>NaN</td>\n",
       "      <td>1959.0</td>\n",
       "      <td>100000.0</td>\n",
       "      <td>NaN</td>\n",
       "    </tr>\n",
       "  </tbody>\n",
       "</table>\n",
       "<p>5 rows × 39 columns</p>\n",
       "</div>"
      ],
      "text/plain": [
       "     Glacier ID Political Unit Continent Basin Code Location Code  \\\n",
       "0  AF5Q112B0001    AFGHANISTAN      ASIA       Q112            B0   \n",
       "1  AF5Q112B0002    AFGHANISTAN      ASIA       Q112            B0   \n",
       "2  AF5Q112B0003    AFGHANISTAN      ASIA       Q112            B0   \n",
       "3  AF5Q112B0004    AFGHANISTAN      ASIA       Q112            B0   \n",
       "4  AF5Q112B0005    AFGHANISTAN      ASIA       Q112            B0   \n",
       "\n",
       "  Glacier Code Glacier Name  Latitude  Longitude  Primary Class  \\\n",
       "0            1          NaN    34.672     68.874            9.0   \n",
       "1            2          NaN    34.676     68.855            9.0   \n",
       "2            3          NaN    34.689     68.854            9.0   \n",
       "3            4          NaN    34.707     68.857            9.0   \n",
       "4            5          NaN    34.719     68.852            9.0   \n",
       "\n",
       "        ...         Maximum Length  Maximum Length Exposed  \\\n",
       "0       ...                    1.9                     NaN   \n",
       "1       ...                    0.8                     NaN   \n",
       "2       ...                    1.5                     NaN   \n",
       "3       ...                    1.5                     NaN   \n",
       "4       ...                    2.0                     NaN   \n",
       "\n",
       "   Maximum Length Ablation  Mean Depth  Depth Accuracy  \\\n",
       "0                      NaN         NaN             NaN   \n",
       "1                      NaN         NaN             NaN   \n",
       "2                      NaN         NaN             NaN   \n",
       "3                      NaN         NaN             NaN   \n",
       "4                      NaN         NaN             NaN   \n",
       "\n",
       "   Accumulation Orientation  Ablation Orientation  Topographic Map Year  \\\n",
       "0                        NE                    NE                1959.0   \n",
       "1                        NW                    NW                1959.0   \n",
       "2                        NW                    NW                1959.0   \n",
       "3                        NE                    NE                1959.0   \n",
       "4                       NaN                   NaN                1959.0   \n",
       "\n",
       "   Topographic Map Scale  Photograph Year  \n",
       "0               100000.0              NaN  \n",
       "1               100000.0              NaN  \n",
       "2               100000.0              NaN  \n",
       "3               100000.0              NaN  \n",
       "4               100000.0              NaN  \n",
       "\n",
       "[5 rows x 39 columns]"
      ]
     },
     "execution_count": 91,
     "metadata": {},
     "output_type": "execute_result"
    }
   ],
   "source": [
    "glacier_data.head(5)"
   ]
  },
  {
   "cell_type": "code",
   "execution_count": 92,
   "metadata": {
    "scrolled": true
   },
   "outputs": [
    {
     "name": "stdout",
     "output_type": "stream",
     "text": [
      "<class 'pandas.core.frame.DataFrame'>\n",
      "RangeIndex: 132890 entries, 0 to 132889\n",
      "Data columns (total 39 columns):\n",
      "Glacier ID                     132890 non-null object\n",
      "Political Unit                 132890 non-null object\n",
      "Continent                      132890 non-null object\n",
      "Basin Code                     132890 non-null object\n",
      "Location Code                  132890 non-null object\n",
      "Glacier Code                   132890 non-null object\n",
      "Glacier Name                   46751 non-null object\n",
      "Latitude                       132890 non-null float64\n",
      "Longitude                      132890 non-null float64\n",
      "Primary Class                  131406 non-null float64\n",
      "Glacier Source                 132746 non-null float64\n",
      "Basin Count                    15558 non-null float64\n",
      "Glacier Form                   131813 non-null float64\n",
      "Glacier Activity               132775 non-null float64\n",
      "Activity Start                 4202 non-null float64\n",
      "Activity End                   143 non-null float64\n",
      "Minimum Elevation              117162 non-null float64\n",
      "Minimum Elevation Exposed      89697 non-null float64\n",
      "Mean Elevation                 81599 non-null float64\n",
      "Mean Elevation Accumulation    15473 non-null float64\n",
      "Mean Elevation Ablation        11053 non-null float64\n",
      "Maximum Elevation              115468 non-null float64\n",
      "Snow Line Elevation            28848 non-null float64\n",
      "Snow Line Accuracy             23324 non-null float64\n",
      "Glacier Area                   128374 non-null float64\n",
      "Area Accuracy                  84440 non-null float64\n",
      "Area Exposed                   90737 non-null float64\n",
      "Mean Width                     69966 non-null float64\n",
      "Mean Length                    55258 non-null float64\n",
      "Maximum Length                 102593 non-null float64\n",
      "Maximum Length Exposed         84621 non-null float64\n",
      "Maximum Length Ablation        17051 non-null float64\n",
      "Mean Depth                     70071 non-null float64\n",
      "Depth Accuracy                 78685 non-null float64\n",
      "Accumulation Orientation       114432 non-null object\n",
      "Ablation Orientation           116534 non-null object\n",
      "Topographic Map Year           83697 non-null float64\n",
      "Topographic Map Scale          74586 non-null float64\n",
      "Photograph Year                82464 non-null float64\n",
      "dtypes: float64(30), object(9)\n",
      "memory usage: 39.5+ MB\n"
     ]
    }
   ],
   "source": [
    "glacier_data.info()"
   ]
  },
  {
   "cell_type": "code",
   "execution_count": 93,
   "metadata": {
    "scrolled": true
   },
   "outputs": [
    {
     "data": {
      "text/html": [
       "<div>\n",
       "<style>\n",
       "    .dataframe thead tr:only-child th {\n",
       "        text-align: right;\n",
       "    }\n",
       "\n",
       "    .dataframe thead th {\n",
       "        text-align: left;\n",
       "    }\n",
       "\n",
       "    .dataframe tbody tr th {\n",
       "        vertical-align: top;\n",
       "    }\n",
       "</style>\n",
       "<table border=\"1\" class=\"dataframe\">\n",
       "  <thead>\n",
       "    <tr style=\"text-align: right;\">\n",
       "      <th></th>\n",
       "      <th>Latitude</th>\n",
       "      <th>Longitude</th>\n",
       "      <th>Primary Class</th>\n",
       "      <th>Glacier Source</th>\n",
       "      <th>Basin Count</th>\n",
       "      <th>Glacier Form</th>\n",
       "      <th>Glacier Activity</th>\n",
       "      <th>Activity Start</th>\n",
       "      <th>Activity End</th>\n",
       "      <th>Minimum Elevation</th>\n",
       "      <th>...</th>\n",
       "      <th>Mean Width</th>\n",
       "      <th>Mean Length</th>\n",
       "      <th>Maximum Length</th>\n",
       "      <th>Maximum Length Exposed</th>\n",
       "      <th>Maximum Length Ablation</th>\n",
       "      <th>Mean Depth</th>\n",
       "      <th>Depth Accuracy</th>\n",
       "      <th>Topographic Map Year</th>\n",
       "      <th>Topographic Map Scale</th>\n",
       "      <th>Photograph Year</th>\n",
       "    </tr>\n",
       "  </thead>\n",
       "  <tbody>\n",
       "    <tr>\n",
       "      <th>count</th>\n",
       "      <td>132890.000000</td>\n",
       "      <td>132890.000000</td>\n",
       "      <td>131406.000000</td>\n",
       "      <td>132746.000000</td>\n",
       "      <td>15558.000000</td>\n",
       "      <td>131813.000000</td>\n",
       "      <td>132775.000000</td>\n",
       "      <td>4202.000000</td>\n",
       "      <td>143.000000</td>\n",
       "      <td>117162.000000</td>\n",
       "      <td>...</td>\n",
       "      <td>69966.000000</td>\n",
       "      <td>55258.000000</td>\n",
       "      <td>102593.000000</td>\n",
       "      <td>84621.000000</td>\n",
       "      <td>17051.000000</td>\n",
       "      <td>70071.000000</td>\n",
       "      <td>78685.000000</td>\n",
       "      <td>83697.000000</td>\n",
       "      <td>74586.000000</td>\n",
       "      <td>82464.000000</td>\n",
       "    </tr>\n",
       "    <tr>\n",
       "      <th>mean</th>\n",
       "      <td>36.322101</td>\n",
       "      <td>31.902296</td>\n",
       "      <td>5.716231</td>\n",
       "      <td>0.864712</td>\n",
       "      <td>1.031752</td>\n",
       "      <td>3.738918</td>\n",
       "      <td>0.620448</td>\n",
       "      <td>1967.112327</td>\n",
       "      <td>1986.930070</td>\n",
       "      <td>3502.362063</td>\n",
       "      <td>...</td>\n",
       "      <td>0.563436</td>\n",
       "      <td>1.392470</td>\n",
       "      <td>1.417326</td>\n",
       "      <td>1.328634</td>\n",
       "      <td>1.621133</td>\n",
       "      <td>28.415085</td>\n",
       "      <td>2.262960</td>\n",
       "      <td>1970.529565</td>\n",
       "      <td>96838.461508</td>\n",
       "      <td>1974.795899</td>\n",
       "    </tr>\n",
       "    <tr>\n",
       "      <th>std</th>\n",
       "      <td>27.821062</td>\n",
       "      <td>83.860643</td>\n",
       "      <td>1.768668</td>\n",
       "      <td>0.494326</td>\n",
       "      <td>0.327473</td>\n",
       "      <td>2.255064</td>\n",
       "      <td>1.072336</td>\n",
       "      <td>11.348193</td>\n",
       "      <td>6.999648</td>\n",
       "      <td>1735.317842</td>\n",
       "      <td>...</td>\n",
       "      <td>0.643816</td>\n",
       "      <td>2.087975</td>\n",
       "      <td>2.560785</td>\n",
       "      <td>1.984061</td>\n",
       "      <td>3.286073</td>\n",
       "      <td>46.480501</td>\n",
       "      <td>0.999009</td>\n",
       "      <td>10.276403</td>\n",
       "      <td>69675.200534</td>\n",
       "      <td>14.107653</td>\n",
       "    </tr>\n",
       "    <tr>\n",
       "      <th>min</th>\n",
       "      <td>-71.657200</td>\n",
       "      <td>-179.918000</td>\n",
       "      <td>0.000000</td>\n",
       "      <td>0.000000</td>\n",
       "      <td>1.000000</td>\n",
       "      <td>0.000000</td>\n",
       "      <td>0.000000</td>\n",
       "      <td>1901.000000</td>\n",
       "      <td>1958.000000</td>\n",
       "      <td>0.000000</td>\n",
       "      <td>...</td>\n",
       "      <td>0.000000</td>\n",
       "      <td>0.020000</td>\n",
       "      <td>0.060000</td>\n",
       "      <td>0.000000</td>\n",
       "      <td>0.000000</td>\n",
       "      <td>0.000000</td>\n",
       "      <td>1.000000</td>\n",
       "      <td>1901.000000</td>\n",
       "      <td>750.000000</td>\n",
       "      <td>1900.000000</td>\n",
       "    </tr>\n",
       "    <tr>\n",
       "      <th>25%</th>\n",
       "      <td>30.616000</td>\n",
       "      <td>-50.375000</td>\n",
       "      <td>6.000000</td>\n",
       "      <td>1.000000</td>\n",
       "      <td>1.000000</td>\n",
       "      <td>3.000000</td>\n",
       "      <td>0.000000</td>\n",
       "      <td>1963.000000</td>\n",
       "      <td>1986.000000</td>\n",
       "      <td>1800.000000</td>\n",
       "      <td>...</td>\n",
       "      <td>0.300000</td>\n",
       "      <td>0.500000</td>\n",
       "      <td>0.500000</td>\n",
       "      <td>0.500000</td>\n",
       "      <td>0.200000</td>\n",
       "      <td>12.000000</td>\n",
       "      <td>1.000000</td>\n",
       "      <td>1966.000000</td>\n",
       "      <td>50000.000000</td>\n",
       "      <td>1968.000000</td>\n",
       "    </tr>\n",
       "    <tr>\n",
       "      <th>50%</th>\n",
       "      <td>38.580000</td>\n",
       "      <td>75.484500</td>\n",
       "      <td>6.000000</td>\n",
       "      <td>1.000000</td>\n",
       "      <td>1.000000</td>\n",
       "      <td>4.000000</td>\n",
       "      <td>0.000000</td>\n",
       "      <td>1967.000000</td>\n",
       "      <td>1986.000000</td>\n",
       "      <td>3840.000000</td>\n",
       "      <td>...</td>\n",
       "      <td>0.400000</td>\n",
       "      <td>0.800000</td>\n",
       "      <td>0.800000</td>\n",
       "      <td>0.800000</td>\n",
       "      <td>0.600000</td>\n",
       "      <td>20.000000</td>\n",
       "      <td>2.000000</td>\n",
       "      <td>1972.000000</td>\n",
       "      <td>90000.000000</td>\n",
       "      <td>1971.000000</td>\n",
       "    </tr>\n",
       "    <tr>\n",
       "      <th>75%</th>\n",
       "      <td>49.223000</td>\n",
       "      <td>85.265750</td>\n",
       "      <td>7.000000</td>\n",
       "      <td>1.000000</td>\n",
       "      <td>1.000000</td>\n",
       "      <td>5.000000</td>\n",
       "      <td>1.000000</td>\n",
       "      <td>1975.000000</td>\n",
       "      <td>1988.000000</td>\n",
       "      <td>5020.000000</td>\n",
       "      <td>...</td>\n",
       "      <td>0.700000</td>\n",
       "      <td>1.510000</td>\n",
       "      <td>1.500000</td>\n",
       "      <td>1.500000</td>\n",
       "      <td>2.000000</td>\n",
       "      <td>36.000000</td>\n",
       "      <td>3.000000</td>\n",
       "      <td>1978.000000</td>\n",
       "      <td>100000.000000</td>\n",
       "      <td>1980.000000</td>\n",
       "    </tr>\n",
       "    <tr>\n",
       "      <th>max</th>\n",
       "      <td>89.300000</td>\n",
       "      <td>179.680000</td>\n",
       "      <td>9.000000</td>\n",
       "      <td>3.000000</td>\n",
       "      <td>7.000000</td>\n",
       "      <td>9.000000</td>\n",
       "      <td>8.000000</td>\n",
       "      <td>1996.000000</td>\n",
       "      <td>2002.000000</td>\n",
       "      <td>8047.000000</td>\n",
       "      <td>...</td>\n",
       "      <td>29.800000</td>\n",
       "      <td>76.640000</td>\n",
       "      <td>145.000000</td>\n",
       "      <td>125.000000</td>\n",
       "      <td>64.500000</td>\n",
       "      <td>7060.000000</td>\n",
       "      <td>5.000000</td>\n",
       "      <td>1998.000000</td>\n",
       "      <td>1000000.000000</td>\n",
       "      <td>2003.000000</td>\n",
       "    </tr>\n",
       "  </tbody>\n",
       "</table>\n",
       "<p>8 rows × 30 columns</p>\n",
       "</div>"
      ],
      "text/plain": [
       "            Latitude      Longitude  Primary Class  Glacier Source  \\\n",
       "count  132890.000000  132890.000000  131406.000000   132746.000000   \n",
       "mean       36.322101      31.902296       5.716231        0.864712   \n",
       "std        27.821062      83.860643       1.768668        0.494326   \n",
       "min       -71.657200    -179.918000       0.000000        0.000000   \n",
       "25%        30.616000     -50.375000       6.000000        1.000000   \n",
       "50%        38.580000      75.484500       6.000000        1.000000   \n",
       "75%        49.223000      85.265750       7.000000        1.000000   \n",
       "max        89.300000     179.680000       9.000000        3.000000   \n",
       "\n",
       "        Basin Count   Glacier Form  Glacier Activity  Activity Start  \\\n",
       "count  15558.000000  131813.000000     132775.000000     4202.000000   \n",
       "mean       1.031752       3.738918          0.620448     1967.112327   \n",
       "std        0.327473       2.255064          1.072336       11.348193   \n",
       "min        1.000000       0.000000          0.000000     1901.000000   \n",
       "25%        1.000000       3.000000          0.000000     1963.000000   \n",
       "50%        1.000000       4.000000          0.000000     1967.000000   \n",
       "75%        1.000000       5.000000          1.000000     1975.000000   \n",
       "max        7.000000       9.000000          8.000000     1996.000000   \n",
       "\n",
       "       Activity End  Minimum Elevation       ...           Mean Width  \\\n",
       "count    143.000000      117162.000000       ...         69966.000000   \n",
       "mean    1986.930070        3502.362063       ...             0.563436   \n",
       "std        6.999648        1735.317842       ...             0.643816   \n",
       "min     1958.000000           0.000000       ...             0.000000   \n",
       "25%     1986.000000        1800.000000       ...             0.300000   \n",
       "50%     1986.000000        3840.000000       ...             0.400000   \n",
       "75%     1988.000000        5020.000000       ...             0.700000   \n",
       "max     2002.000000        8047.000000       ...            29.800000   \n",
       "\n",
       "        Mean Length  Maximum Length  Maximum Length Exposed  \\\n",
       "count  55258.000000   102593.000000            84621.000000   \n",
       "mean       1.392470        1.417326                1.328634   \n",
       "std        2.087975        2.560785                1.984061   \n",
       "min        0.020000        0.060000                0.000000   \n",
       "25%        0.500000        0.500000                0.500000   \n",
       "50%        0.800000        0.800000                0.800000   \n",
       "75%        1.510000        1.500000                1.500000   \n",
       "max       76.640000      145.000000              125.000000   \n",
       "\n",
       "       Maximum Length Ablation    Mean Depth  Depth Accuracy  \\\n",
       "count             17051.000000  70071.000000    78685.000000   \n",
       "mean                  1.621133     28.415085        2.262960   \n",
       "std                   3.286073     46.480501        0.999009   \n",
       "min                   0.000000      0.000000        1.000000   \n",
       "25%                   0.200000     12.000000        1.000000   \n",
       "50%                   0.600000     20.000000        2.000000   \n",
       "75%                   2.000000     36.000000        3.000000   \n",
       "max                  64.500000   7060.000000        5.000000   \n",
       "\n",
       "       Topographic Map Year  Topographic Map Scale  Photograph Year  \n",
       "count          83697.000000           74586.000000     82464.000000  \n",
       "mean            1970.529565           96838.461508      1974.795899  \n",
       "std               10.276403           69675.200534        14.107653  \n",
       "min             1901.000000             750.000000      1900.000000  \n",
       "25%             1966.000000           50000.000000      1968.000000  \n",
       "50%             1972.000000           90000.000000      1971.000000  \n",
       "75%             1978.000000          100000.000000      1980.000000  \n",
       "max             1998.000000         1000000.000000      2003.000000  \n",
       "\n",
       "[8 rows x 30 columns]"
      ]
     },
     "execution_count": 93,
     "metadata": {},
     "output_type": "execute_result"
    }
   ],
   "source": [
    "glacier_data.describe()"
   ]
  },
  {
   "cell_type": "code",
   "execution_count": 192,
   "metadata": {},
   "outputs": [
    {
     "data": {
      "text/plain": [
       "AFRICA                                  59\n",
       "ANTARCTICA                             957\n",
       "ASIA                                 81245\n",
       "EUROPE                               12889\n",
       "NEW ZEALAND AND ANTARCTIC ISLANDS     3704\n",
       "NORTH AMERICA                        24689\n",
       "SOUTH AMERICA                         9347\n",
       "Name: Continent, dtype: int64"
      ]
     },
     "execution_count": 192,
     "metadata": {},
     "output_type": "execute_result"
    }
   ],
   "source": [
    "#Taking a look at what continents are represented in chronological order\n",
    "\n",
    "glacier_data[\"Continent\"].value_counts().sort_index()"
   ]
  },
  {
   "cell_type": "code",
   "execution_count": 94,
   "metadata": {},
   "outputs": [
    {
     "data": {
      "image/png": "[encoded data removed]",
      "text/plain": [
       "<matplotlib.figure.Figure at 0x7fd626f2e550>"
      ]
     },
     "metadata": {},
     "output_type": "display_data"
    }
   ],
   "source": [
    "# This is essentially a map of the world! The alpha .1 makes it easier to determine concentrations of glaciers\n",
    "\n",
    "glacier_data.plot(kind = \"scatter\", x = \"Longitude\", y = \"Latitude\", alpha = .1)\n",
    "plt.show()"
   ]
  },
  {
   "cell_type": "code",
   "execution_count": 95,
   "metadata": {},
   "outputs": [
    {
     "data": {
      "image/png": "[encoded data removed]",
      "text/plain": [
       "<matplotlib.figure.Figure at 0x7fd621582748>"
      ]
     },
     "metadata": {},
     "output_type": "display_data"
    }
   ],
   "source": [
    "# Let's see if we can get a better visualization without modifying our data\n",
    "\n",
    "glacier_data.plot(kind = \"scatter\", x = \"Longitude\", y = \"Latitude\", alpha = .3,\n",
    "                 s = glacier_data[\"Glacier Area\"], label = \"Glacier Area\", figsize=(10, 7),\n",
    "                 c = \"Maximum Elevation\", cmap = plt.get_cmap(\"jet\"), colorbar = True,\n",
    "                 )\n",
    "\n",
    "plt.legend()\n",
    "plt.show()"
   ]
  },
  {
   "cell_type": "code",
   "execution_count": 96,
   "metadata": {
    "scrolled": true
   },
   "outputs": [
    {
     "data": {
      "image/png": "[encoded data removed]",
      "text/plain": [
       "<matplotlib.figure.Figure at 0x7fd611628320>"
      ]
     },
     "metadata": {},
     "output_type": "display_data"
    }
   ],
   "source": [
    "# Let's try setting our c value to Primary Class, since that will be our multi-class label, and see what happens\n",
    "# Also, let's try to minimize the size of the circles by dividing glacier area by 1.10\n",
    "\n",
    "glacier_data.plot(kind = \"scatter\", x = \"Longitude\", y = \"Latitude\", alpha = .4,\n",
    "                 s = glacier_data[\"Glacier Area\"] / 1.10, label = \"Glacier Area\", figsize=(10, 7),\n",
    "                 c = \"Primary Class\", cmap = plt.get_cmap(\"jet\"), colorbar = True,\n",
    "                 )\n",
    "\n",
    "plt.legend()\n",
    "plt.show()"
   ]
  },
  {
   "cell_type": "code",
   "execution_count": 97,
   "metadata": {},
   "outputs": [
    {
     "data": {
      "image/png": "[encoded data removed]",
      "text/plain": [
       "<matplotlib.figure.Figure at 0x7fd611723588>"
      ]
     },
     "metadata": {},
     "output_type": "display_data"
    }
   ],
   "source": [
    "# Now let's see if we can zoom in more on the glaciers in Central / South America area, since they are harder to see\n",
    "# because the glaciers there typically have less area than elsewhere\n",
    "\n",
    "glacier_data.plot(kind = \"scatter\", x = \"Longitude\", y = \"Latitude\", alpha = .4,\n",
    "                 s = glacier_data[\"Glacier Area\"], label = \"Glacier Area\", figsize=(10, 7),\n",
    "                 c = \"Primary Class\", cmap = plt.get_cmap(\"jet\"), colorbar = True,\n",
    "                 )\n",
    "\n",
    "plt.axis([-80, -60, -40, 0])\n",
    "plt.legend()\n",
    "plt.show()"
   ]
  },
  {
   "cell_type": "markdown",
   "metadata": {},
   "source": [
    "# Info gained from mapping\n",
    "\n",
    "We can clearly see that if you go further north or south, you will typically see higher elevation glaciers, as opposed to the ones found closer to the equator. In addition, if we plot based on primary classes (reference the key above for complete details) we realize that the montain and valley glaciers are usually found within countries, as they should be, like US or Canada or India, etc. and we notice that most of the continental ice sheets and ice fields are found very far north. Also those glaciers are bigger than any others, which makes sense. It's nice to be able to graph this data set like this and realize it on a more global scale!"
   ]
  },
  {
   "cell_type": "code",
   "execution_count": 98,
   "metadata": {
    "scrolled": true
   },
   "outputs": [
    {
     "data": {
      "image/png": "[encoded data removed]",
      "text/plain": [
       "<matplotlib.figure.Figure at 0x7fd6337b7160>"
      ]
     },
     "metadata": {},
     "output_type": "display_data"
    }
   ],
   "source": [
    "#We should get 30 graphs since 9 of our attributes are objects\n",
    "\n",
    "%matplotlib inline\n",
    "\n",
    "glacier_data.hist(bins = 50, figsize = (20, 15))\n",
    "plt.show()"
   ]
  },
  {
   "cell_type": "markdown",
   "metadata": {},
   "source": [
    "# Correlation matrix\n",
    "\n",
    "Let's look at the correlation matrix so far to spot any off-the-bat positive / negative correlations!"
   ]
  },
  {
   "cell_type": "code",
   "execution_count": 99,
   "metadata": {
    "collapsed": true
   },
   "outputs": [],
   "source": [
    "corr_1 = glacier_data.corr()"
   ]
  },
  {
   "cell_type": "code",
   "execution_count": 100,
   "metadata": {},
   "outputs": [
    {
     "data": {
      "text/plain": [
       "Longitude                      1.000000\n",
       "Mean Elevation Accumulation    0.741467\n",
       "Mean Elevation Ablation        0.676563\n",
       "Topographic Map Year           0.587394\n",
       "Maximum Elevation              0.582169\n",
       "Minimum Elevation              0.554905\n",
       "Minimum Elevation Exposed      0.516047\n",
       "Snow Line Elevation            0.485135\n",
       "Activity Start                 0.287632\n",
       "Photograph Year                0.147514\n",
       "Mean Elevation                 0.082345\n",
       "Maximum Length                 0.042216\n",
       "Maximum Length Exposed         0.041488\n",
       "Mean Depth                     0.036596\n",
       "Maximum Length Ablation        0.030089\n",
       "Glacier Form                   0.026804\n",
       "Glacier Source                 0.019553\n",
       "Mean Width                     0.010018\n",
       "Area Exposed                  -0.013882\n",
       "Glacier Area                  -0.032079\n",
       "Primary Class                 -0.034855\n",
       "Basin Count                   -0.040788\n",
       "Mean Length                   -0.058165\n",
       "Activity End                  -0.070243\n",
       "Snow Line Accuracy            -0.111771\n",
       "Latitude                      -0.147883\n",
       "Area Accuracy                 -0.187822\n",
       "Topographic Map Scale         -0.275795\n",
       "Depth Accuracy                -0.383544\n",
       "Glacier Activity              -0.433036\n",
       "Name: Longitude, dtype: float64"
      ]
     },
     "execution_count": 100,
     "metadata": {},
     "output_type": "execute_result"
    }
   ],
   "source": [
    "corr_1[\"Longitude\"].sort_values(ascending = False)"
   ]
  },
  {
   "cell_type": "code",
   "execution_count": 101,
   "metadata": {},
   "outputs": [
    {
     "data": {
      "text/plain": [
       "Maximum Elevation              1.000000\n",
       "Mean Elevation Accumulation    0.988700\n",
       "Mean Elevation                 0.987494\n",
       "Minimum Elevation              0.974465\n",
       "Minimum Elevation Exposed      0.973544\n",
       "Snow Line Elevation            0.953487\n",
       "Mean Elevation Ablation        0.888271\n",
       "Longitude                      0.582169\n",
       "Topographic Map Year           0.563928\n",
       "Primary Class                  0.195827\n",
       "Mean Length                    0.127172\n",
       "Glacier Source                 0.123254\n",
       "Mean Depth                     0.118157\n",
       "Maximum Length Exposed         0.105115\n",
       "Maximum Length Ablation        0.081112\n",
       "Mean Width                     0.068142\n",
       "Glacier Form                   0.043632\n",
       "Maximum Length                 0.042247\n",
       "Photograph Year                0.029079\n",
       "Area Exposed                  -0.021727\n",
       "Glacier Area                  -0.045438\n",
       "Basin Count                   -0.061318\n",
       "Snow Line Accuracy            -0.117352\n",
       "Depth Accuracy                -0.129430\n",
       "Activity Start                -0.236228\n",
       "Latitude                      -0.267599\n",
       "Glacier Activity              -0.287354\n",
       "Area Accuracy                 -0.392184\n",
       "Topographic Map Scale         -0.437007\n",
       "Activity End                  -0.625598\n",
       "Name: Maximum Elevation, dtype: float64"
      ]
     },
     "execution_count": 101,
     "metadata": {},
     "output_type": "execute_result"
    }
   ],
   "source": [
    "corr_1[\"Maximum Elevation\"].sort_values(ascending = False)"
   ]
  },
  {
   "cell_type": "code",
   "execution_count": 102,
   "metadata": {},
   "outputs": [
    {
     "data": {
      "text/plain": [
       "Minimum Elevation              1.000000\n",
       "Minimum Elevation Exposed      0.999105\n",
       "Mean Elevation                 0.989034\n",
       "Maximum Elevation              0.974465\n",
       "Mean Elevation Accumulation    0.970572\n",
       "Snow Line Elevation            0.958989\n",
       "Mean Elevation Ablation        0.894441\n",
       "Topographic Map Year           0.567582\n",
       "Longitude                      0.554905\n",
       "Primary Class                  0.280139\n",
       "Glacier Source                 0.118960\n",
       "Glacier Form                   0.111573\n",
       "Photograph Year                0.049348\n",
       "Mean Depth                     0.030680\n",
       "Mean Width                    -0.028512\n",
       "Maximum Length Exposed        -0.031243\n",
       "Maximum Length Ablation       -0.037963\n",
       "Basin Count                   -0.062155\n",
       "Depth Accuracy                -0.066166\n",
       "Area Exposed                  -0.077524\n",
       "Glacier Area                  -0.083443\n",
       "Mean Length                   -0.089162\n",
       "Maximum Length                -0.092284\n",
       "Snow Line Accuracy            -0.109751\n",
       "Activity Start                -0.162351\n",
       "Glacier Activity              -0.279651\n",
       "Latitude                      -0.306039\n",
       "Area Accuracy                 -0.350227\n",
       "Topographic Map Scale         -0.454475\n",
       "Activity End                  -0.648294\n",
       "Name: Minimum Elevation, dtype: float64"
      ]
     },
     "execution_count": 102,
     "metadata": {},
     "output_type": "execute_result"
    }
   ],
   "source": [
    "corr_1[\"Minimum Elevation\"].sort_values(ascending = False)"
   ]
  },
  {
   "cell_type": "code",
   "execution_count": 103,
   "metadata": {},
   "outputs": [
    {
     "data": {
      "text/plain": [
       "Primary Class                  1.000000\n",
       "Glacier Form                   0.492043\n",
       "Mean Elevation                 0.384576\n",
       "Minimum Elevation Exposed      0.331970\n",
       "Minimum Elevation              0.280139\n",
       "Glacier Source                 0.264868\n",
       "Maximum Elevation              0.195827\n",
       "Snow Line Elevation            0.132884\n",
       "Latitude                       0.124023\n",
       "Glacier Activity               0.119456\n",
       "Depth Accuracy                 0.117607\n",
       "Snow Line Accuracy             0.089764\n",
       "Mean Elevation Ablation        0.076454\n",
       "Basin Count                    0.024933\n",
       "Mean Elevation Accumulation    0.010115\n",
       "Longitude                     -0.034855\n",
       "Area Exposed                  -0.040881\n",
       "Photograph Year               -0.050202\n",
       "Glacier Area                  -0.074556\n",
       "Topographic Map Year          -0.083695\n",
       "Activity Start                -0.098411\n",
       "Mean Depth                    -0.100419\n",
       "Activity End                  -0.120568\n",
       "Topographic Map Scale         -0.122411\n",
       "Mean Length                   -0.125714\n",
       "Mean Width                    -0.161472\n",
       "Maximum Length Exposed        -0.176383\n",
       "Maximum Length                -0.178030\n",
       "Maximum Length Ablation       -0.218435\n",
       "Area Accuracy                 -0.264895\n",
       "Name: Primary Class, dtype: float64"
      ]
     },
     "execution_count": 103,
     "metadata": {},
     "output_type": "execute_result"
    }
   ],
   "source": [
    "#There are no strong correlations with Primary Class, which is good. It means that our dataset is complex!\n",
    "\n",
    "corr_1[\"Primary Class\"].sort_values(ascending = False)"
   ]
  },
  {
   "cell_type": "code",
   "execution_count": 104,
   "metadata": {
    "scrolled": true
   },
   "outputs": [
    {
     "data": {
      "text/plain": [
       "0.0     8209\n",
       "1.0      267\n",
       "2.0      682\n",
       "3.0     2752\n",
       "4.0     2532\n",
       "5.0    14002\n",
       "6.0    65042\n",
       "7.0    35201\n",
       "8.0        8\n",
       "9.0     2711\n",
       "Name: Primary Class, dtype: int64"
      ]
     },
     "execution_count": 104,
     "metadata": {},
     "output_type": "execute_result"
    }
   ],
   "source": [
    "#This is the data that will be used as the multiclass labels, let's take a look at the stats of our future labels\n",
    "\n",
    "glacier_data[\"Primary Class\"].value_counts().sort_index()"
   ]
  },
  {
   "cell_type": "markdown",
   "metadata": {},
   "source": [
    "# Lastly, to visualize, let's look at some scatter plots\n",
    "\n",
    "The most interesting of these is the relation between latitude and max elevation, the data seems to fit a binomial curve, which is nice because it makes our data a little more exciting. The others I have choosen to plot have little correlations, which could mean that our data set is fairly complex."
   ]
  },
  {
   "cell_type": "code",
   "execution_count": 105,
   "metadata": {},
   "outputs": [
    {
     "data": {
      "image/png": "[encoded data removed]",
      "text/plain": [
       "<matplotlib.figure.Figure at 0x7fd611490898>"
      ]
     },
     "metadata": {},
     "output_type": "display_data"
    }
   ],
   "source": [
    "glacier_data.plot(kind = \"scatter\", x = \"Glacier Area\", y = \"Maximum Elevation\")\n",
    "plt.show()"
   ]
  },
  {
   "cell_type": "code",
   "execution_count": 106,
   "metadata": {},
   "outputs": [
    {
     "data": {
      "image/png": "[encoded data removed]",
      "text/plain": [
       "<matplotlib.figure.Figure at 0x7fd620be97f0>"
      ]
     },
     "metadata": {},
     "output_type": "display_data"
    }
   ],
   "source": [
    "glacier_data.plot(kind = \"scatter\", x = \"Glacier Area\", y = \"Minimum Elevation\")\n",
    "plt.show()"
   ]
  },
  {
   "cell_type": "code",
   "execution_count": 107,
   "metadata": {},
   "outputs": [
    {
     "data": {
      "image/png": "[encoded data removed]",
      "text/plain": [
       "<matplotlib.figure.Figure at 0x7fd5e77ee6d8>"
      ]
     },
     "metadata": {},
     "output_type": "display_data"
    }
   ],
   "source": [
    "glacier_data.plot(kind = \"scatter\", x = \"Latitude\", y = \"Maximum Elevation\")\n",
    "plt.show()"
   ]
  },
  {
   "cell_type": "code",
   "execution_count": 108,
   "metadata": {},
   "outputs": [
    {
     "data": {
      "image/png": "[encoded data removed]",
      "text/plain": [
       "<matplotlib.figure.Figure at 0x7fd664a2ed68>"
      ]
     },
     "metadata": {},
     "output_type": "display_data"
    }
   ],
   "source": [
    "glacier_data.plot(kind = \"scatter\", x = \"Longitude\", y = \"Glacier Area\")\n",
    "plt.show()"
   ]
  },
  {
   "cell_type": "markdown",
   "metadata": {},
   "source": [
    "# Copying our dataset\n",
    "\n",
    "Let's copy our data set so that we can refer back to the original at anytime"
   ]
  },
  {
   "cell_type": "code",
   "execution_count": 109,
   "metadata": {
    "collapsed": true
   },
   "outputs": [],
   "source": [
    "copy = pd.DataFrame.copy(glacier_data)"
   ]
  },
  {
   "cell_type": "markdown",
   "metadata": {},
   "source": [
    "# Encoding\n",
    "\n",
    "There are some attributes that would likely affect the results, such as the ablation orientation (which is the melting of the glacier in a certain direction) and the accumulation orientation (in what direction has the snow accumlated in). In addition to these, other fields that we will encode are the political unit, continent, location, etc. In short, we are encoding the attributes that could affect the results in our favor. Let's go ahead and do that!"
   ]
  },
  {
   "cell_type": "code",
   "execution_count": 110,
   "metadata": {
    "collapsed": true
   },
   "outputs": [],
   "source": [
    "encoder = LabelEncoder()"
   ]
  },
  {
   "cell_type": "code",
   "execution_count": 111,
   "metadata": {},
   "outputs": [
    {
     "data": {
      "text/plain": [
       "array([2, 3, 3, ..., 8, 6, 7])"
      ]
     },
     "execution_count": 111,
     "metadata": {},
     "output_type": "execute_result"
    }
   ],
   "source": [
    "ablation_cat = copy[\"Ablation Orientation\"]\n",
    "ablation_cat_encoded = encoder.fit_transform(ablation_cat.astype(str))\n",
    "ablation_cat_encoded"
   ]
  },
  {
   "cell_type": "code",
   "execution_count": 112,
   "metadata": {},
   "outputs": [
    {
     "data": {
      "text/plain": [
       "array([2, 3, 3, ..., 8, 7, 7])"
      ]
     },
     "execution_count": 112,
     "metadata": {},
     "output_type": "execute_result"
    }
   ],
   "source": [
    "accumulation_cat = copy[\"Accumulation Orientation\"]\n",
    "accumulation_cat_encoded = encoder.fit_transform(accumulation_cat.astype(str))\n",
    "accumulation_cat_encoded"
   ]
  },
  {
   "cell_type": "code",
   "execution_count": 113,
   "metadata": {},
   "outputs": [
    {
     "data": {
      "text/plain": [
       "array([ 0,  0,  0, ..., 37, 37, 37])"
      ]
     },
     "execution_count": 113,
     "metadata": {},
     "output_type": "execute_result"
    }
   ],
   "source": [
    "political_cat = copy[\"Political Unit\"]\n",
    "political_cat_encoded = encoder.fit_transform(political_cat)\n",
    "political_cat_encoded"
   ]
  },
  {
   "cell_type": "code",
   "execution_count": 114,
   "metadata": {},
   "outputs": [
    {
     "data": {
      "text/plain": [
       "array([2, 2, 2, ..., 0, 0, 0])"
      ]
     },
     "execution_count": 114,
     "metadata": {},
     "output_type": "execute_result"
    }
   ],
   "source": [
    "continent_cat = copy[\"Continent\"]\n",
    "continent_cat_encoded = encoder.fit_transform(continent_cat)\n",
    "continent_cat_encoded"
   ]
  },
  {
   "cell_type": "code",
   "execution_count": 115,
   "metadata": {},
   "outputs": [
    {
     "data": {
      "text/plain": [
       "array([402, 402, 402, ...,  26,  26,  26])"
      ]
     },
     "execution_count": 115,
     "metadata": {},
     "output_type": "execute_result"
    }
   ],
   "source": [
    "basin_cat = copy[\"Basin Code\"]\n",
    "basin_cat_encoded = encoder.fit_transform(basin_cat)\n",
    "basin_cat_encoded"
   ]
  },
  {
   "cell_type": "code",
   "execution_count": 116,
   "metadata": {},
   "outputs": [
    {
     "data": {
      "text/plain": [
       "array([206, 206, 206, ..., 173, 174, 175])"
      ]
     },
     "execution_count": 116,
     "metadata": {},
     "output_type": "execute_result"
    }
   ],
   "source": [
    "location_cat = copy[\"Location Code\"]\n",
    "location_cat_encoded = encoder.fit_transform(location_cat)\n",
    "location_cat_encoded"
   ]
  },
  {
   "cell_type": "code",
   "execution_count": 117,
   "metadata": {},
   "outputs": [
    {
     "data": {
      "text/plain": [
       "array([  3, 115, 226, ..., 115,   3, 899])"
      ]
     },
     "execution_count": 117,
     "metadata": {},
     "output_type": "execute_result"
    }
   ],
   "source": [
    "glacier_cat = copy[\"Glacier Code\"]\n",
    "glacier_cat_encoded = encoder.fit_transform(glacier_cat.astype(str))\n",
    "glacier_cat_encoded"
   ]
  },
  {
   "cell_type": "code",
   "execution_count": 118,
   "metadata": {
    "collapsed": true
   },
   "outputs": [],
   "source": [
    "# Now that we have encoded this data, lets replace the attributes in copy with the encoded versions\n",
    "\n",
    "copy[\"Ablation Orientation\"] = ablation_cat_encoded\n",
    "copy[\"Accumulation Orientation\"] = accumulation_cat_encoded\n",
    "copy[\"Political Unit\"] = political_cat_encoded\n",
    "copy[\"Continent\"] = continent_cat_encoded\n",
    "copy[\"Basin Code\"] = basin_cat_encoded\n",
    "copy[\"Location Code\"] = location_cat_encoded\n",
    "copy[\"Glacier Code\"] = glacier_cat_encoded"
   ]
  },
  {
   "cell_type": "code",
   "execution_count": 119,
   "metadata": {},
   "outputs": [
    {
     "name": "stdout",
     "output_type": "stream",
     "text": [
      "<class 'pandas.core.frame.DataFrame'>\n",
      "RangeIndex: 132890 entries, 0 to 132889\n",
      "Data columns (total 39 columns):\n",
      "Glacier ID                     132890 non-null object\n",
      "Political Unit                 132890 non-null int64\n",
      "Continent                      132890 non-null int64\n",
      "Basin Code                     132890 non-null int64\n",
      "Location Code                  132890 non-null int64\n",
      "Glacier Code                   132890 non-null int64\n",
      "Glacier Name                   46751 non-null object\n",
      "Latitude                       132890 non-null float64\n",
      "Longitude                      132890 non-null float64\n",
      "Primary Class                  131406 non-null float64\n",
      "Glacier Source                 132746 non-null float64\n",
      "Basin Count                    15558 non-null float64\n",
      "Glacier Form                   131813 non-null float64\n",
      "Glacier Activity               132775 non-null float64\n",
      "Activity Start                 4202 non-null float64\n",
      "Activity End                   143 non-null float64\n",
      "Minimum Elevation              117162 non-null float64\n",
      "Minimum Elevation Exposed      89697 non-null float64\n",
      "Mean Elevation                 81599 non-null float64\n",
      "Mean Elevation Accumulation    15473 non-null float64\n",
      "Mean Elevation Ablation        11053 non-null float64\n",
      "Maximum Elevation              115468 non-null float64\n",
      "Snow Line Elevation            28848 non-null float64\n",
      "Snow Line Accuracy             23324 non-null float64\n",
      "Glacier Area                   128374 non-null float64\n",
      "Area Accuracy                  84440 non-null float64\n",
      "Area Exposed                   90737 non-null float64\n",
      "Mean Width                     69966 non-null float64\n",
      "Mean Length                    55258 non-null float64\n",
      "Maximum Length                 102593 non-null float64\n",
      "Maximum Length Exposed         84621 non-null float64\n",
      "Maximum Length Ablation        17051 non-null float64\n",
      "Mean Depth                     70071 non-null float64\n",
      "Depth Accuracy                 78685 non-null float64\n",
      "Accumulation Orientation       132890 non-null int64\n",
      "Ablation Orientation           132890 non-null int64\n",
      "Topographic Map Year           83697 non-null float64\n",
      "Topographic Map Scale          74586 non-null float64\n",
      "Photograph Year                82464 non-null float64\n",
      "dtypes: float64(30), int64(7), object(2)\n",
      "memory usage: 39.5+ MB\n"
     ]
    }
   ],
   "source": [
    "copy.info()"
   ]
  },
  {
   "cell_type": "markdown",
   "metadata": {},
   "source": [
    "# Removing some of the attributes\n",
    "\n",
    "Now that we have converted some of the attributes to int's to aid in our goal of multi-class classification, we can go ahead and remove some of the attributes that will likely not affect our results, attributes such as a glaciers name."
   ]
  },
  {
   "cell_type": "code",
   "execution_count": 120,
   "metadata": {
    "collapsed": true
   },
   "outputs": [],
   "source": [
    "#remove Glacier Name and Glacier ID\n",
    "\n",
    "copy = copy.drop(\"Glacier Name\", 1)\n",
    "copy = copy.drop(\"Glacier ID\", 1)"
   ]
  },
  {
   "cell_type": "code",
   "execution_count": 121,
   "metadata": {
    "scrolled": true
   },
   "outputs": [
    {
     "data": {
      "text/html": [
       "<div>\n",
       "<style>\n",
       "    .dataframe thead tr:only-child th {\n",
       "        text-align: right;\n",
       "    }\n",
       "\n",
       "    .dataframe thead th {\n",
       "        text-align: left;\n",
       "    }\n",
       "\n",
       "    .dataframe tbody tr th {\n",
       "        vertical-align: top;\n",
       "    }\n",
       "</style>\n",
       "<table border=\"1\" class=\"dataframe\">\n",
       "  <thead>\n",
       "    <tr style=\"text-align: right;\">\n",
       "      <th></th>\n",
       "      <th>Political Unit</th>\n",
       "      <th>Continent</th>\n",
       "      <th>Basin Code</th>\n",
       "      <th>Location Code</th>\n",
       "      <th>Glacier Code</th>\n",
       "      <th>Latitude</th>\n",
       "      <th>Longitude</th>\n",
       "      <th>Primary Class</th>\n",
       "      <th>Glacier Source</th>\n",
       "      <th>Basin Count</th>\n",
       "      <th>...</th>\n",
       "      <th>Maximum Length</th>\n",
       "      <th>Maximum Length Exposed</th>\n",
       "      <th>Maximum Length Ablation</th>\n",
       "      <th>Mean Depth</th>\n",
       "      <th>Depth Accuracy</th>\n",
       "      <th>Accumulation Orientation</th>\n",
       "      <th>Ablation Orientation</th>\n",
       "      <th>Topographic Map Year</th>\n",
       "      <th>Topographic Map Scale</th>\n",
       "      <th>Photograph Year</th>\n",
       "    </tr>\n",
       "  </thead>\n",
       "  <tbody>\n",
       "    <tr>\n",
       "      <th>0</th>\n",
       "      <td>0</td>\n",
       "      <td>2</td>\n",
       "      <td>402</td>\n",
       "      <td>206</td>\n",
       "      <td>3</td>\n",
       "      <td>34.672</td>\n",
       "      <td>68.874</td>\n",
       "      <td>9.0</td>\n",
       "      <td>0.0</td>\n",
       "      <td>NaN</td>\n",
       "      <td>...</td>\n",
       "      <td>1.9</td>\n",
       "      <td>NaN</td>\n",
       "      <td>NaN</td>\n",
       "      <td>NaN</td>\n",
       "      <td>NaN</td>\n",
       "      <td>2</td>\n",
       "      <td>2</td>\n",
       "      <td>1959.0</td>\n",
       "      <td>100000.0</td>\n",
       "      <td>NaN</td>\n",
       "    </tr>\n",
       "    <tr>\n",
       "      <th>1</th>\n",
       "      <td>0</td>\n",
       "      <td>2</td>\n",
       "      <td>402</td>\n",
       "      <td>206</td>\n",
       "      <td>115</td>\n",
       "      <td>34.676</td>\n",
       "      <td>68.855</td>\n",
       "      <td>9.0</td>\n",
       "      <td>0.0</td>\n",
       "      <td>NaN</td>\n",
       "      <td>...</td>\n",
       "      <td>0.8</td>\n",
       "      <td>NaN</td>\n",
       "      <td>NaN</td>\n",
       "      <td>NaN</td>\n",
       "      <td>NaN</td>\n",
       "      <td>3</td>\n",
       "      <td>3</td>\n",
       "      <td>1959.0</td>\n",
       "      <td>100000.0</td>\n",
       "      <td>NaN</td>\n",
       "    </tr>\n",
       "    <tr>\n",
       "      <th>2</th>\n",
       "      <td>0</td>\n",
       "      <td>2</td>\n",
       "      <td>402</td>\n",
       "      <td>206</td>\n",
       "      <td>226</td>\n",
       "      <td>34.689</td>\n",
       "      <td>68.854</td>\n",
       "      <td>9.0</td>\n",
       "      <td>0.0</td>\n",
       "      <td>NaN</td>\n",
       "      <td>...</td>\n",
       "      <td>1.5</td>\n",
       "      <td>NaN</td>\n",
       "      <td>NaN</td>\n",
       "      <td>NaN</td>\n",
       "      <td>NaN</td>\n",
       "      <td>3</td>\n",
       "      <td>3</td>\n",
       "      <td>1959.0</td>\n",
       "      <td>100000.0</td>\n",
       "      <td>NaN</td>\n",
       "    </tr>\n",
       "    <tr>\n",
       "      <th>3</th>\n",
       "      <td>0</td>\n",
       "      <td>2</td>\n",
       "      <td>402</td>\n",
       "      <td>206</td>\n",
       "      <td>337</td>\n",
       "      <td>34.707</td>\n",
       "      <td>68.857</td>\n",
       "      <td>9.0</td>\n",
       "      <td>0.0</td>\n",
       "      <td>NaN</td>\n",
       "      <td>...</td>\n",
       "      <td>1.5</td>\n",
       "      <td>NaN</td>\n",
       "      <td>NaN</td>\n",
       "      <td>NaN</td>\n",
       "      <td>NaN</td>\n",
       "      <td>2</td>\n",
       "      <td>2</td>\n",
       "      <td>1959.0</td>\n",
       "      <td>100000.0</td>\n",
       "      <td>NaN</td>\n",
       "    </tr>\n",
       "    <tr>\n",
       "      <th>4</th>\n",
       "      <td>0</td>\n",
       "      <td>2</td>\n",
       "      <td>402</td>\n",
       "      <td>206</td>\n",
       "      <td>448</td>\n",
       "      <td>34.719</td>\n",
       "      <td>68.852</td>\n",
       "      <td>9.0</td>\n",
       "      <td>0.0</td>\n",
       "      <td>NaN</td>\n",
       "      <td>...</td>\n",
       "      <td>2.0</td>\n",
       "      <td>NaN</td>\n",
       "      <td>NaN</td>\n",
       "      <td>NaN</td>\n",
       "      <td>NaN</td>\n",
       "      <td>8</td>\n",
       "      <td>8</td>\n",
       "      <td>1959.0</td>\n",
       "      <td>100000.0</td>\n",
       "      <td>NaN</td>\n",
       "    </tr>\n",
       "  </tbody>\n",
       "</table>\n",
       "<p>5 rows × 37 columns</p>\n",
       "</div>"
      ],
      "text/plain": [
       "   Political Unit  Continent  Basin Code  Location Code  Glacier Code  \\\n",
       "0               0          2         402            206             3   \n",
       "1               0          2         402            206           115   \n",
       "2               0          2         402            206           226   \n",
       "3               0          2         402            206           337   \n",
       "4               0          2         402            206           448   \n",
       "\n",
       "   Latitude  Longitude  Primary Class  Glacier Source  Basin Count  \\\n",
       "0    34.672     68.874            9.0             0.0          NaN   \n",
       "1    34.676     68.855            9.0             0.0          NaN   \n",
       "2    34.689     68.854            9.0             0.0          NaN   \n",
       "3    34.707     68.857            9.0             0.0          NaN   \n",
       "4    34.719     68.852            9.0             0.0          NaN   \n",
       "\n",
       "        ...         Maximum Length  Maximum Length Exposed  \\\n",
       "0       ...                    1.9                     NaN   \n",
       "1       ...                    0.8                     NaN   \n",
       "2       ...                    1.5                     NaN   \n",
       "3       ...                    1.5                     NaN   \n",
       "4       ...                    2.0                     NaN   \n",
       "\n",
       "   Maximum Length Ablation  Mean Depth  Depth Accuracy  \\\n",
       "0                      NaN         NaN             NaN   \n",
       "1                      NaN         NaN             NaN   \n",
       "2                      NaN         NaN             NaN   \n",
       "3                      NaN         NaN             NaN   \n",
       "4                      NaN         NaN             NaN   \n",
       "\n",
       "   Accumulation Orientation  Ablation Orientation  Topographic Map Year  \\\n",
       "0                         2                     2                1959.0   \n",
       "1                         3                     3                1959.0   \n",
       "2                         3                     3                1959.0   \n",
       "3                         2                     2                1959.0   \n",
       "4                         8                     8                1959.0   \n",
       "\n",
       "   Topographic Map Scale  Photograph Year  \n",
       "0               100000.0              NaN  \n",
       "1               100000.0              NaN  \n",
       "2               100000.0              NaN  \n",
       "3               100000.0              NaN  \n",
       "4               100000.0              NaN  \n",
       "\n",
       "[5 rows x 37 columns]"
      ]
     },
     "execution_count": 121,
     "metadata": {},
     "output_type": "execute_result"
    }
   ],
   "source": [
    "copy.head(5)"
   ]
  },
  {
   "cell_type": "code",
   "execution_count": 122,
   "metadata": {
    "scrolled": true
   },
   "outputs": [
    {
     "data": {
      "text/plain": [
       "0.60      7264\n",
       "0.50      7224\n",
       "0.40      6583\n",
       "0.80      5957\n",
       "0.70      5884\n",
       "0.30      5124\n",
       "1.00      4434\n",
       "0.90      4384\n",
       "0.20      3281\n",
       "1.20      3222\n",
       "1.10      2913\n",
       "1.40      2237\n",
       "0.10      2191\n",
       "1.30      2190\n",
       "1.50      2101\n",
       "1.60      1717\n",
       "1.80      1373\n",
       "2.00      1281\n",
       "1.70      1240\n",
       "1.90       925\n",
       "2.10       887\n",
       "2.20       843\n",
       "2.40       791\n",
       "2.30       711\n",
       "2.50       668\n",
       "2.60       565\n",
       "2.80       562\n",
       "3.00       498\n",
       "2.70       482\n",
       "3.20       383\n",
       "          ... \n",
       "1.35         1\n",
       "9.07         1\n",
       "53.00        1\n",
       "0.95         1\n",
       "25.40        1\n",
       "0.59         1\n",
       "0.55         1\n",
       "17.30        1\n",
       "117.00       1\n",
       "63.30        1\n",
       "11.90        1\n",
       "9.65         1\n",
       "17.70        1\n",
       "7.87         1\n",
       "15.30        1\n",
       "0.24         1\n",
       "35.90        1\n",
       "60.20        1\n",
       "36.50        1\n",
       "25.80        1\n",
       "41.00        1\n",
       "29.40        1\n",
       "11.99        1\n",
       "30.90        1\n",
       "2.88         1\n",
       "40.50        1\n",
       "21.30        1\n",
       "1.11         1\n",
       "0.38         1\n",
       "1.27         1\n",
       "Name: Maximum Length Exposed, Length: 350, dtype: int64"
      ]
     },
     "execution_count": 122,
     "metadata": {},
     "output_type": "execute_result"
    }
   ],
   "source": [
    "# We were thinking about removing some of the attributes which see many NaN values, but after doing\n",
    "# a value_counts() on them, we realized that it would make more sense to include them and use the\n",
    "# imputer on the rest\n",
    "\n",
    "copy[\"Maximum Length Exposed\"].value_counts()"
   ]
  },
  {
   "cell_type": "code",
   "execution_count": 123,
   "metadata": {
    "scrolled": true
   },
   "outputs": [
    {
     "data": {
      "text/plain": [
       "10.00     8633\n",
       "5.00      4266\n",
       "15.00     3279\n",
       "17.00     2423\n",
       "12.00     2417\n",
       "20.00     2218\n",
       "25.00     1797\n",
       "14.00     1625\n",
       "13.00     1572\n",
       "18.00     1565\n",
       "16.00     1393\n",
       "23.00     1234\n",
       "19.00     1150\n",
       "32.00     1076\n",
       "34.00     1059\n",
       "11.00     1042\n",
       "21.00     1027\n",
       "50.00     1006\n",
       "9.00       996\n",
       "36.00      862\n",
       "40.00      856\n",
       "24.00      809\n",
       "35.00      786\n",
       "22.00      785\n",
       "38.00      767\n",
       "28.00      739\n",
       "8.00       735\n",
       "30.00      715\n",
       "33.00      709\n",
       "31.00      684\n",
       "          ... \n",
       "248.00       1\n",
       "12.37        1\n",
       "12.42        1\n",
       "46.54        1\n",
       "41.14        1\n",
       "63.62        1\n",
       "74.82        1\n",
       "18.89        1\n",
       "14.40        1\n",
       "24.59        1\n",
       "62.29        1\n",
       "23.23        1\n",
       "55.33        1\n",
       "7.94         1\n",
       "36.51        1\n",
       "26.37        1\n",
       "19.04        1\n",
       "53.59        1\n",
       "47.63        1\n",
       "66.81        1\n",
       "44.05        1\n",
       "42.64        1\n",
       "175.49       1\n",
       "22.24        1\n",
       "124.83       1\n",
       "80.31        1\n",
       "73.27        1\n",
       "71.95        1\n",
       "17.49        1\n",
       "98.78        1\n",
       "Name: Mean Depth, Length: 2171, dtype: int64"
      ]
     },
     "execution_count": 123,
     "metadata": {},
     "output_type": "execute_result"
    }
   ],
   "source": [
    "copy[\"Mean Depth\"].value_counts()"
   ]
  },
  {
   "cell_type": "code",
   "execution_count": 124,
   "metadata": {
    "collapsed": true
   },
   "outputs": [],
   "source": [
    "# We experiemnted with removing the attributes that have a lot of missing values, in a couple of cases accuracy\n",
    "# measures increased by a point or two, but overall it worsened the experience, so we decided to just do the \n",
    "# imputer\n",
    "\n",
    "# FOR THIS TRIAL try removing a few more attributes\n",
    "\n",
    "# copy = copy.drop(\"Maximum Length Exposed\", 1)\n",
    "# copy = copy.drop(\"Maximum Length Ablation\", 1)\n",
    "# copy = copy.drop(\"Mean Depth\", 1)\n",
    "# copy = copy.drop(\"Depth Accuracy\", 1)"
   ]
  },
  {
   "cell_type": "markdown",
   "metadata": {},
   "source": [
    "# Now we need to focus on cleaning the data we have up\n",
    "\n",
    "We'll start by getting rid of all of the NaN values in our dataset, we will use the imputer to square this away!"
   ]
  },
  {
   "cell_type": "code",
   "execution_count": 125,
   "metadata": {
    "collapsed": true
   },
   "outputs": [],
   "source": [
    "imputer = Imputer(strategy = \"median\")"
   ]
  },
  {
   "cell_type": "code",
   "execution_count": 126,
   "metadata": {},
   "outputs": [
    {
     "data": {
      "text/plain": [
       "Imputer(axis=0, copy=True, missing_values='NaN', strategy='median', verbose=0)"
      ]
     },
     "execution_count": 126,
     "metadata": {},
     "output_type": "execute_result"
    }
   ],
   "source": [
    "imputer.fit(copy)"
   ]
  },
  {
   "cell_type": "code",
   "execution_count": 127,
   "metadata": {
    "collapsed": true
   },
   "outputs": [],
   "source": [
    "X = imputer.transform(copy)"
   ]
  },
  {
   "cell_type": "code",
   "execution_count": 128,
   "metadata": {},
   "outputs": [
    {
     "data": {
      "text/plain": [
       "(132890, 37)"
      ]
     },
     "execution_count": 128,
     "metadata": {},
     "output_type": "execute_result"
    }
   ],
   "source": [
    "X.shape"
   ]
  },
  {
   "cell_type": "code",
   "execution_count": 129,
   "metadata": {},
   "outputs": [
    {
     "data": {
      "text/html": [
       "<div>\n",
       "<style>\n",
       "    .dataframe thead tr:only-child th {\n",
       "        text-align: right;\n",
       "    }\n",
       "\n",
       "    .dataframe thead th {\n",
       "        text-align: left;\n",
       "    }\n",
       "\n",
       "    .dataframe tbody tr th {\n",
       "        vertical-align: top;\n",
       "    }\n",
       "</style>\n",
       "<table border=\"1\" class=\"dataframe\">\n",
       "  <thead>\n",
       "    <tr style=\"text-align: right;\">\n",
       "      <th></th>\n",
       "      <th>Political Unit</th>\n",
       "      <th>Continent</th>\n",
       "      <th>Basin Code</th>\n",
       "      <th>Location Code</th>\n",
       "      <th>Glacier Code</th>\n",
       "      <th>Latitude</th>\n",
       "      <th>Longitude</th>\n",
       "      <th>Primary Class</th>\n",
       "      <th>Glacier Source</th>\n",
       "      <th>Basin Count</th>\n",
       "      <th>...</th>\n",
       "      <th>Maximum Length</th>\n",
       "      <th>Maximum Length Exposed</th>\n",
       "      <th>Maximum Length Ablation</th>\n",
       "      <th>Mean Depth</th>\n",
       "      <th>Depth Accuracy</th>\n",
       "      <th>Accumulation Orientation</th>\n",
       "      <th>Ablation Orientation</th>\n",
       "      <th>Topographic Map Year</th>\n",
       "      <th>Topographic Map Scale</th>\n",
       "      <th>Photograph Year</th>\n",
       "    </tr>\n",
       "  </thead>\n",
       "  <tbody>\n",
       "    <tr>\n",
       "      <th>0</th>\n",
       "      <td>0.0</td>\n",
       "      <td>2.0</td>\n",
       "      <td>402.0</td>\n",
       "      <td>206.0</td>\n",
       "      <td>3.0</td>\n",
       "      <td>34.672</td>\n",
       "      <td>68.874</td>\n",
       "      <td>9.0</td>\n",
       "      <td>0.0</td>\n",
       "      <td>1.0</td>\n",
       "      <td>...</td>\n",
       "      <td>1.90</td>\n",
       "      <td>0.80</td>\n",
       "      <td>0.6</td>\n",
       "      <td>20.0</td>\n",
       "      <td>2.0</td>\n",
       "      <td>2.0</td>\n",
       "      <td>2.0</td>\n",
       "      <td>1959.0</td>\n",
       "      <td>100000.0</td>\n",
       "      <td>1971.0</td>\n",
       "    </tr>\n",
       "    <tr>\n",
       "      <th>1</th>\n",
       "      <td>0.0</td>\n",
       "      <td>2.0</td>\n",
       "      <td>402.0</td>\n",
       "      <td>206.0</td>\n",
       "      <td>115.0</td>\n",
       "      <td>34.676</td>\n",
       "      <td>68.855</td>\n",
       "      <td>9.0</td>\n",
       "      <td>0.0</td>\n",
       "      <td>1.0</td>\n",
       "      <td>...</td>\n",
       "      <td>0.80</td>\n",
       "      <td>0.80</td>\n",
       "      <td>0.6</td>\n",
       "      <td>20.0</td>\n",
       "      <td>2.0</td>\n",
       "      <td>3.0</td>\n",
       "      <td>3.0</td>\n",
       "      <td>1959.0</td>\n",
       "      <td>100000.0</td>\n",
       "      <td>1971.0</td>\n",
       "    </tr>\n",
       "    <tr>\n",
       "      <th>2</th>\n",
       "      <td>0.0</td>\n",
       "      <td>2.0</td>\n",
       "      <td>402.0</td>\n",
       "      <td>206.0</td>\n",
       "      <td>226.0</td>\n",
       "      <td>34.689</td>\n",
       "      <td>68.854</td>\n",
       "      <td>9.0</td>\n",
       "      <td>0.0</td>\n",
       "      <td>1.0</td>\n",
       "      <td>...</td>\n",
       "      <td>1.50</td>\n",
       "      <td>0.80</td>\n",
       "      <td>0.6</td>\n",
       "      <td>20.0</td>\n",
       "      <td>2.0</td>\n",
       "      <td>3.0</td>\n",
       "      <td>3.0</td>\n",
       "      <td>1959.0</td>\n",
       "      <td>100000.0</td>\n",
       "      <td>1971.0</td>\n",
       "    </tr>\n",
       "    <tr>\n",
       "      <th>3</th>\n",
       "      <td>0.0</td>\n",
       "      <td>2.0</td>\n",
       "      <td>402.0</td>\n",
       "      <td>206.0</td>\n",
       "      <td>337.0</td>\n",
       "      <td>34.707</td>\n",
       "      <td>68.857</td>\n",
       "      <td>9.0</td>\n",
       "      <td>0.0</td>\n",
       "      <td>1.0</td>\n",
       "      <td>...</td>\n",
       "      <td>1.50</td>\n",
       "      <td>0.80</td>\n",
       "      <td>0.6</td>\n",
       "      <td>20.0</td>\n",
       "      <td>2.0</td>\n",
       "      <td>2.0</td>\n",
       "      <td>2.0</td>\n",
       "      <td>1959.0</td>\n",
       "      <td>100000.0</td>\n",
       "      <td>1971.0</td>\n",
       "    </tr>\n",
       "    <tr>\n",
       "      <th>4</th>\n",
       "      <td>0.0</td>\n",
       "      <td>2.0</td>\n",
       "      <td>402.0</td>\n",
       "      <td>206.0</td>\n",
       "      <td>448.0</td>\n",
       "      <td>34.719</td>\n",
       "      <td>68.852</td>\n",
       "      <td>9.0</td>\n",
       "      <td>0.0</td>\n",
       "      <td>1.0</td>\n",
       "      <td>...</td>\n",
       "      <td>2.00</td>\n",
       "      <td>0.80</td>\n",
       "      <td>0.6</td>\n",
       "      <td>20.0</td>\n",
       "      <td>2.0</td>\n",
       "      <td>8.0</td>\n",
       "      <td>8.0</td>\n",
       "      <td>1959.0</td>\n",
       "      <td>100000.0</td>\n",
       "      <td>1971.0</td>\n",
       "    </tr>\n",
       "    <tr>\n",
       "      <th>5</th>\n",
       "      <td>0.0</td>\n",
       "      <td>2.0</td>\n",
       "      <td>402.0</td>\n",
       "      <td>206.0</td>\n",
       "      <td>564.0</td>\n",
       "      <td>34.806</td>\n",
       "      <td>68.868</td>\n",
       "      <td>9.0</td>\n",
       "      <td>0.0</td>\n",
       "      <td>1.0</td>\n",
       "      <td>...</td>\n",
       "      <td>2.00</td>\n",
       "      <td>0.80</td>\n",
       "      <td>0.6</td>\n",
       "      <td>20.0</td>\n",
       "      <td>2.0</td>\n",
       "      <td>3.0</td>\n",
       "      <td>3.0</td>\n",
       "      <td>1959.0</td>\n",
       "      <td>100000.0</td>\n",
       "      <td>1971.0</td>\n",
       "    </tr>\n",
       "    <tr>\n",
       "      <th>6</th>\n",
       "      <td>0.0</td>\n",
       "      <td>2.0</td>\n",
       "      <td>402.0</td>\n",
       "      <td>206.0</td>\n",
       "      <td>676.0</td>\n",
       "      <td>34.818</td>\n",
       "      <td>68.872</td>\n",
       "      <td>9.0</td>\n",
       "      <td>0.0</td>\n",
       "      <td>1.0</td>\n",
       "      <td>...</td>\n",
       "      <td>1.70</td>\n",
       "      <td>0.80</td>\n",
       "      <td>0.6</td>\n",
       "      <td>20.0</td>\n",
       "      <td>2.0</td>\n",
       "      <td>1.0</td>\n",
       "      <td>1.0</td>\n",
       "      <td>1959.0</td>\n",
       "      <td>100000.0</td>\n",
       "      <td>1971.0</td>\n",
       "    </tr>\n",
       "    <tr>\n",
       "      <th>7</th>\n",
       "      <td>0.0</td>\n",
       "      <td>2.0</td>\n",
       "      <td>402.0</td>\n",
       "      <td>206.0</td>\n",
       "      <td>787.0</td>\n",
       "      <td>34.802</td>\n",
       "      <td>68.886</td>\n",
       "      <td>9.0</td>\n",
       "      <td>0.0</td>\n",
       "      <td>1.0</td>\n",
       "      <td>...</td>\n",
       "      <td>3.30</td>\n",
       "      <td>0.80</td>\n",
       "      <td>0.6</td>\n",
       "      <td>20.0</td>\n",
       "      <td>2.0</td>\n",
       "      <td>8.0</td>\n",
       "      <td>8.0</td>\n",
       "      <td>1959.0</td>\n",
       "      <td>100000.0</td>\n",
       "      <td>1971.0</td>\n",
       "    </tr>\n",
       "    <tr>\n",
       "      <th>8</th>\n",
       "      <td>0.0</td>\n",
       "      <td>2.0</td>\n",
       "      <td>402.0</td>\n",
       "      <td>206.0</td>\n",
       "      <td>899.0</td>\n",
       "      <td>34.807</td>\n",
       "      <td>68.891</td>\n",
       "      <td>9.0</td>\n",
       "      <td>0.0</td>\n",
       "      <td>1.0</td>\n",
       "      <td>...</td>\n",
       "      <td>1.50</td>\n",
       "      <td>0.80</td>\n",
       "      <td>0.6</td>\n",
       "      <td>20.0</td>\n",
       "      <td>2.0</td>\n",
       "      <td>1.0</td>\n",
       "      <td>3.0</td>\n",
       "      <td>1959.0</td>\n",
       "      <td>100000.0</td>\n",
       "      <td>1971.0</td>\n",
       "    </tr>\n",
       "    <tr>\n",
       "      <th>9</th>\n",
       "      <td>0.0</td>\n",
       "      <td>2.0</td>\n",
       "      <td>402.0</td>\n",
       "      <td>206.0</td>\n",
       "      <td>4.0</td>\n",
       "      <td>35.175</td>\n",
       "      <td>68.757</td>\n",
       "      <td>9.0</td>\n",
       "      <td>0.0</td>\n",
       "      <td>1.0</td>\n",
       "      <td>...</td>\n",
       "      <td>2.20</td>\n",
       "      <td>0.80</td>\n",
       "      <td>0.6</td>\n",
       "      <td>20.0</td>\n",
       "      <td>2.0</td>\n",
       "      <td>2.0</td>\n",
       "      <td>0.0</td>\n",
       "      <td>1959.0</td>\n",
       "      <td>100000.0</td>\n",
       "      <td>1971.0</td>\n",
       "    </tr>\n",
       "    <tr>\n",
       "      <th>10</th>\n",
       "      <td>0.0</td>\n",
       "      <td>2.0</td>\n",
       "      <td>402.0</td>\n",
       "      <td>206.0</td>\n",
       "      <td>15.0</td>\n",
       "      <td>35.204</td>\n",
       "      <td>68.783</td>\n",
       "      <td>9.0</td>\n",
       "      <td>0.0</td>\n",
       "      <td>1.0</td>\n",
       "      <td>...</td>\n",
       "      <td>1.30</td>\n",
       "      <td>0.80</td>\n",
       "      <td>0.6</td>\n",
       "      <td>20.0</td>\n",
       "      <td>2.0</td>\n",
       "      <td>4.0</td>\n",
       "      <td>4.0</td>\n",
       "      <td>1959.0</td>\n",
       "      <td>100000.0</td>\n",
       "      <td>1971.0</td>\n",
       "    </tr>\n",
       "    <tr>\n",
       "      <th>11</th>\n",
       "      <td>0.0</td>\n",
       "      <td>2.0</td>\n",
       "      <td>402.0</td>\n",
       "      <td>206.0</td>\n",
       "      <td>26.0</td>\n",
       "      <td>35.218</td>\n",
       "      <td>68.805</td>\n",
       "      <td>9.0</td>\n",
       "      <td>0.0</td>\n",
       "      <td>1.0</td>\n",
       "      <td>...</td>\n",
       "      <td>1.20</td>\n",
       "      <td>0.80</td>\n",
       "      <td>0.6</td>\n",
       "      <td>20.0</td>\n",
       "      <td>2.0</td>\n",
       "      <td>2.0</td>\n",
       "      <td>2.0</td>\n",
       "      <td>1959.0</td>\n",
       "      <td>100000.0</td>\n",
       "      <td>1971.0</td>\n",
       "    </tr>\n",
       "    <tr>\n",
       "      <th>12</th>\n",
       "      <td>0.0</td>\n",
       "      <td>2.0</td>\n",
       "      <td>402.0</td>\n",
       "      <td>206.0</td>\n",
       "      <td>37.0</td>\n",
       "      <td>35.207</td>\n",
       "      <td>68.817</td>\n",
       "      <td>9.0</td>\n",
       "      <td>0.0</td>\n",
       "      <td>1.0</td>\n",
       "      <td>...</td>\n",
       "      <td>0.80</td>\n",
       "      <td>0.80</td>\n",
       "      <td>0.6</td>\n",
       "      <td>20.0</td>\n",
       "      <td>2.0</td>\n",
       "      <td>2.0</td>\n",
       "      <td>2.0</td>\n",
       "      <td>1959.0</td>\n",
       "      <td>100000.0</td>\n",
       "      <td>1971.0</td>\n",
       "    </tr>\n",
       "    <tr>\n",
       "      <th>13</th>\n",
       "      <td>0.0</td>\n",
       "      <td>2.0</td>\n",
       "      <td>402.0</td>\n",
       "      <td>206.0</td>\n",
       "      <td>48.0</td>\n",
       "      <td>35.202</td>\n",
       "      <td>68.808</td>\n",
       "      <td>9.0</td>\n",
       "      <td>0.0</td>\n",
       "      <td>1.0</td>\n",
       "      <td>...</td>\n",
       "      <td>2.00</td>\n",
       "      <td>0.80</td>\n",
       "      <td>0.6</td>\n",
       "      <td>20.0</td>\n",
       "      <td>2.0</td>\n",
       "      <td>8.0</td>\n",
       "      <td>8.0</td>\n",
       "      <td>1959.0</td>\n",
       "      <td>100000.0</td>\n",
       "      <td>1971.0</td>\n",
       "    </tr>\n",
       "    <tr>\n",
       "      <th>14</th>\n",
       "      <td>0.0</td>\n",
       "      <td>2.0</td>\n",
       "      <td>402.0</td>\n",
       "      <td>206.0</td>\n",
       "      <td>59.0</td>\n",
       "      <td>35.193</td>\n",
       "      <td>68.841</td>\n",
       "      <td>9.0</td>\n",
       "      <td>0.0</td>\n",
       "      <td>1.0</td>\n",
       "      <td>...</td>\n",
       "      <td>0.80</td>\n",
       "      <td>0.80</td>\n",
       "      <td>0.6</td>\n",
       "      <td>20.0</td>\n",
       "      <td>2.0</td>\n",
       "      <td>1.0</td>\n",
       "      <td>1.0</td>\n",
       "      <td>1959.0</td>\n",
       "      <td>100000.0</td>\n",
       "      <td>1971.0</td>\n",
       "    </tr>\n",
       "    <tr>\n",
       "      <th>15</th>\n",
       "      <td>0.0</td>\n",
       "      <td>2.0</td>\n",
       "      <td>402.0</td>\n",
       "      <td>206.0</td>\n",
       "      <td>70.0</td>\n",
       "      <td>35.243</td>\n",
       "      <td>68.841</td>\n",
       "      <td>9.0</td>\n",
       "      <td>0.0</td>\n",
       "      <td>1.0</td>\n",
       "      <td>...</td>\n",
       "      <td>1.80</td>\n",
       "      <td>0.80</td>\n",
       "      <td>0.6</td>\n",
       "      <td>20.0</td>\n",
       "      <td>2.0</td>\n",
       "      <td>2.0</td>\n",
       "      <td>1.0</td>\n",
       "      <td>1959.0</td>\n",
       "      <td>100000.0</td>\n",
       "      <td>1971.0</td>\n",
       "    </tr>\n",
       "    <tr>\n",
       "      <th>16</th>\n",
       "      <td>0.0</td>\n",
       "      <td>2.0</td>\n",
       "      <td>402.0</td>\n",
       "      <td>206.0</td>\n",
       "      <td>81.0</td>\n",
       "      <td>35.241</td>\n",
       "      <td>68.859</td>\n",
       "      <td>9.0</td>\n",
       "      <td>0.0</td>\n",
       "      <td>1.0</td>\n",
       "      <td>...</td>\n",
       "      <td>1.20</td>\n",
       "      <td>0.80</td>\n",
       "      <td>0.6</td>\n",
       "      <td>20.0</td>\n",
       "      <td>2.0</td>\n",
       "      <td>2.0</td>\n",
       "      <td>2.0</td>\n",
       "      <td>1959.0</td>\n",
       "      <td>100000.0</td>\n",
       "      <td>1971.0</td>\n",
       "    </tr>\n",
       "    <tr>\n",
       "      <th>17</th>\n",
       "      <td>0.0</td>\n",
       "      <td>2.0</td>\n",
       "      <td>402.0</td>\n",
       "      <td>206.0</td>\n",
       "      <td>93.0</td>\n",
       "      <td>35.268</td>\n",
       "      <td>68.924</td>\n",
       "      <td>9.0</td>\n",
       "      <td>0.0</td>\n",
       "      <td>1.0</td>\n",
       "      <td>...</td>\n",
       "      <td>2.50</td>\n",
       "      <td>0.80</td>\n",
       "      <td>0.6</td>\n",
       "      <td>20.0</td>\n",
       "      <td>2.0</td>\n",
       "      <td>8.0</td>\n",
       "      <td>8.0</td>\n",
       "      <td>1959.0</td>\n",
       "      <td>100000.0</td>\n",
       "      <td>1971.0</td>\n",
       "    </tr>\n",
       "    <tr>\n",
       "      <th>18</th>\n",
       "      <td>0.0</td>\n",
       "      <td>2.0</td>\n",
       "      <td>402.0</td>\n",
       "      <td>206.0</td>\n",
       "      <td>104.0</td>\n",
       "      <td>35.240</td>\n",
       "      <td>68.990</td>\n",
       "      <td>9.0</td>\n",
       "      <td>0.0</td>\n",
       "      <td>1.0</td>\n",
       "      <td>...</td>\n",
       "      <td>1.10</td>\n",
       "      <td>0.80</td>\n",
       "      <td>0.6</td>\n",
       "      <td>20.0</td>\n",
       "      <td>2.0</td>\n",
       "      <td>7.0</td>\n",
       "      <td>6.0</td>\n",
       "      <td>1959.0</td>\n",
       "      <td>100000.0</td>\n",
       "      <td>1971.0</td>\n",
       "    </tr>\n",
       "    <tr>\n",
       "      <th>19</th>\n",
       "      <td>0.0</td>\n",
       "      <td>2.0</td>\n",
       "      <td>402.0</td>\n",
       "      <td>241.0</td>\n",
       "      <td>3.0</td>\n",
       "      <td>35.388</td>\n",
       "      <td>69.258</td>\n",
       "      <td>6.0</td>\n",
       "      <td>0.0</td>\n",
       "      <td>1.0</td>\n",
       "      <td>...</td>\n",
       "      <td>0.70</td>\n",
       "      <td>0.80</td>\n",
       "      <td>0.6</td>\n",
       "      <td>20.0</td>\n",
       "      <td>2.0</td>\n",
       "      <td>3.0</td>\n",
       "      <td>3.0</td>\n",
       "      <td>1959.0</td>\n",
       "      <td>100000.0</td>\n",
       "      <td>1971.0</td>\n",
       "    </tr>\n",
       "    <tr>\n",
       "      <th>20</th>\n",
       "      <td>0.0</td>\n",
       "      <td>2.0</td>\n",
       "      <td>402.0</td>\n",
       "      <td>241.0</td>\n",
       "      <td>115.0</td>\n",
       "      <td>35.386</td>\n",
       "      <td>69.257</td>\n",
       "      <td>9.0</td>\n",
       "      <td>0.0</td>\n",
       "      <td>1.0</td>\n",
       "      <td>...</td>\n",
       "      <td>0.80</td>\n",
       "      <td>0.80</td>\n",
       "      <td>0.6</td>\n",
       "      <td>20.0</td>\n",
       "      <td>2.0</td>\n",
       "      <td>3.0</td>\n",
       "      <td>3.0</td>\n",
       "      <td>1959.0</td>\n",
       "      <td>100000.0</td>\n",
       "      <td>1971.0</td>\n",
       "    </tr>\n",
       "    <tr>\n",
       "      <th>21</th>\n",
       "      <td>0.0</td>\n",
       "      <td>2.0</td>\n",
       "      <td>402.0</td>\n",
       "      <td>241.0</td>\n",
       "      <td>226.0</td>\n",
       "      <td>35.367</td>\n",
       "      <td>69.267</td>\n",
       "      <td>9.0</td>\n",
       "      <td>0.0</td>\n",
       "      <td>1.0</td>\n",
       "      <td>...</td>\n",
       "      <td>1.30</td>\n",
       "      <td>0.80</td>\n",
       "      <td>0.6</td>\n",
       "      <td>20.0</td>\n",
       "      <td>2.0</td>\n",
       "      <td>7.0</td>\n",
       "      <td>7.0</td>\n",
       "      <td>1959.0</td>\n",
       "      <td>100000.0</td>\n",
       "      <td>1971.0</td>\n",
       "    </tr>\n",
       "    <tr>\n",
       "      <th>22</th>\n",
       "      <td>0.0</td>\n",
       "      <td>2.0</td>\n",
       "      <td>402.0</td>\n",
       "      <td>241.0</td>\n",
       "      <td>337.0</td>\n",
       "      <td>35.357</td>\n",
       "      <td>69.256</td>\n",
       "      <td>9.0</td>\n",
       "      <td>0.0</td>\n",
       "      <td>1.0</td>\n",
       "      <td>...</td>\n",
       "      <td>1.10</td>\n",
       "      <td>0.80</td>\n",
       "      <td>0.6</td>\n",
       "      <td>20.0</td>\n",
       "      <td>2.0</td>\n",
       "      <td>1.0</td>\n",
       "      <td>3.0</td>\n",
       "      <td>1959.0</td>\n",
       "      <td>100000.0</td>\n",
       "      <td>1971.0</td>\n",
       "    </tr>\n",
       "    <tr>\n",
       "      <th>23</th>\n",
       "      <td>0.0</td>\n",
       "      <td>2.0</td>\n",
       "      <td>402.0</td>\n",
       "      <td>241.0</td>\n",
       "      <td>448.0</td>\n",
       "      <td>35.350</td>\n",
       "      <td>69.287</td>\n",
       "      <td>9.0</td>\n",
       "      <td>0.0</td>\n",
       "      <td>1.0</td>\n",
       "      <td>...</td>\n",
       "      <td>1.50</td>\n",
       "      <td>0.80</td>\n",
       "      <td>0.6</td>\n",
       "      <td>20.0</td>\n",
       "      <td>2.0</td>\n",
       "      <td>0.0</td>\n",
       "      <td>6.0</td>\n",
       "      <td>1959.0</td>\n",
       "      <td>100000.0</td>\n",
       "      <td>1971.0</td>\n",
       "    </tr>\n",
       "    <tr>\n",
       "      <th>24</th>\n",
       "      <td>0.0</td>\n",
       "      <td>2.0</td>\n",
       "      <td>402.0</td>\n",
       "      <td>241.0</td>\n",
       "      <td>564.0</td>\n",
       "      <td>35.353</td>\n",
       "      <td>69.300</td>\n",
       "      <td>9.0</td>\n",
       "      <td>0.0</td>\n",
       "      <td>1.0</td>\n",
       "      <td>...</td>\n",
       "      <td>1.90</td>\n",
       "      <td>0.80</td>\n",
       "      <td>0.6</td>\n",
       "      <td>20.0</td>\n",
       "      <td>2.0</td>\n",
       "      <td>7.0</td>\n",
       "      <td>7.0</td>\n",
       "      <td>1959.0</td>\n",
       "      <td>100000.0</td>\n",
       "      <td>1971.0</td>\n",
       "    </tr>\n",
       "    <tr>\n",
       "      <th>25</th>\n",
       "      <td>0.0</td>\n",
       "      <td>2.0</td>\n",
       "      <td>402.0</td>\n",
       "      <td>241.0</td>\n",
       "      <td>676.0</td>\n",
       "      <td>35.356</td>\n",
       "      <td>69.300</td>\n",
       "      <td>9.0</td>\n",
       "      <td>0.0</td>\n",
       "      <td>1.0</td>\n",
       "      <td>...</td>\n",
       "      <td>1.60</td>\n",
       "      <td>0.80</td>\n",
       "      <td>0.6</td>\n",
       "      <td>20.0</td>\n",
       "      <td>2.0</td>\n",
       "      <td>0.0</td>\n",
       "      <td>2.0</td>\n",
       "      <td>1959.0</td>\n",
       "      <td>100000.0</td>\n",
       "      <td>1971.0</td>\n",
       "    </tr>\n",
       "    <tr>\n",
       "      <th>26</th>\n",
       "      <td>0.0</td>\n",
       "      <td>2.0</td>\n",
       "      <td>402.0</td>\n",
       "      <td>241.0</td>\n",
       "      <td>787.0</td>\n",
       "      <td>35.362</td>\n",
       "      <td>69.294</td>\n",
       "      <td>6.0</td>\n",
       "      <td>0.0</td>\n",
       "      <td>1.0</td>\n",
       "      <td>...</td>\n",
       "      <td>2.30</td>\n",
       "      <td>0.80</td>\n",
       "      <td>0.6</td>\n",
       "      <td>20.0</td>\n",
       "      <td>2.0</td>\n",
       "      <td>0.0</td>\n",
       "      <td>0.0</td>\n",
       "      <td>1959.0</td>\n",
       "      <td>100000.0</td>\n",
       "      <td>1971.0</td>\n",
       "    </tr>\n",
       "    <tr>\n",
       "      <th>27</th>\n",
       "      <td>0.0</td>\n",
       "      <td>2.0</td>\n",
       "      <td>402.0</td>\n",
       "      <td>241.0</td>\n",
       "      <td>899.0</td>\n",
       "      <td>35.383</td>\n",
       "      <td>69.267</td>\n",
       "      <td>7.0</td>\n",
       "      <td>0.0</td>\n",
       "      <td>1.0</td>\n",
       "      <td>...</td>\n",
       "      <td>0.30</td>\n",
       "      <td>0.80</td>\n",
       "      <td>0.6</td>\n",
       "      <td>20.0</td>\n",
       "      <td>2.0</td>\n",
       "      <td>2.0</td>\n",
       "      <td>2.0</td>\n",
       "      <td>1959.0</td>\n",
       "      <td>100000.0</td>\n",
       "      <td>1971.0</td>\n",
       "    </tr>\n",
       "    <tr>\n",
       "      <th>28</th>\n",
       "      <td>0.0</td>\n",
       "      <td>2.0</td>\n",
       "      <td>402.0</td>\n",
       "      <td>241.0</td>\n",
       "      <td>4.0</td>\n",
       "      <td>35.383</td>\n",
       "      <td>69.274</td>\n",
       "      <td>9.0</td>\n",
       "      <td>0.0</td>\n",
       "      <td>1.0</td>\n",
       "      <td>...</td>\n",
       "      <td>0.90</td>\n",
       "      <td>0.80</td>\n",
       "      <td>0.6</td>\n",
       "      <td>20.0</td>\n",
       "      <td>2.0</td>\n",
       "      <td>7.0</td>\n",
       "      <td>7.0</td>\n",
       "      <td>1959.0</td>\n",
       "      <td>100000.0</td>\n",
       "      <td>1971.0</td>\n",
       "    </tr>\n",
       "    <tr>\n",
       "      <th>29</th>\n",
       "      <td>0.0</td>\n",
       "      <td>2.0</td>\n",
       "      <td>402.0</td>\n",
       "      <td>241.0</td>\n",
       "      <td>15.0</td>\n",
       "      <td>35.408</td>\n",
       "      <td>69.271</td>\n",
       "      <td>7.0</td>\n",
       "      <td>0.0</td>\n",
       "      <td>1.0</td>\n",
       "      <td>...</td>\n",
       "      <td>0.50</td>\n",
       "      <td>0.80</td>\n",
       "      <td>0.6</td>\n",
       "      <td>20.0</td>\n",
       "      <td>2.0</td>\n",
       "      <td>0.0</td>\n",
       "      <td>0.0</td>\n",
       "      <td>1959.0</td>\n",
       "      <td>100000.0</td>\n",
       "      <td>1971.0</td>\n",
       "    </tr>\n",
       "    <tr>\n",
       "      <th>...</th>\n",
       "      <td>...</td>\n",
       "      <td>...</td>\n",
       "      <td>...</td>\n",
       "      <td>...</td>\n",
       "      <td>...</td>\n",
       "      <td>...</td>\n",
       "      <td>...</td>\n",
       "      <td>...</td>\n",
       "      <td>...</td>\n",
       "      <td>...</td>\n",
       "      <td>...</td>\n",
       "      <td>...</td>\n",
       "      <td>...</td>\n",
       "      <td>...</td>\n",
       "      <td>...</td>\n",
       "      <td>...</td>\n",
       "      <td>...</td>\n",
       "      <td>...</td>\n",
       "      <td>...</td>\n",
       "      <td>...</td>\n",
       "      <td>...</td>\n",
       "    </tr>\n",
       "    <tr>\n",
       "      <th>132860</th>\n",
       "      <td>34.0</td>\n",
       "      <td>5.0</td>\n",
       "      <td>391.0</td>\n",
       "      <td>31.0</td>\n",
       "      <td>899.0</td>\n",
       "      <td>67.400</td>\n",
       "      <td>-154.950</td>\n",
       "      <td>6.0</td>\n",
       "      <td>0.0</td>\n",
       "      <td>1.0</td>\n",
       "      <td>...</td>\n",
       "      <td>1.10</td>\n",
       "      <td>0.80</td>\n",
       "      <td>0.6</td>\n",
       "      <td>20.0</td>\n",
       "      <td>2.0</td>\n",
       "      <td>5.0</td>\n",
       "      <td>5.0</td>\n",
       "      <td>1972.0</td>\n",
       "      <td>63360.0</td>\n",
       "      <td>1958.0</td>\n",
       "    </tr>\n",
       "    <tr>\n",
       "      <th>132861</th>\n",
       "      <td>34.0</td>\n",
       "      <td>5.0</td>\n",
       "      <td>391.0</td>\n",
       "      <td>31.0</td>\n",
       "      <td>4.0</td>\n",
       "      <td>67.383</td>\n",
       "      <td>-154.900</td>\n",
       "      <td>7.0</td>\n",
       "      <td>0.0</td>\n",
       "      <td>1.0</td>\n",
       "      <td>...</td>\n",
       "      <td>0.30</td>\n",
       "      <td>0.80</td>\n",
       "      <td>0.6</td>\n",
       "      <td>20.0</td>\n",
       "      <td>2.0</td>\n",
       "      <td>4.0</td>\n",
       "      <td>4.0</td>\n",
       "      <td>1972.0</td>\n",
       "      <td>63360.0</td>\n",
       "      <td>1958.0</td>\n",
       "    </tr>\n",
       "    <tr>\n",
       "      <th>132862</th>\n",
       "      <td>34.0</td>\n",
       "      <td>5.0</td>\n",
       "      <td>391.0</td>\n",
       "      <td>31.0</td>\n",
       "      <td>15.0</td>\n",
       "      <td>67.367</td>\n",
       "      <td>-154.933</td>\n",
       "      <td>6.0</td>\n",
       "      <td>0.0</td>\n",
       "      <td>1.0</td>\n",
       "      <td>...</td>\n",
       "      <td>0.80</td>\n",
       "      <td>0.80</td>\n",
       "      <td>0.6</td>\n",
       "      <td>20.0</td>\n",
       "      <td>2.0</td>\n",
       "      <td>3.0</td>\n",
       "      <td>3.0</td>\n",
       "      <td>1972.0</td>\n",
       "      <td>63360.0</td>\n",
       "      <td>1958.0</td>\n",
       "    </tr>\n",
       "    <tr>\n",
       "      <th>132863</th>\n",
       "      <td>34.0</td>\n",
       "      <td>5.0</td>\n",
       "      <td>391.0</td>\n",
       "      <td>31.0</td>\n",
       "      <td>26.0</td>\n",
       "      <td>67.367</td>\n",
       "      <td>-154.967</td>\n",
       "      <td>6.0</td>\n",
       "      <td>0.0</td>\n",
       "      <td>1.0</td>\n",
       "      <td>...</td>\n",
       "      <td>0.60</td>\n",
       "      <td>0.80</td>\n",
       "      <td>0.6</td>\n",
       "      <td>20.0</td>\n",
       "      <td>2.0</td>\n",
       "      <td>3.0</td>\n",
       "      <td>3.0</td>\n",
       "      <td>1972.0</td>\n",
       "      <td>63360.0</td>\n",
       "      <td>1958.0</td>\n",
       "    </tr>\n",
       "    <tr>\n",
       "      <th>132864</th>\n",
       "      <td>34.0</td>\n",
       "      <td>5.0</td>\n",
       "      <td>391.0</td>\n",
       "      <td>31.0</td>\n",
       "      <td>37.0</td>\n",
       "      <td>67.367</td>\n",
       "      <td>-154.500</td>\n",
       "      <td>6.0</td>\n",
       "      <td>0.0</td>\n",
       "      <td>1.0</td>\n",
       "      <td>...</td>\n",
       "      <td>1.60</td>\n",
       "      <td>0.80</td>\n",
       "      <td>0.6</td>\n",
       "      <td>20.0</td>\n",
       "      <td>2.0</td>\n",
       "      <td>2.0</td>\n",
       "      <td>2.0</td>\n",
       "      <td>1972.0</td>\n",
       "      <td>63360.0</td>\n",
       "      <td>1958.0</td>\n",
       "    </tr>\n",
       "    <tr>\n",
       "      <th>132865</th>\n",
       "      <td>34.0</td>\n",
       "      <td>5.0</td>\n",
       "      <td>391.0</td>\n",
       "      <td>31.0</td>\n",
       "      <td>48.0</td>\n",
       "      <td>67.333</td>\n",
       "      <td>-154.500</td>\n",
       "      <td>6.0</td>\n",
       "      <td>0.0</td>\n",
       "      <td>1.0</td>\n",
       "      <td>...</td>\n",
       "      <td>0.60</td>\n",
       "      <td>0.80</td>\n",
       "      <td>0.6</td>\n",
       "      <td>20.0</td>\n",
       "      <td>2.0</td>\n",
       "      <td>3.0</td>\n",
       "      <td>3.0</td>\n",
       "      <td>1972.0</td>\n",
       "      <td>63360.0</td>\n",
       "      <td>1958.0</td>\n",
       "    </tr>\n",
       "    <tr>\n",
       "      <th>132866</th>\n",
       "      <td>34.0</td>\n",
       "      <td>5.0</td>\n",
       "      <td>391.0</td>\n",
       "      <td>31.0</td>\n",
       "      <td>59.0</td>\n",
       "      <td>67.317</td>\n",
       "      <td>-154.433</td>\n",
       "      <td>7.0</td>\n",
       "      <td>0.0</td>\n",
       "      <td>1.0</td>\n",
       "      <td>...</td>\n",
       "      <td>1.10</td>\n",
       "      <td>0.80</td>\n",
       "      <td>0.6</td>\n",
       "      <td>20.0</td>\n",
       "      <td>2.0</td>\n",
       "      <td>3.0</td>\n",
       "      <td>3.0</td>\n",
       "      <td>1972.0</td>\n",
       "      <td>63360.0</td>\n",
       "      <td>1958.0</td>\n",
       "    </tr>\n",
       "    <tr>\n",
       "      <th>132867</th>\n",
       "      <td>34.0</td>\n",
       "      <td>5.0</td>\n",
       "      <td>391.0</td>\n",
       "      <td>31.0</td>\n",
       "      <td>70.0</td>\n",
       "      <td>67.300</td>\n",
       "      <td>-154.417</td>\n",
       "      <td>6.0</td>\n",
       "      <td>0.0</td>\n",
       "      <td>1.0</td>\n",
       "      <td>...</td>\n",
       "      <td>0.60</td>\n",
       "      <td>0.80</td>\n",
       "      <td>0.6</td>\n",
       "      <td>20.0</td>\n",
       "      <td>2.0</td>\n",
       "      <td>4.0</td>\n",
       "      <td>4.0</td>\n",
       "      <td>1972.0</td>\n",
       "      <td>63360.0</td>\n",
       "      <td>1958.0</td>\n",
       "    </tr>\n",
       "    <tr>\n",
       "      <th>132868</th>\n",
       "      <td>34.0</td>\n",
       "      <td>5.0</td>\n",
       "      <td>391.0</td>\n",
       "      <td>31.0</td>\n",
       "      <td>81.0</td>\n",
       "      <td>67.300</td>\n",
       "      <td>-154.467</td>\n",
       "      <td>9.0</td>\n",
       "      <td>0.0</td>\n",
       "      <td>1.0</td>\n",
       "      <td>...</td>\n",
       "      <td>0.80</td>\n",
       "      <td>0.80</td>\n",
       "      <td>0.6</td>\n",
       "      <td>20.0</td>\n",
       "      <td>2.0</td>\n",
       "      <td>1.0</td>\n",
       "      <td>1.0</td>\n",
       "      <td>1972.0</td>\n",
       "      <td>63360.0</td>\n",
       "      <td>1958.0</td>\n",
       "    </tr>\n",
       "    <tr>\n",
       "      <th>132869</th>\n",
       "      <td>34.0</td>\n",
       "      <td>5.0</td>\n",
       "      <td>391.0</td>\n",
       "      <td>31.0</td>\n",
       "      <td>93.0</td>\n",
       "      <td>67.300</td>\n",
       "      <td>-154.467</td>\n",
       "      <td>9.0</td>\n",
       "      <td>0.0</td>\n",
       "      <td>1.0</td>\n",
       "      <td>...</td>\n",
       "      <td>0.50</td>\n",
       "      <td>0.80</td>\n",
       "      <td>0.6</td>\n",
       "      <td>20.0</td>\n",
       "      <td>2.0</td>\n",
       "      <td>3.0</td>\n",
       "      <td>3.0</td>\n",
       "      <td>1972.0</td>\n",
       "      <td>63360.0</td>\n",
       "      <td>1958.0</td>\n",
       "    </tr>\n",
       "    <tr>\n",
       "      <th>132870</th>\n",
       "      <td>34.0</td>\n",
       "      <td>5.0</td>\n",
       "      <td>391.0</td>\n",
       "      <td>31.0</td>\n",
       "      <td>104.0</td>\n",
       "      <td>67.383</td>\n",
       "      <td>-154.200</td>\n",
       "      <td>7.0</td>\n",
       "      <td>0.0</td>\n",
       "      <td>1.0</td>\n",
       "      <td>...</td>\n",
       "      <td>0.30</td>\n",
       "      <td>0.80</td>\n",
       "      <td>0.6</td>\n",
       "      <td>20.0</td>\n",
       "      <td>2.0</td>\n",
       "      <td>6.0</td>\n",
       "      <td>6.0</td>\n",
       "      <td>1972.0</td>\n",
       "      <td>63360.0</td>\n",
       "      <td>1958.0</td>\n",
       "    </tr>\n",
       "    <tr>\n",
       "      <th>132871</th>\n",
       "      <td>34.0</td>\n",
       "      <td>5.0</td>\n",
       "      <td>391.0</td>\n",
       "      <td>31.0</td>\n",
       "      <td>116.0</td>\n",
       "      <td>67.283</td>\n",
       "      <td>-154.700</td>\n",
       "      <td>6.0</td>\n",
       "      <td>0.0</td>\n",
       "      <td>1.0</td>\n",
       "      <td>...</td>\n",
       "      <td>0.60</td>\n",
       "      <td>0.80</td>\n",
       "      <td>0.6</td>\n",
       "      <td>20.0</td>\n",
       "      <td>2.0</td>\n",
       "      <td>3.0</td>\n",
       "      <td>3.0</td>\n",
       "      <td>1972.0</td>\n",
       "      <td>63360.0</td>\n",
       "      <td>1958.0</td>\n",
       "    </tr>\n",
       "    <tr>\n",
       "      <th>132872</th>\n",
       "      <td>34.0</td>\n",
       "      <td>5.0</td>\n",
       "      <td>391.0</td>\n",
       "      <td>31.0</td>\n",
       "      <td>127.0</td>\n",
       "      <td>67.283</td>\n",
       "      <td>-154.450</td>\n",
       "      <td>6.0</td>\n",
       "      <td>0.0</td>\n",
       "      <td>1.0</td>\n",
       "      <td>...</td>\n",
       "      <td>0.50</td>\n",
       "      <td>0.80</td>\n",
       "      <td>0.6</td>\n",
       "      <td>20.0</td>\n",
       "      <td>2.0</td>\n",
       "      <td>7.0</td>\n",
       "      <td>7.0</td>\n",
       "      <td>1972.0</td>\n",
       "      <td>63360.0</td>\n",
       "      <td>1958.0</td>\n",
       "    </tr>\n",
       "    <tr>\n",
       "      <th>132873</th>\n",
       "      <td>34.0</td>\n",
       "      <td>5.0</td>\n",
       "      <td>391.0</td>\n",
       "      <td>31.0</td>\n",
       "      <td>138.0</td>\n",
       "      <td>67.300</td>\n",
       "      <td>-154.450</td>\n",
       "      <td>7.0</td>\n",
       "      <td>0.0</td>\n",
       "      <td>1.0</td>\n",
       "      <td>...</td>\n",
       "      <td>0.30</td>\n",
       "      <td>0.80</td>\n",
       "      <td>0.6</td>\n",
       "      <td>20.0</td>\n",
       "      <td>2.0</td>\n",
       "      <td>3.0</td>\n",
       "      <td>3.0</td>\n",
       "      <td>1972.0</td>\n",
       "      <td>63360.0</td>\n",
       "      <td>1958.0</td>\n",
       "    </tr>\n",
       "    <tr>\n",
       "      <th>132874</th>\n",
       "      <td>34.0</td>\n",
       "      <td>5.0</td>\n",
       "      <td>392.0</td>\n",
       "      <td>0.0</td>\n",
       "      <td>3.0</td>\n",
       "      <td>64.931</td>\n",
       "      <td>-165.612</td>\n",
       "      <td>6.0</td>\n",
       "      <td>1.0</td>\n",
       "      <td>1.0</td>\n",
       "      <td>...</td>\n",
       "      <td>0.80</td>\n",
       "      <td>0.80</td>\n",
       "      <td>0.6</td>\n",
       "      <td>20.0</td>\n",
       "      <td>2.0</td>\n",
       "      <td>1.0</td>\n",
       "      <td>1.0</td>\n",
       "      <td>1950.0</td>\n",
       "      <td>63360.0</td>\n",
       "      <td>1977.0</td>\n",
       "    </tr>\n",
       "    <tr>\n",
       "      <th>132875</th>\n",
       "      <td>34.0</td>\n",
       "      <td>5.0</td>\n",
       "      <td>393.0</td>\n",
       "      <td>0.0</td>\n",
       "      <td>3.0</td>\n",
       "      <td>65.017</td>\n",
       "      <td>-165.342</td>\n",
       "      <td>6.0</td>\n",
       "      <td>1.0</td>\n",
       "      <td>1.0</td>\n",
       "      <td>...</td>\n",
       "      <td>0.80</td>\n",
       "      <td>0.80</td>\n",
       "      <td>0.6</td>\n",
       "      <td>20.0</td>\n",
       "      <td>2.0</td>\n",
       "      <td>1.0</td>\n",
       "      <td>1.0</td>\n",
       "      <td>1986.0</td>\n",
       "      <td>63360.0</td>\n",
       "      <td>1971.0</td>\n",
       "    </tr>\n",
       "    <tr>\n",
       "      <th>132876</th>\n",
       "      <td>34.0</td>\n",
       "      <td>5.0</td>\n",
       "      <td>393.0</td>\n",
       "      <td>0.0</td>\n",
       "      <td>115.0</td>\n",
       "      <td>64.987</td>\n",
       "      <td>-165.728</td>\n",
       "      <td>6.0</td>\n",
       "      <td>1.0</td>\n",
       "      <td>1.0</td>\n",
       "      <td>...</td>\n",
       "      <td>0.80</td>\n",
       "      <td>0.80</td>\n",
       "      <td>0.6</td>\n",
       "      <td>20.0</td>\n",
       "      <td>2.0</td>\n",
       "      <td>0.0</td>\n",
       "      <td>0.0</td>\n",
       "      <td>1950.0</td>\n",
       "      <td>63360.0</td>\n",
       "      <td>1977.0</td>\n",
       "    </tr>\n",
       "    <tr>\n",
       "      <th>132877</th>\n",
       "      <td>36.0</td>\n",
       "      <td>6.0</td>\n",
       "      <td>1.0</td>\n",
       "      <td>84.0</td>\n",
       "      <td>1645.0</td>\n",
       "      <td>8.550</td>\n",
       "      <td>-71.033</td>\n",
       "      <td>6.0</td>\n",
       "      <td>1.0</td>\n",
       "      <td>1.0</td>\n",
       "      <td>...</td>\n",
       "      <td>0.30</td>\n",
       "      <td>0.80</td>\n",
       "      <td>0.6</td>\n",
       "      <td>20.0</td>\n",
       "      <td>2.0</td>\n",
       "      <td>7.0</td>\n",
       "      <td>7.0</td>\n",
       "      <td>1952.0</td>\n",
       "      <td>25000.0</td>\n",
       "      <td>1952.0</td>\n",
       "    </tr>\n",
       "    <tr>\n",
       "      <th>132878</th>\n",
       "      <td>36.0</td>\n",
       "      <td>6.0</td>\n",
       "      <td>1.0</td>\n",
       "      <td>84.0</td>\n",
       "      <td>1646.0</td>\n",
       "      <td>8.550</td>\n",
       "      <td>-71.033</td>\n",
       "      <td>6.0</td>\n",
       "      <td>1.0</td>\n",
       "      <td>1.0</td>\n",
       "      <td>...</td>\n",
       "      <td>0.30</td>\n",
       "      <td>0.80</td>\n",
       "      <td>0.6</td>\n",
       "      <td>20.0</td>\n",
       "      <td>2.0</td>\n",
       "      <td>0.0</td>\n",
       "      <td>0.0</td>\n",
       "      <td>1952.0</td>\n",
       "      <td>25000.0</td>\n",
       "      <td>1952.0</td>\n",
       "    </tr>\n",
       "    <tr>\n",
       "      <th>132879</th>\n",
       "      <td>36.0</td>\n",
       "      <td>6.0</td>\n",
       "      <td>1.0</td>\n",
       "      <td>84.0</td>\n",
       "      <td>1668.0</td>\n",
       "      <td>8.550</td>\n",
       "      <td>-71.033</td>\n",
       "      <td>6.0</td>\n",
       "      <td>1.0</td>\n",
       "      <td>1.0</td>\n",
       "      <td>...</td>\n",
       "      <td>0.90</td>\n",
       "      <td>0.80</td>\n",
       "      <td>0.6</td>\n",
       "      <td>20.0</td>\n",
       "      <td>2.0</td>\n",
       "      <td>3.0</td>\n",
       "      <td>3.0</td>\n",
       "      <td>1952.0</td>\n",
       "      <td>25000.0</td>\n",
       "      <td>1952.0</td>\n",
       "    </tr>\n",
       "    <tr>\n",
       "      <th>132880</th>\n",
       "      <td>36.0</td>\n",
       "      <td>6.0</td>\n",
       "      <td>1.0</td>\n",
       "      <td>84.0</td>\n",
       "      <td>1669.0</td>\n",
       "      <td>8.550</td>\n",
       "      <td>-71.033</td>\n",
       "      <td>6.0</td>\n",
       "      <td>1.0</td>\n",
       "      <td>1.0</td>\n",
       "      <td>...</td>\n",
       "      <td>0.60</td>\n",
       "      <td>0.80</td>\n",
       "      <td>0.6</td>\n",
       "      <td>20.0</td>\n",
       "      <td>2.0</td>\n",
       "      <td>1.0</td>\n",
       "      <td>1.0</td>\n",
       "      <td>1952.0</td>\n",
       "      <td>25000.0</td>\n",
       "      <td>1952.0</td>\n",
       "    </tr>\n",
       "    <tr>\n",
       "      <th>132881</th>\n",
       "      <td>36.0</td>\n",
       "      <td>6.0</td>\n",
       "      <td>1.0</td>\n",
       "      <td>84.0</td>\n",
       "      <td>1670.0</td>\n",
       "      <td>8.550</td>\n",
       "      <td>-71.033</td>\n",
       "      <td>6.0</td>\n",
       "      <td>1.0</td>\n",
       "      <td>1.0</td>\n",
       "      <td>...</td>\n",
       "      <td>0.30</td>\n",
       "      <td>0.80</td>\n",
       "      <td>0.6</td>\n",
       "      <td>20.0</td>\n",
       "      <td>2.0</td>\n",
       "      <td>1.0</td>\n",
       "      <td>1.0</td>\n",
       "      <td>1952.0</td>\n",
       "      <td>25000.0</td>\n",
       "      <td>1952.0</td>\n",
       "    </tr>\n",
       "    <tr>\n",
       "      <th>132882</th>\n",
       "      <td>36.0</td>\n",
       "      <td>6.0</td>\n",
       "      <td>1.0</td>\n",
       "      <td>84.0</td>\n",
       "      <td>1671.0</td>\n",
       "      <td>8.553</td>\n",
       "      <td>-71.008</td>\n",
       "      <td>6.0</td>\n",
       "      <td>1.0</td>\n",
       "      <td>2.0</td>\n",
       "      <td>...</td>\n",
       "      <td>2.30</td>\n",
       "      <td>0.80</td>\n",
       "      <td>0.6</td>\n",
       "      <td>20.0</td>\n",
       "      <td>2.0</td>\n",
       "      <td>1.0</td>\n",
       "      <td>1.0</td>\n",
       "      <td>1952.0</td>\n",
       "      <td>25000.0</td>\n",
       "      <td>1952.0</td>\n",
       "    </tr>\n",
       "    <tr>\n",
       "      <th>132883</th>\n",
       "      <td>27.0</td>\n",
       "      <td>4.0</td>\n",
       "      <td>82.0</td>\n",
       "      <td>0.0</td>\n",
       "      <td>3.0</td>\n",
       "      <td>-46.897</td>\n",
       "      <td>37.714</td>\n",
       "      <td>7.0</td>\n",
       "      <td>1.0</td>\n",
       "      <td>1.0</td>\n",
       "      <td>...</td>\n",
       "      <td>1.27</td>\n",
       "      <td>1.27</td>\n",
       "      <td>0.6</td>\n",
       "      <td>20.0</td>\n",
       "      <td>2.0</td>\n",
       "      <td>1.0</td>\n",
       "      <td>1.0</td>\n",
       "      <td>1988.0</td>\n",
       "      <td>25000.0</td>\n",
       "      <td>1966.0</td>\n",
       "    </tr>\n",
       "    <tr>\n",
       "      <th>132884</th>\n",
       "      <td>37.0</td>\n",
       "      <td>0.0</td>\n",
       "      <td>26.0</td>\n",
       "      <td>172.0</td>\n",
       "      <td>3.0</td>\n",
       "      <td>0.431</td>\n",
       "      <td>29.898</td>\n",
       "      <td>6.0</td>\n",
       "      <td>0.0</td>\n",
       "      <td>2.0</td>\n",
       "      <td>...</td>\n",
       "      <td>0.30</td>\n",
       "      <td>0.80</td>\n",
       "      <td>0.6</td>\n",
       "      <td>20.0</td>\n",
       "      <td>2.0</td>\n",
       "      <td>8.0</td>\n",
       "      <td>8.0</td>\n",
       "      <td>1968.0</td>\n",
       "      <td>25000.0</td>\n",
       "      <td>1971.0</td>\n",
       "    </tr>\n",
       "    <tr>\n",
       "      <th>132885</th>\n",
       "      <td>37.0</td>\n",
       "      <td>0.0</td>\n",
       "      <td>26.0</td>\n",
       "      <td>172.0</td>\n",
       "      <td>115.0</td>\n",
       "      <td>0.438</td>\n",
       "      <td>29.899</td>\n",
       "      <td>6.0</td>\n",
       "      <td>0.0</td>\n",
       "      <td>2.0</td>\n",
       "      <td>...</td>\n",
       "      <td>0.10</td>\n",
       "      <td>0.80</td>\n",
       "      <td>0.6</td>\n",
       "      <td>20.0</td>\n",
       "      <td>2.0</td>\n",
       "      <td>8.0</td>\n",
       "      <td>8.0</td>\n",
       "      <td>1968.0</td>\n",
       "      <td>25000.0</td>\n",
       "      <td>1971.0</td>\n",
       "    </tr>\n",
       "    <tr>\n",
       "      <th>132886</th>\n",
       "      <td>37.0</td>\n",
       "      <td>0.0</td>\n",
       "      <td>26.0</td>\n",
       "      <td>172.0</td>\n",
       "      <td>226.0</td>\n",
       "      <td>0.440</td>\n",
       "      <td>29.898</td>\n",
       "      <td>6.0</td>\n",
       "      <td>0.0</td>\n",
       "      <td>1.0</td>\n",
       "      <td>...</td>\n",
       "      <td>0.10</td>\n",
       "      <td>0.80</td>\n",
       "      <td>0.6</td>\n",
       "      <td>20.0</td>\n",
       "      <td>2.0</td>\n",
       "      <td>3.0</td>\n",
       "      <td>3.0</td>\n",
       "      <td>1968.0</td>\n",
       "      <td>25000.0</td>\n",
       "      <td>1971.0</td>\n",
       "    </tr>\n",
       "    <tr>\n",
       "      <th>132887</th>\n",
       "      <td>37.0</td>\n",
       "      <td>0.0</td>\n",
       "      <td>26.0</td>\n",
       "      <td>173.0</td>\n",
       "      <td>115.0</td>\n",
       "      <td>0.389</td>\n",
       "      <td>29.871</td>\n",
       "      <td>6.0</td>\n",
       "      <td>0.0</td>\n",
       "      <td>1.0</td>\n",
       "      <td>...</td>\n",
       "      <td>0.10</td>\n",
       "      <td>0.80</td>\n",
       "      <td>0.6</td>\n",
       "      <td>20.0</td>\n",
       "      <td>2.0</td>\n",
       "      <td>8.0</td>\n",
       "      <td>8.0</td>\n",
       "      <td>1968.0</td>\n",
       "      <td>25000.0</td>\n",
       "      <td>1971.0</td>\n",
       "    </tr>\n",
       "    <tr>\n",
       "      <th>132888</th>\n",
       "      <td>37.0</td>\n",
       "      <td>0.0</td>\n",
       "      <td>26.0</td>\n",
       "      <td>174.0</td>\n",
       "      <td>3.0</td>\n",
       "      <td>0.389</td>\n",
       "      <td>29.868</td>\n",
       "      <td>6.0</td>\n",
       "      <td>0.0</td>\n",
       "      <td>1.0</td>\n",
       "      <td>...</td>\n",
       "      <td>0.80</td>\n",
       "      <td>0.80</td>\n",
       "      <td>0.6</td>\n",
       "      <td>20.0</td>\n",
       "      <td>2.0</td>\n",
       "      <td>7.0</td>\n",
       "      <td>6.0</td>\n",
       "      <td>1968.0</td>\n",
       "      <td>25000.0</td>\n",
       "      <td>1971.0</td>\n",
       "    </tr>\n",
       "    <tr>\n",
       "      <th>132889</th>\n",
       "      <td>37.0</td>\n",
       "      <td>0.0</td>\n",
       "      <td>26.0</td>\n",
       "      <td>175.0</td>\n",
       "      <td>899.0</td>\n",
       "      <td>0.383</td>\n",
       "      <td>29.869</td>\n",
       "      <td>6.0</td>\n",
       "      <td>0.0</td>\n",
       "      <td>1.0</td>\n",
       "      <td>...</td>\n",
       "      <td>0.70</td>\n",
       "      <td>0.80</td>\n",
       "      <td>0.6</td>\n",
       "      <td>20.0</td>\n",
       "      <td>2.0</td>\n",
       "      <td>7.0</td>\n",
       "      <td>7.0</td>\n",
       "      <td>1968.0</td>\n",
       "      <td>25000.0</td>\n",
       "      <td>1971.0</td>\n",
       "    </tr>\n",
       "  </tbody>\n",
       "</table>\n",
       "<p>132890 rows × 37 columns</p>\n",
       "</div>"
      ],
      "text/plain": [
       "        Political Unit  Continent  Basin Code  Location Code  Glacier Code  \\\n",
       "0                  0.0        2.0       402.0          206.0           3.0   \n",
       "1                  0.0        2.0       402.0          206.0         115.0   \n",
       "2                  0.0        2.0       402.0          206.0         226.0   \n",
       "3                  0.0        2.0       402.0          206.0         337.0   \n",
       "4                  0.0        2.0       402.0          206.0         448.0   \n",
       "5                  0.0        2.0       402.0          206.0         564.0   \n",
       "6                  0.0        2.0       402.0          206.0         676.0   \n",
       "7                  0.0        2.0       402.0          206.0         787.0   \n",
       "8                  0.0        2.0       402.0          206.0         899.0   \n",
       "9                  0.0        2.0       402.0          206.0           4.0   \n",
       "10                 0.0        2.0       402.0          206.0          15.0   \n",
       "11                 0.0        2.0       402.0          206.0          26.0   \n",
       "12                 0.0        2.0       402.0          206.0          37.0   \n",
       "13                 0.0        2.0       402.0          206.0          48.0   \n",
       "14                 0.0        2.0       402.0          206.0          59.0   \n",
       "15                 0.0        2.0       402.0          206.0          70.0   \n",
       "16                 0.0        2.0       402.0          206.0          81.0   \n",
       "17                 0.0        2.0       402.0          206.0          93.0   \n",
       "18                 0.0        2.0       402.0          206.0         104.0   \n",
       "19                 0.0        2.0       402.0          241.0           3.0   \n",
       "20                 0.0        2.0       402.0          241.0         115.0   \n",
       "21                 0.0        2.0       402.0          241.0         226.0   \n",
       "22                 0.0        2.0       402.0          241.0         337.0   \n",
       "23                 0.0        2.0       402.0          241.0         448.0   \n",
       "24                 0.0        2.0       402.0          241.0         564.0   \n",
       "25                 0.0        2.0       402.0          241.0         676.0   \n",
       "26                 0.0        2.0       402.0          241.0         787.0   \n",
       "27                 0.0        2.0       402.0          241.0         899.0   \n",
       "28                 0.0        2.0       402.0          241.0           4.0   \n",
       "29                 0.0        2.0       402.0          241.0          15.0   \n",
       "...                ...        ...         ...            ...           ...   \n",
       "132860            34.0        5.0       391.0           31.0         899.0   \n",
       "132861            34.0        5.0       391.0           31.0           4.0   \n",
       "132862            34.0        5.0       391.0           31.0          15.0   \n",
       "132863            34.0        5.0       391.0           31.0          26.0   \n",
       "132864            34.0        5.0       391.0           31.0          37.0   \n",
       "132865            34.0        5.0       391.0           31.0          48.0   \n",
       "132866            34.0        5.0       391.0           31.0          59.0   \n",
       "132867            34.0        5.0       391.0           31.0          70.0   \n",
       "132868            34.0        5.0       391.0           31.0          81.0   \n",
       "132869            34.0        5.0       391.0           31.0          93.0   \n",
       "132870            34.0        5.0       391.0           31.0         104.0   \n",
       "132871            34.0        5.0       391.0           31.0         116.0   \n",
       "132872            34.0        5.0       391.0           31.0         127.0   \n",
       "132873            34.0        5.0       391.0           31.0         138.0   \n",
       "132874            34.0        5.0       392.0            0.0           3.0   \n",
       "132875            34.0        5.0       393.0            0.0           3.0   \n",
       "132876            34.0        5.0       393.0            0.0         115.0   \n",
       "132877            36.0        6.0         1.0           84.0        1645.0   \n",
       "132878            36.0        6.0         1.0           84.0        1646.0   \n",
       "132879            36.0        6.0         1.0           84.0        1668.0   \n",
       "132880            36.0        6.0         1.0           84.0        1669.0   \n",
       "132881            36.0        6.0         1.0           84.0        1670.0   \n",
       "132882            36.0        6.0         1.0           84.0        1671.0   \n",
       "132883            27.0        4.0        82.0            0.0           3.0   \n",
       "132884            37.0        0.0        26.0          172.0           3.0   \n",
       "132885            37.0        0.0        26.0          172.0         115.0   \n",
       "132886            37.0        0.0        26.0          172.0         226.0   \n",
       "132887            37.0        0.0        26.0          173.0         115.0   \n",
       "132888            37.0        0.0        26.0          174.0           3.0   \n",
       "132889            37.0        0.0        26.0          175.0         899.0   \n",
       "\n",
       "        Latitude  Longitude  Primary Class  Glacier Source  Basin Count  \\\n",
       "0         34.672     68.874            9.0             0.0          1.0   \n",
       "1         34.676     68.855            9.0             0.0          1.0   \n",
       "2         34.689     68.854            9.0             0.0          1.0   \n",
       "3         34.707     68.857            9.0             0.0          1.0   \n",
       "4         34.719     68.852            9.0             0.0          1.0   \n",
       "5         34.806     68.868            9.0             0.0          1.0   \n",
       "6         34.818     68.872            9.0             0.0          1.0   \n",
       "7         34.802     68.886            9.0             0.0          1.0   \n",
       "8         34.807     68.891            9.0             0.0          1.0   \n",
       "9         35.175     68.757            9.0             0.0          1.0   \n",
       "10        35.204     68.783            9.0             0.0          1.0   \n",
       "11        35.218     68.805            9.0             0.0          1.0   \n",
       "12        35.207     68.817            9.0             0.0          1.0   \n",
       "13        35.202     68.808            9.0             0.0          1.0   \n",
       "14        35.193     68.841            9.0             0.0          1.0   \n",
       "15        35.243     68.841            9.0             0.0          1.0   \n",
       "16        35.241     68.859            9.0             0.0          1.0   \n",
       "17        35.268     68.924            9.0             0.0          1.0   \n",
       "18        35.240     68.990            9.0             0.0          1.0   \n",
       "19        35.388     69.258            6.0             0.0          1.0   \n",
       "20        35.386     69.257            9.0             0.0          1.0   \n",
       "21        35.367     69.267            9.0             0.0          1.0   \n",
       "22        35.357     69.256            9.0             0.0          1.0   \n",
       "23        35.350     69.287            9.0             0.0          1.0   \n",
       "24        35.353     69.300            9.0             0.0          1.0   \n",
       "25        35.356     69.300            9.0             0.0          1.0   \n",
       "26        35.362     69.294            6.0             0.0          1.0   \n",
       "27        35.383     69.267            7.0             0.0          1.0   \n",
       "28        35.383     69.274            9.0             0.0          1.0   \n",
       "29        35.408     69.271            7.0             0.0          1.0   \n",
       "...          ...        ...            ...             ...          ...   \n",
       "132860    67.400   -154.950            6.0             0.0          1.0   \n",
       "132861    67.383   -154.900            7.0             0.0          1.0   \n",
       "132862    67.367   -154.933            6.0             0.0          1.0   \n",
       "132863    67.367   -154.967            6.0             0.0          1.0   \n",
       "132864    67.367   -154.500            6.0             0.0          1.0   \n",
       "132865    67.333   -154.500            6.0             0.0          1.0   \n",
       "132866    67.317   -154.433            7.0             0.0          1.0   \n",
       "132867    67.300   -154.417            6.0             0.0          1.0   \n",
       "132868    67.300   -154.467            9.0             0.0          1.0   \n",
       "132869    67.300   -154.467            9.0             0.0          1.0   \n",
       "132870    67.383   -154.200            7.0             0.0          1.0   \n",
       "132871    67.283   -154.700            6.0             0.0          1.0   \n",
       "132872    67.283   -154.450            6.0             0.0          1.0   \n",
       "132873    67.300   -154.450            7.0             0.0          1.0   \n",
       "132874    64.931   -165.612            6.0             1.0          1.0   \n",
       "132875    65.017   -165.342            6.0             1.0          1.0   \n",
       "132876    64.987   -165.728            6.0             1.0          1.0   \n",
       "132877     8.550    -71.033            6.0             1.0          1.0   \n",
       "132878     8.550    -71.033            6.0             1.0          1.0   \n",
       "132879     8.550    -71.033            6.0             1.0          1.0   \n",
       "132880     8.550    -71.033            6.0             1.0          1.0   \n",
       "132881     8.550    -71.033            6.0             1.0          1.0   \n",
       "132882     8.553    -71.008            6.0             1.0          2.0   \n",
       "132883   -46.897     37.714            7.0             1.0          1.0   \n",
       "132884     0.431     29.898            6.0             0.0          2.0   \n",
       "132885     0.438     29.899            6.0             0.0          2.0   \n",
       "132886     0.440     29.898            6.0             0.0          1.0   \n",
       "132887     0.389     29.871            6.0             0.0          1.0   \n",
       "132888     0.389     29.868            6.0             0.0          1.0   \n",
       "132889     0.383     29.869            6.0             0.0          1.0   \n",
       "\n",
       "             ...         Maximum Length  Maximum Length Exposed  \\\n",
       "0            ...                   1.90                    0.80   \n",
       "1            ...                   0.80                    0.80   \n",
       "2            ...                   1.50                    0.80   \n",
       "3            ...                   1.50                    0.80   \n",
       "4            ...                   2.00                    0.80   \n",
       "5            ...                   2.00                    0.80   \n",
       "6            ...                   1.70                    0.80   \n",
       "7            ...                   3.30                    0.80   \n",
       "8            ...                   1.50                    0.80   \n",
       "9            ...                   2.20                    0.80   \n",
       "10           ...                   1.30                    0.80   \n",
       "11           ...                   1.20                    0.80   \n",
       "12           ...                   0.80                    0.80   \n",
       "13           ...                   2.00                    0.80   \n",
       "14           ...                   0.80                    0.80   \n",
       "15           ...                   1.80                    0.80   \n",
       "16           ...                   1.20                    0.80   \n",
       "17           ...                   2.50                    0.80   \n",
       "18           ...                   1.10                    0.80   \n",
       "19           ...                   0.70                    0.80   \n",
       "20           ...                   0.80                    0.80   \n",
       "21           ...                   1.30                    0.80   \n",
       "22           ...                   1.10                    0.80   \n",
       "23           ...                   1.50                    0.80   \n",
       "24           ...                   1.90                    0.80   \n",
       "25           ...                   1.60                    0.80   \n",
       "26           ...                   2.30                    0.80   \n",
       "27           ...                   0.30                    0.80   \n",
       "28           ...                   0.90                    0.80   \n",
       "29           ...                   0.50                    0.80   \n",
       "...          ...                    ...                     ...   \n",
       "132860       ...                   1.10                    0.80   \n",
       "132861       ...                   0.30                    0.80   \n",
       "132862       ...                   0.80                    0.80   \n",
       "132863       ...                   0.60                    0.80   \n",
       "132864       ...                   1.60                    0.80   \n",
       "132865       ...                   0.60                    0.80   \n",
       "132866       ...                   1.10                    0.80   \n",
       "132867       ...                   0.60                    0.80   \n",
       "132868       ...                   0.80                    0.80   \n",
       "132869       ...                   0.50                    0.80   \n",
       "132870       ...                   0.30                    0.80   \n",
       "132871       ...                   0.60                    0.80   \n",
       "132872       ...                   0.50                    0.80   \n",
       "132873       ...                   0.30                    0.80   \n",
       "132874       ...                   0.80                    0.80   \n",
       "132875       ...                   0.80                    0.80   \n",
       "132876       ...                   0.80                    0.80   \n",
       "132877       ...                   0.30                    0.80   \n",
       "132878       ...                   0.30                    0.80   \n",
       "132879       ...                   0.90                    0.80   \n",
       "132880       ...                   0.60                    0.80   \n",
       "132881       ...                   0.30                    0.80   \n",
       "132882       ...                   2.30                    0.80   \n",
       "132883       ...                   1.27                    1.27   \n",
       "132884       ...                   0.30                    0.80   \n",
       "132885       ...                   0.10                    0.80   \n",
       "132886       ...                   0.10                    0.80   \n",
       "132887       ...                   0.10                    0.80   \n",
       "132888       ...                   0.80                    0.80   \n",
       "132889       ...                   0.70                    0.80   \n",
       "\n",
       "        Maximum Length Ablation  Mean Depth  Depth Accuracy  \\\n",
       "0                           0.6        20.0             2.0   \n",
       "1                           0.6        20.0             2.0   \n",
       "2                           0.6        20.0             2.0   \n",
       "3                           0.6        20.0             2.0   \n",
       "4                           0.6        20.0             2.0   \n",
       "5                           0.6        20.0             2.0   \n",
       "6                           0.6        20.0             2.0   \n",
       "7                           0.6        20.0             2.0   \n",
       "8                           0.6        20.0             2.0   \n",
       "9                           0.6        20.0             2.0   \n",
       "10                          0.6        20.0             2.0   \n",
       "11                          0.6        20.0             2.0   \n",
       "12                          0.6        20.0             2.0   \n",
       "13                          0.6        20.0             2.0   \n",
       "14                          0.6        20.0             2.0   \n",
       "15                          0.6        20.0             2.0   \n",
       "16                          0.6        20.0             2.0   \n",
       "17                          0.6        20.0             2.0   \n",
       "18                          0.6        20.0             2.0   \n",
       "19                          0.6        20.0             2.0   \n",
       "20                          0.6        20.0             2.0   \n",
       "21                          0.6        20.0             2.0   \n",
       "22                          0.6        20.0             2.0   \n",
       "23                          0.6        20.0             2.0   \n",
       "24                          0.6        20.0             2.0   \n",
       "25                          0.6        20.0             2.0   \n",
       "26                          0.6        20.0             2.0   \n",
       "27                          0.6        20.0             2.0   \n",
       "28                          0.6        20.0             2.0   \n",
       "29                          0.6        20.0             2.0   \n",
       "...                         ...         ...             ...   \n",
       "132860                      0.6        20.0             2.0   \n",
       "132861                      0.6        20.0             2.0   \n",
       "132862                      0.6        20.0             2.0   \n",
       "132863                      0.6        20.0             2.0   \n",
       "132864                      0.6        20.0             2.0   \n",
       "132865                      0.6        20.0             2.0   \n",
       "132866                      0.6        20.0             2.0   \n",
       "132867                      0.6        20.0             2.0   \n",
       "132868                      0.6        20.0             2.0   \n",
       "132869                      0.6        20.0             2.0   \n",
       "132870                      0.6        20.0             2.0   \n",
       "132871                      0.6        20.0             2.0   \n",
       "132872                      0.6        20.0             2.0   \n",
       "132873                      0.6        20.0             2.0   \n",
       "132874                      0.6        20.0             2.0   \n",
       "132875                      0.6        20.0             2.0   \n",
       "132876                      0.6        20.0             2.0   \n",
       "132877                      0.6        20.0             2.0   \n",
       "132878                      0.6        20.0             2.0   \n",
       "132879                      0.6        20.0             2.0   \n",
       "132880                      0.6        20.0             2.0   \n",
       "132881                      0.6        20.0             2.0   \n",
       "132882                      0.6        20.0             2.0   \n",
       "132883                      0.6        20.0             2.0   \n",
       "132884                      0.6        20.0             2.0   \n",
       "132885                      0.6        20.0             2.0   \n",
       "132886                      0.6        20.0             2.0   \n",
       "132887                      0.6        20.0             2.0   \n",
       "132888                      0.6        20.0             2.0   \n",
       "132889                      0.6        20.0             2.0   \n",
       "\n",
       "        Accumulation Orientation  Ablation Orientation  Topographic Map Year  \\\n",
       "0                            2.0                   2.0                1959.0   \n",
       "1                            3.0                   3.0                1959.0   \n",
       "2                            3.0                   3.0                1959.0   \n",
       "3                            2.0                   2.0                1959.0   \n",
       "4                            8.0                   8.0                1959.0   \n",
       "5                            3.0                   3.0                1959.0   \n",
       "6                            1.0                   1.0                1959.0   \n",
       "7                            8.0                   8.0                1959.0   \n",
       "8                            1.0                   3.0                1959.0   \n",
       "9                            2.0                   0.0                1959.0   \n",
       "10                           4.0                   4.0                1959.0   \n",
       "11                           2.0                   2.0                1959.0   \n",
       "12                           2.0                   2.0                1959.0   \n",
       "13                           8.0                   8.0                1959.0   \n",
       "14                           1.0                   1.0                1959.0   \n",
       "15                           2.0                   1.0                1959.0   \n",
       "16                           2.0                   2.0                1959.0   \n",
       "17                           8.0                   8.0                1959.0   \n",
       "18                           7.0                   6.0                1959.0   \n",
       "19                           3.0                   3.0                1959.0   \n",
       "20                           3.0                   3.0                1959.0   \n",
       "21                           7.0                   7.0                1959.0   \n",
       "22                           1.0                   3.0                1959.0   \n",
       "23                           0.0                   6.0                1959.0   \n",
       "24                           7.0                   7.0                1959.0   \n",
       "25                           0.0                   2.0                1959.0   \n",
       "26                           0.0                   0.0                1959.0   \n",
       "27                           2.0                   2.0                1959.0   \n",
       "28                           7.0                   7.0                1959.0   \n",
       "29                           0.0                   0.0                1959.0   \n",
       "...                          ...                   ...                   ...   \n",
       "132860                       5.0                   5.0                1972.0   \n",
       "132861                       4.0                   4.0                1972.0   \n",
       "132862                       3.0                   3.0                1972.0   \n",
       "132863                       3.0                   3.0                1972.0   \n",
       "132864                       2.0                   2.0                1972.0   \n",
       "132865                       3.0                   3.0                1972.0   \n",
       "132866                       3.0                   3.0                1972.0   \n",
       "132867                       4.0                   4.0                1972.0   \n",
       "132868                       1.0                   1.0                1972.0   \n",
       "132869                       3.0                   3.0                1972.0   \n",
       "132870                       6.0                   6.0                1972.0   \n",
       "132871                       3.0                   3.0                1972.0   \n",
       "132872                       7.0                   7.0                1972.0   \n",
       "132873                       3.0                   3.0                1972.0   \n",
       "132874                       1.0                   1.0                1950.0   \n",
       "132875                       1.0                   1.0                1986.0   \n",
       "132876                       0.0                   0.0                1950.0   \n",
       "132877                       7.0                   7.0                1952.0   \n",
       "132878                       0.0                   0.0                1952.0   \n",
       "132879                       3.0                   3.0                1952.0   \n",
       "132880                       1.0                   1.0                1952.0   \n",
       "132881                       1.0                   1.0                1952.0   \n",
       "132882                       1.0                   1.0                1952.0   \n",
       "132883                       1.0                   1.0                1988.0   \n",
       "132884                       8.0                   8.0                1968.0   \n",
       "132885                       8.0                   8.0                1968.0   \n",
       "132886                       3.0                   3.0                1968.0   \n",
       "132887                       8.0                   8.0                1968.0   \n",
       "132888                       7.0                   6.0                1968.0   \n",
       "132889                       7.0                   7.0                1968.0   \n",
       "\n",
       "        Topographic Map Scale  Photograph Year  \n",
       "0                    100000.0           1971.0  \n",
       "1                    100000.0           1971.0  \n",
       "2                    100000.0           1971.0  \n",
       "3                    100000.0           1971.0  \n",
       "4                    100000.0           1971.0  \n",
       "5                    100000.0           1971.0  \n",
       "6                    100000.0           1971.0  \n",
       "7                    100000.0           1971.0  \n",
       "8                    100000.0           1971.0  \n",
       "9                    100000.0           1971.0  \n",
       "10                   100000.0           1971.0  \n",
       "11                   100000.0           1971.0  \n",
       "12                   100000.0           1971.0  \n",
       "13                   100000.0           1971.0  \n",
       "14                   100000.0           1971.0  \n",
       "15                   100000.0           1971.0  \n",
       "16                   100000.0           1971.0  \n",
       "17                   100000.0           1971.0  \n",
       "18                   100000.0           1971.0  \n",
       "19                   100000.0           1971.0  \n",
       "20                   100000.0           1971.0  \n",
       "21                   100000.0           1971.0  \n",
       "22                   100000.0           1971.0  \n",
       "23                   100000.0           1971.0  \n",
       "24                   100000.0           1971.0  \n",
       "25                   100000.0           1971.0  \n",
       "26                   100000.0           1971.0  \n",
       "27                   100000.0           1971.0  \n",
       "28                   100000.0           1971.0  \n",
       "29                   100000.0           1971.0  \n",
       "...                       ...              ...  \n",
       "132860                63360.0           1958.0  \n",
       "132861                63360.0           1958.0  \n",
       "132862                63360.0           1958.0  \n",
       "132863                63360.0           1958.0  \n",
       "132864                63360.0           1958.0  \n",
       "132865                63360.0           1958.0  \n",
       "132866                63360.0           1958.0  \n",
       "132867                63360.0           1958.0  \n",
       "132868                63360.0           1958.0  \n",
       "132869                63360.0           1958.0  \n",
       "132870                63360.0           1958.0  \n",
       "132871                63360.0           1958.0  \n",
       "132872                63360.0           1958.0  \n",
       "132873                63360.0           1958.0  \n",
       "132874                63360.0           1977.0  \n",
       "132875                63360.0           1971.0  \n",
       "132876                63360.0           1977.0  \n",
       "132877                25000.0           1952.0  \n",
       "132878                25000.0           1952.0  \n",
       "132879                25000.0           1952.0  \n",
       "132880                25000.0           1952.0  \n",
       "132881                25000.0           1952.0  \n",
       "132882                25000.0           1952.0  \n",
       "132883                25000.0           1966.0  \n",
       "132884                25000.0           1971.0  \n",
       "132885                25000.0           1971.0  \n",
       "132886                25000.0           1971.0  \n",
       "132887                25000.0           1971.0  \n",
       "132888                25000.0           1971.0  \n",
       "132889                25000.0           1971.0  \n",
       "\n",
       "[132890 rows x 37 columns]"
      ]
     },
     "execution_count": 129,
     "metadata": {},
     "output_type": "execute_result"
    }
   ],
   "source": [
    "transform_copy = pd.DataFrame(X, columns = copy.columns)\n",
    "transform_copy"
   ]
  },
  {
   "cell_type": "code",
   "execution_count": 130,
   "metadata": {
    "collapsed": true
   },
   "outputs": [],
   "source": [
    "# Now let's re-examine the correlation matrix to see if there are any new points of interest\n",
    "\n",
    "corr_2 = transform_copy.corr()"
   ]
  },
  {
   "cell_type": "code",
   "execution_count": 131,
   "metadata": {},
   "outputs": [
    {
     "data": {
      "text/plain": [
       "Longitude                      1.000000\n",
       "Maximum Elevation              0.555343\n",
       "Minimum Elevation              0.530606\n",
       "Topographic Map Year           0.503751\n",
       "Minimum Elevation Exposed      0.381875\n",
       "Basin Code                     0.323001\n",
       "Political Unit                 0.238437\n",
       "Snow Line Elevation            0.197521\n",
       "Photograph Year                0.133420\n",
       "Maximum Length Exposed         0.097888\n",
       "Location Code                  0.080369\n",
       "Mean Length                    0.073238\n",
       "Mean Elevation Ablation        0.067564\n",
       "Mean Depth                     0.060086\n",
       "Maximum Length                 0.057667\n",
       "Snow Line Accuracy             0.034108\n",
       "Mean Elevation Accumulation    0.026346\n",
       "Glacier Form                   0.025704\n",
       "Activity Start                 0.021803\n",
       "Mean Width                     0.020462\n",
       "Glacier Source                 0.019113\n",
       "Area Exposed                  -0.004911\n",
       "Activity End                  -0.005149\n",
       "Basin Count                   -0.024707\n",
       "Glacier Area                  -0.026989\n",
       "Glacier Code                  -0.033547\n",
       "Primary Class                 -0.036758\n",
       "Area Accuracy                 -0.073619\n",
       "Mean Elevation                -0.081039\n",
       "Maximum Length Ablation       -0.088620\n",
       "Ablation Orientation          -0.104832\n",
       "Latitude                      -0.147883\n",
       "Topographic Map Scale         -0.159908\n",
       "Depth Accuracy                -0.266159\n",
       "Accumulation Orientation      -0.288751\n",
       "Glacier Activity              -0.431319\n",
       "Continent                     -0.845056\n",
       "Name: Longitude, dtype: float64"
      ]
     },
     "execution_count": 131,
     "metadata": {},
     "output_type": "execute_result"
    }
   ],
   "source": [
    "# When looking at the longitude, we notice that Continent, one of the attributes that we encoded, has a very high\n",
    "# negative correlation, so it seems like it was worth while to encode a few of the attributes\n",
    "\n",
    "corr_2[\"Longitude\"].sort_values(ascending = False)"
   ]
  },
  {
   "cell_type": "code",
   "execution_count": 132,
   "metadata": {},
   "outputs": [
    {
     "data": {
      "text/plain": [
       "Maximum Elevation              1.000000\n",
       "Minimum Elevation              0.937929\n",
       "Minimum Elevation Exposed      0.737583\n",
       "Longitude                      0.555343\n",
       "Mean Elevation                 0.540239\n",
       "Topographic Map Year           0.451802\n",
       "Basin Code                     0.413771\n",
       "Snow Line Elevation            0.397653\n",
       "Mean Length                    0.155824\n",
       "Location Code                  0.155445\n",
       "Mean Elevation Ablation        0.140279\n",
       "Primary Class                  0.137398\n",
       "Maximum Length Exposed         0.127825\n",
       "Mean Depth                     0.123061\n",
       "Mean Elevation Accumulation    0.116215\n",
       "Glacier Source                 0.105544\n",
       "Mean Width                     0.090317\n",
       "Ablation Orientation           0.075376\n",
       "Photograph Year                0.061277\n",
       "Maximum Length                 0.050518\n",
       "Glacier Code                   0.035383\n",
       "Glacier Form                   0.022106\n",
       "Area Exposed                  -0.001537\n",
       "Activity End                  -0.016225\n",
       "Maximum Length Ablation       -0.024852\n",
       "Glacier Area                  -0.030320\n",
       "Snow Line Accuracy            -0.032571\n",
       "Activity Start                -0.034309\n",
       "Basin Count                   -0.039055\n",
       "Depth Accuracy                -0.041058\n",
       "Political Unit                -0.081289\n",
       "Area Accuracy                 -0.179946\n",
       "Accumulation Orientation      -0.183422\n",
       "Latitude                      -0.233679\n",
       "Topographic Map Scale         -0.249207\n",
       "Glacier Activity              -0.290759\n",
       "Continent                     -0.595502\n",
       "Name: Maximum Elevation, dtype: float64"
      ]
     },
     "execution_count": 132,
     "metadata": {},
     "output_type": "execute_result"
    }
   ],
   "source": [
    "corr_2[\"Maximum Elevation\"].sort_values(ascending = False)"
   ]
  },
  {
   "cell_type": "code",
   "execution_count": 133,
   "metadata": {
    "scrolled": true
   },
   "outputs": [
    {
     "data": {
      "text/plain": [
       "Ablation Orientation           1.000000\n",
       "Accumulation Orientation       0.643347\n",
       "Depth Accuracy                 0.148001\n",
       "Topographic Map Scale          0.139962\n",
       "Continent                      0.121328\n",
       "Minimum Elevation Exposed      0.112404\n",
       "Mean Elevation                 0.111556\n",
       "Photograph Year                0.082454\n",
       "Maximum Elevation              0.075376\n",
       "Minimum Elevation              0.063123\n",
       "Topographic Map Year           0.041185\n",
       "Snow Line Elevation            0.029196\n",
       "Basin Count                    0.027198\n",
       "Glacier Area                   0.023946\n",
       "Glacier Code                   0.018565\n",
       "Basin Code                     0.012707\n",
       "Mean Elevation Ablation        0.004563\n",
       "Mean Elevation Accumulation   -0.001611\n",
       "Activity Start                -0.004858\n",
       "Area Exposed                  -0.005520\n",
       "Activity End                  -0.006236\n",
       "Mean Depth                    -0.009434\n",
       "Mean Length                   -0.009955\n",
       "Maximum Length                -0.020426\n",
       "Mean Width                    -0.021721\n",
       "Maximum Length Ablation       -0.027831\n",
       "Maximum Length Exposed        -0.036582\n",
       "Area Accuracy                 -0.038437\n",
       "Snow Line Accuracy            -0.041385\n",
       "Glacier Source                -0.052594\n",
       "Political Unit                -0.078287\n",
       "Glacier Activity              -0.104763\n",
       "Longitude                     -0.104832\n",
       "Location Code                 -0.116820\n",
       "Latitude                      -0.144375\n",
       "Primary Class                 -0.145531\n",
       "Glacier Form                  -0.153302\n",
       "Name: Ablation Orientation, dtype: float64"
      ]
     },
     "execution_count": 133,
     "metadata": {},
     "output_type": "execute_result"
    }
   ],
   "source": [
    "corr_2[\"Ablation Orientation\"].sort_values(ascending = False)"
   ]
  },
  {
   "cell_type": "code",
   "execution_count": 134,
   "metadata": {
    "scrolled": true
   },
   "outputs": [
    {
     "data": {
      "text/plain": [
       "Accumulation Orientation       1.000000\n",
       "Ablation Orientation           0.643347\n",
       "Continent                      0.362061\n",
       "Topographic Map Scale          0.274298\n",
       "Photograph Year                0.100029\n",
       "Depth Accuracy                 0.063618\n",
       "Glacier Activity               0.048367\n",
       "Mean Elevation                 0.037929\n",
       "Glacier Area                   0.032703\n",
       "Snow Line Elevation            0.032421\n",
       "Glacier Code                   0.013083\n",
       "Mean Elevation Accumulation    0.000259\n",
       "Maximum Length Ablation        0.000181\n",
       "Basin Count                   -0.003352\n",
       "Activity End                  -0.005530\n",
       "Area Exposed                  -0.006812\n",
       "Minimum Elevation Exposed     -0.010286\n",
       "Mean Depth                    -0.027103\n",
       "Mean Length                   -0.027927\n",
       "Activity Start                -0.030950\n",
       "Maximum Length                -0.034244\n",
       "Mean Width                    -0.035844\n",
       "Snow Line Accuracy            -0.047859\n",
       "Maximum Length Exposed        -0.053604\n",
       "Area Accuracy                 -0.057295\n",
       "Mean Elevation Ablation       -0.057842\n",
       "Glacier Source                -0.060694\n",
       "Basin Code                    -0.076730\n",
       "Latitude                      -0.076949\n",
       "Glacier Form                  -0.086751\n",
       "Topographic Map Year          -0.105941\n",
       "Political Unit                -0.172408\n",
       "Location Code                 -0.174192\n",
       "Primary Class                 -0.174274\n",
       "Maximum Elevation             -0.183422\n",
       "Minimum Elevation             -0.194212\n",
       "Longitude                     -0.288751\n",
       "Name: Accumulation Orientation, dtype: float64"
      ]
     },
     "execution_count": 134,
     "metadata": {},
     "output_type": "execute_result"
    }
   ],
   "source": [
    "corr_2[\"Accumulation Orientation\"].sort_values(ascending = False)"
   ]
  },
  {
   "cell_type": "code",
   "execution_count": 135,
   "metadata": {
    "scrolled": true
   },
   "outputs": [
    {
     "data": {
      "text/plain": [
       "Continent                      1.000000\n",
       "Accumulation Orientation       0.362061\n",
       "Glacier Activity               0.308617\n",
       "Depth Accuracy                 0.190356\n",
       "Topographic Map Scale          0.167563\n",
       "Ablation Orientation           0.121328\n",
       "Maximum Length Ablation        0.061344\n",
       "Glacier Code                   0.058610\n",
       "Glacier Area                   0.032957\n",
       "Area Accuracy                  0.031241\n",
       "Basin Count                    0.028473\n",
       "Activity End                   0.012921\n",
       "Area Exposed                   0.008515\n",
       "Mean Elevation Accumulation    0.003568\n",
       "Mean Width                    -0.021516\n",
       "Snow Line Accuracy            -0.030576\n",
       "Activity Start                -0.037084\n",
       "Mean Elevation Ablation       -0.039775\n",
       "Maximum Length                -0.058043\n",
       "Mean Depth                    -0.081025\n",
       "Glacier Source                -0.091593\n",
       "Mean Length                   -0.094591\n",
       "Mean Elevation                -0.098152\n",
       "Maximum Length Exposed        -0.103292\n",
       "Glacier Form                  -0.108097\n",
       "Latitude                      -0.114122\n",
       "Primary Class                 -0.126965\n",
       "Location Code                 -0.131336\n",
       "Photograph Year               -0.168265\n",
       "Snow Line Elevation           -0.194601\n",
       "Political Unit                -0.197320\n",
       "Topographic Map Year          -0.418068\n",
       "Minimum Elevation Exposed     -0.426059\n",
       "Basin Code                    -0.455512\n",
       "Minimum Elevation             -0.570200\n",
       "Maximum Elevation             -0.595502\n",
       "Longitude                     -0.845056\n",
       "Name: Continent, dtype: float64"
      ]
     },
     "execution_count": 135,
     "metadata": {},
     "output_type": "execute_result"
    }
   ],
   "source": [
    "corr_2[\"Continent\"].sort_values(ascending = False)"
   ]
  },
  {
   "cell_type": "code",
   "execution_count": 136,
   "metadata": {
    "scrolled": true
   },
   "outputs": [
    {
     "data": {
      "text/plain": [
       "Political Unit                 1.000000\n",
       "Area Accuracy                  0.457124\n",
       "Longitude                      0.238437\n",
       "Snow Line Accuracy             0.170256\n",
       "Latitude                       0.148617\n",
       "Maximum Length                 0.062696\n",
       "Glacier Code                   0.050000\n",
       "Basin Count                    0.033349\n",
       "Activity Start                 0.032523\n",
       "Topographic Map Year           0.025448\n",
       "Maximum Length Exposed         0.025046\n",
       "Mean Elevation Ablation        0.021739\n",
       "Glacier Area                   0.006963\n",
       "Snow Line Elevation            0.004167\n",
       "Mean Elevation Accumulation   -0.001993\n",
       "Area Exposed                  -0.002103\n",
       "Activity End                  -0.008206\n",
       "Glacier Form                  -0.035542\n",
       "Glacier Source                -0.042433\n",
       "Basin Code                    -0.052760\n",
       "Mean Length                   -0.055304\n",
       "Topographic Map Scale         -0.070462\n",
       "Mean Depth                    -0.074379\n",
       "Ablation Orientation          -0.078287\n",
       "Maximum Length Ablation       -0.080102\n",
       "Maximum Elevation             -0.081289\n",
       "Photograph Year               -0.084895\n",
       "Mean Width                    -0.118665\n",
       "Minimum Elevation             -0.126166\n",
       "Minimum Elevation Exposed     -0.131386\n",
       "Primary Class                 -0.151482\n",
       "Accumulation Orientation      -0.172408\n",
       "Continent                     -0.197320\n",
       "Mean Elevation                -0.293944\n",
       "Glacier Activity              -0.375974\n",
       "Depth Accuracy                -0.448821\n",
       "Location Code                 -0.505723\n",
       "Name: Political Unit, dtype: float64"
      ]
     },
     "execution_count": 136,
     "metadata": {},
     "output_type": "execute_result"
    }
   ],
   "source": [
    "corr_2[\"Political Unit\"].sort_values(ascending = False)"
   ]
  },
  {
   "cell_type": "markdown",
   "metadata": {},
   "source": [
    "# Split into test and train sets!"
   ]
  },
  {
   "cell_type": "code",
   "execution_count": 137,
   "metadata": {
    "collapsed": true
   },
   "outputs": [],
   "source": [
    "train_set, test_set = train_test_split(transform_copy, test_size = 0.2, random_state = 42)"
   ]
  },
  {
   "cell_type": "code",
   "execution_count": 138,
   "metadata": {},
   "outputs": [
    {
     "data": {
      "text/html": [
       "<div>\n",
       "<style>\n",
       "    .dataframe thead tr:only-child th {\n",
       "        text-align: right;\n",
       "    }\n",
       "\n",
       "    .dataframe thead th {\n",
       "        text-align: left;\n",
       "    }\n",
       "\n",
       "    .dataframe tbody tr th {\n",
       "        vertical-align: top;\n",
       "    }\n",
       "</style>\n",
       "<table border=\"1\" class=\"dataframe\">\n",
       "  <thead>\n",
       "    <tr style=\"text-align: right;\">\n",
       "      <th></th>\n",
       "      <th>Political Unit</th>\n",
       "      <th>Continent</th>\n",
       "      <th>Basin Code</th>\n",
       "      <th>Location Code</th>\n",
       "      <th>Glacier Code</th>\n",
       "      <th>Latitude</th>\n",
       "      <th>Longitude</th>\n",
       "      <th>Primary Class</th>\n",
       "      <th>Glacier Source</th>\n",
       "      <th>Basin Count</th>\n",
       "      <th>...</th>\n",
       "      <th>Maximum Length</th>\n",
       "      <th>Maximum Length Exposed</th>\n",
       "      <th>Maximum Length Ablation</th>\n",
       "      <th>Mean Depth</th>\n",
       "      <th>Depth Accuracy</th>\n",
       "      <th>Accumulation Orientation</th>\n",
       "      <th>Ablation Orientation</th>\n",
       "      <th>Topographic Map Year</th>\n",
       "      <th>Topographic Map Scale</th>\n",
       "      <th>Photograph Year</th>\n",
       "    </tr>\n",
       "  </thead>\n",
       "  <tbody>\n",
       "    <tr>\n",
       "      <th>97498</th>\n",
       "      <td>23.0</td>\n",
       "      <td>4.0</td>\n",
       "      <td>65.0</td>\n",
       "      <td>171.0</td>\n",
       "      <td>193.0</td>\n",
       "      <td>-43.326</td>\n",
       "      <td>170.652</td>\n",
       "      <td>7.0</td>\n",
       "      <td>1.0</td>\n",
       "      <td>2.0</td>\n",
       "      <td>...</td>\n",
       "      <td>0.8</td>\n",
       "      <td>0.8</td>\n",
       "      <td>0.6</td>\n",
       "      <td>99.0</td>\n",
       "      <td>2.0</td>\n",
       "      <td>8.0</td>\n",
       "      <td>4.0</td>\n",
       "      <td>1978.0</td>\n",
       "      <td>63000.0</td>\n",
       "      <td>1978.0</td>\n",
       "    </tr>\n",
       "    <tr>\n",
       "      <th>9119</th>\n",
       "      <td>6.0</td>\n",
       "      <td>5.0</td>\n",
       "      <td>250.0</td>\n",
       "      <td>215.0</td>\n",
       "      <td>966.0</td>\n",
       "      <td>58.178</td>\n",
       "      <td>-129.682</td>\n",
       "      <td>6.0</td>\n",
       "      <td>1.0</td>\n",
       "      <td>1.0</td>\n",
       "      <td>...</td>\n",
       "      <td>0.8</td>\n",
       "      <td>0.8</td>\n",
       "      <td>0.6</td>\n",
       "      <td>10.0</td>\n",
       "      <td>3.0</td>\n",
       "      <td>6.0</td>\n",
       "      <td>6.0</td>\n",
       "      <td>1949.0</td>\n",
       "      <td>90000.0</td>\n",
       "      <td>1971.0</td>\n",
       "    </tr>\n",
       "    <tr>\n",
       "      <th>32055</th>\n",
       "      <td>8.0</td>\n",
       "      <td>2.0</td>\n",
       "      <td>280.0</td>\n",
       "      <td>379.0</td>\n",
       "      <td>81.0</td>\n",
       "      <td>31.877</td>\n",
       "      <td>94.578</td>\n",
       "      <td>7.0</td>\n",
       "      <td>1.0</td>\n",
       "      <td>1.0</td>\n",
       "      <td>...</td>\n",
       "      <td>0.6</td>\n",
       "      <td>0.6</td>\n",
       "      <td>0.6</td>\n",
       "      <td>14.0</td>\n",
       "      <td>2.0</td>\n",
       "      <td>2.0</td>\n",
       "      <td>2.0</td>\n",
       "      <td>1975.0</td>\n",
       "      <td>100000.0</td>\n",
       "      <td>1968.0</td>\n",
       "    </tr>\n",
       "    <tr>\n",
       "      <th>47161</th>\n",
       "      <td>8.0</td>\n",
       "      <td>2.0</td>\n",
       "      <td>563.0</td>\n",
       "      <td>345.0</td>\n",
       "      <td>70.0</td>\n",
       "      <td>44.550</td>\n",
       "      <td>80.580</td>\n",
       "      <td>6.0</td>\n",
       "      <td>1.0</td>\n",
       "      <td>1.0</td>\n",
       "      <td>...</td>\n",
       "      <td>1.2</td>\n",
       "      <td>1.2</td>\n",
       "      <td>0.6</td>\n",
       "      <td>38.0</td>\n",
       "      <td>2.0</td>\n",
       "      <td>3.0</td>\n",
       "      <td>3.0</td>\n",
       "      <td>1972.0</td>\n",
       "      <td>90000.0</td>\n",
       "      <td>1971.0</td>\n",
       "    </tr>\n",
       "    <tr>\n",
       "      <th>77673</th>\n",
       "      <td>14.0</td>\n",
       "      <td>5.0</td>\n",
       "      <td>516.0</td>\n",
       "      <td>32.0</td>\n",
       "      <td>160.0</td>\n",
       "      <td>66.010</td>\n",
       "      <td>-51.780</td>\n",
       "      <td>3.0</td>\n",
       "      <td>1.0</td>\n",
       "      <td>1.0</td>\n",
       "      <td>...</td>\n",
       "      <td>0.8</td>\n",
       "      <td>0.8</td>\n",
       "      <td>0.6</td>\n",
       "      <td>20.0</td>\n",
       "      <td>2.0</td>\n",
       "      <td>8.0</td>\n",
       "      <td>7.0</td>\n",
       "      <td>1972.0</td>\n",
       "      <td>250000.0</td>\n",
       "      <td>1985.0</td>\n",
       "    </tr>\n",
       "  </tbody>\n",
       "</table>\n",
       "<p>5 rows × 37 columns</p>\n",
       "</div>"
      ],
      "text/plain": [
       "       Political Unit  Continent  Basin Code  Location Code  Glacier Code  \\\n",
       "97498            23.0        4.0        65.0          171.0         193.0   \n",
       "9119              6.0        5.0       250.0          215.0         966.0   \n",
       "32055             8.0        2.0       280.0          379.0          81.0   \n",
       "47161             8.0        2.0       563.0          345.0          70.0   \n",
       "77673            14.0        5.0       516.0           32.0         160.0   \n",
       "\n",
       "       Latitude  Longitude  Primary Class  Glacier Source  Basin Count  \\\n",
       "97498   -43.326    170.652            7.0             1.0          2.0   \n",
       "9119     58.178   -129.682            6.0             1.0          1.0   \n",
       "32055    31.877     94.578            7.0             1.0          1.0   \n",
       "47161    44.550     80.580            6.0             1.0          1.0   \n",
       "77673    66.010    -51.780            3.0             1.0          1.0   \n",
       "\n",
       "            ...         Maximum Length  Maximum Length Exposed  \\\n",
       "97498       ...                    0.8                     0.8   \n",
       "9119        ...                    0.8                     0.8   \n",
       "32055       ...                    0.6                     0.6   \n",
       "47161       ...                    1.2                     1.2   \n",
       "77673       ...                    0.8                     0.8   \n",
       "\n",
       "       Maximum Length Ablation  Mean Depth  Depth Accuracy  \\\n",
       "97498                      0.6        99.0             2.0   \n",
       "9119                       0.6        10.0             3.0   \n",
       "32055                      0.6        14.0             2.0   \n",
       "47161                      0.6        38.0             2.0   \n",
       "77673                      0.6        20.0             2.0   \n",
       "\n",
       "       Accumulation Orientation  Ablation Orientation  Topographic Map Year  \\\n",
       "97498                       8.0                   4.0                1978.0   \n",
       "9119                        6.0                   6.0                1949.0   \n",
       "32055                       2.0                   2.0                1975.0   \n",
       "47161                       3.0                   3.0                1972.0   \n",
       "77673                       8.0                   7.0                1972.0   \n",
       "\n",
       "       Topographic Map Scale  Photograph Year  \n",
       "97498                63000.0           1978.0  \n",
       "9119                 90000.0           1971.0  \n",
       "32055               100000.0           1968.0  \n",
       "47161                90000.0           1971.0  \n",
       "77673               250000.0           1985.0  \n",
       "\n",
       "[5 rows x 37 columns]"
      ]
     },
     "execution_count": 138,
     "metadata": {},
     "output_type": "execute_result"
    }
   ],
   "source": [
    "train_set.head(5)"
   ]
  },
  {
   "cell_type": "code",
   "execution_count": 139,
   "metadata": {},
   "outputs": [
    {
     "data": {
      "text/html": [
       "<div>\n",
       "<style>\n",
       "    .dataframe thead tr:only-child th {\n",
       "        text-align: right;\n",
       "    }\n",
       "\n",
       "    .dataframe thead th {\n",
       "        text-align: left;\n",
       "    }\n",
       "\n",
       "    .dataframe tbody tr th {\n",
       "        vertical-align: top;\n",
       "    }\n",
       "</style>\n",
       "<table border=\"1\" class=\"dataframe\">\n",
       "  <thead>\n",
       "    <tr style=\"text-align: right;\">\n",
       "      <th></th>\n",
       "      <th>Political Unit</th>\n",
       "      <th>Continent</th>\n",
       "      <th>Basin Code</th>\n",
       "      <th>Location Code</th>\n",
       "      <th>Glacier Code</th>\n",
       "      <th>Latitude</th>\n",
       "      <th>Longitude</th>\n",
       "      <th>Primary Class</th>\n",
       "      <th>Glacier Source</th>\n",
       "      <th>Basin Count</th>\n",
       "      <th>...</th>\n",
       "      <th>Maximum Length</th>\n",
       "      <th>Maximum Length Exposed</th>\n",
       "      <th>Maximum Length Ablation</th>\n",
       "      <th>Mean Depth</th>\n",
       "      <th>Depth Accuracy</th>\n",
       "      <th>Accumulation Orientation</th>\n",
       "      <th>Ablation Orientation</th>\n",
       "      <th>Topographic Map Year</th>\n",
       "      <th>Topographic Map Scale</th>\n",
       "      <th>Photograph Year</th>\n",
       "    </tr>\n",
       "  </thead>\n",
       "  <tbody>\n",
       "    <tr>\n",
       "      <th>55287</th>\n",
       "      <td>8.0</td>\n",
       "      <td>2.0</td>\n",
       "      <td>657.0</td>\n",
       "      <td>383.0</td>\n",
       "      <td>31.0</td>\n",
       "      <td>35.661</td>\n",
       "      <td>80.231</td>\n",
       "      <td>6.0</td>\n",
       "      <td>1.0</td>\n",
       "      <td>1.0</td>\n",
       "      <td>...</td>\n",
       "      <td>2.2</td>\n",
       "      <td>2.2</td>\n",
       "      <td>0.6</td>\n",
       "      <td>41.0</td>\n",
       "      <td>2.0</td>\n",
       "      <td>2.0</td>\n",
       "      <td>2.0</td>\n",
       "      <td>1972.0</td>\n",
       "      <td>100000.0</td>\n",
       "      <td>1968.0</td>\n",
       "    </tr>\n",
       "    <tr>\n",
       "      <th>8667</th>\n",
       "      <td>6.0</td>\n",
       "      <td>5.0</td>\n",
       "      <td>250.0</td>\n",
       "      <td>183.0</td>\n",
       "      <td>44.0</td>\n",
       "      <td>57.305</td>\n",
       "      <td>-128.613</td>\n",
       "      <td>7.0</td>\n",
       "      <td>1.0</td>\n",
       "      <td>1.0</td>\n",
       "      <td>...</td>\n",
       "      <td>0.5</td>\n",
       "      <td>0.8</td>\n",
       "      <td>0.6</td>\n",
       "      <td>10.0</td>\n",
       "      <td>3.0</td>\n",
       "      <td>7.0</td>\n",
       "      <td>7.0</td>\n",
       "      <td>1971.0</td>\n",
       "      <td>90000.0</td>\n",
       "      <td>1971.0</td>\n",
       "    </tr>\n",
       "    <tr>\n",
       "      <th>54813</th>\n",
       "      <td>8.0</td>\n",
       "      <td>2.0</td>\n",
       "      <td>657.0</td>\n",
       "      <td>345.0</td>\n",
       "      <td>10.0</td>\n",
       "      <td>35.585</td>\n",
       "      <td>81.048</td>\n",
       "      <td>6.0</td>\n",
       "      <td>1.0</td>\n",
       "      <td>1.0</td>\n",
       "      <td>...</td>\n",
       "      <td>1.7</td>\n",
       "      <td>1.7</td>\n",
       "      <td>0.6</td>\n",
       "      <td>37.0</td>\n",
       "      <td>2.0</td>\n",
       "      <td>3.0</td>\n",
       "      <td>3.0</td>\n",
       "      <td>1976.0</td>\n",
       "      <td>100000.0</td>\n",
       "      <td>1971.0</td>\n",
       "    </tr>\n",
       "    <tr>\n",
       "      <th>69320</th>\n",
       "      <td>8.0</td>\n",
       "      <td>2.0</td>\n",
       "      <td>735.0</td>\n",
       "      <td>206.0</td>\n",
       "      <td>127.0</td>\n",
       "      <td>33.234</td>\n",
       "      <td>90.987</td>\n",
       "      <td>7.0</td>\n",
       "      <td>1.0</td>\n",
       "      <td>1.0</td>\n",
       "      <td>...</td>\n",
       "      <td>1.0</td>\n",
       "      <td>1.0</td>\n",
       "      <td>0.6</td>\n",
       "      <td>32.0</td>\n",
       "      <td>3.0</td>\n",
       "      <td>1.0</td>\n",
       "      <td>8.0</td>\n",
       "      <td>1976.0</td>\n",
       "      <td>100000.0</td>\n",
       "      <td>1971.0</td>\n",
       "    </tr>\n",
       "    <tr>\n",
       "      <th>575</th>\n",
       "      <td>0.0</td>\n",
       "      <td>2.0</td>\n",
       "      <td>570.0</td>\n",
       "      <td>153.0</td>\n",
       "      <td>506.0</td>\n",
       "      <td>38.219</td>\n",
       "      <td>71.207</td>\n",
       "      <td>6.0</td>\n",
       "      <td>0.0</td>\n",
       "      <td>1.0</td>\n",
       "      <td>...</td>\n",
       "      <td>0.6</td>\n",
       "      <td>0.8</td>\n",
       "      <td>0.6</td>\n",
       "      <td>20.0</td>\n",
       "      <td>2.0</td>\n",
       "      <td>3.0</td>\n",
       "      <td>3.0</td>\n",
       "      <td>1959.0</td>\n",
       "      <td>100000.0</td>\n",
       "      <td>1971.0</td>\n",
       "    </tr>\n",
       "  </tbody>\n",
       "</table>\n",
       "<p>5 rows × 37 columns</p>\n",
       "</div>"
      ],
      "text/plain": [
       "       Political Unit  Continent  Basin Code  Location Code  Glacier Code  \\\n",
       "55287             8.0        2.0       657.0          383.0          31.0   \n",
       "8667              6.0        5.0       250.0          183.0          44.0   \n",
       "54813             8.0        2.0       657.0          345.0          10.0   \n",
       "69320             8.0        2.0       735.0          206.0         127.0   \n",
       "575               0.0        2.0       570.0          153.0         506.0   \n",
       "\n",
       "       Latitude  Longitude  Primary Class  Glacier Source  Basin Count  \\\n",
       "55287    35.661     80.231            6.0             1.0          1.0   \n",
       "8667     57.305   -128.613            7.0             1.0          1.0   \n",
       "54813    35.585     81.048            6.0             1.0          1.0   \n",
       "69320    33.234     90.987            7.0             1.0          1.0   \n",
       "575      38.219     71.207            6.0             0.0          1.0   \n",
       "\n",
       "            ...         Maximum Length  Maximum Length Exposed  \\\n",
       "55287       ...                    2.2                     2.2   \n",
       "8667        ...                    0.5                     0.8   \n",
       "54813       ...                    1.7                     1.7   \n",
       "69320       ...                    1.0                     1.0   \n",
       "575         ...                    0.6                     0.8   \n",
       "\n",
       "       Maximum Length Ablation  Mean Depth  Depth Accuracy  \\\n",
       "55287                      0.6        41.0             2.0   \n",
       "8667                       0.6        10.0             3.0   \n",
       "54813                      0.6        37.0             2.0   \n",
       "69320                      0.6        32.0             3.0   \n",
       "575                        0.6        20.0             2.0   \n",
       "\n",
       "       Accumulation Orientation  Ablation Orientation  Topographic Map Year  \\\n",
       "55287                       2.0                   2.0                1972.0   \n",
       "8667                        7.0                   7.0                1971.0   \n",
       "54813                       3.0                   3.0                1976.0   \n",
       "69320                       1.0                   8.0                1976.0   \n",
       "575                         3.0                   3.0                1959.0   \n",
       "\n",
       "       Topographic Map Scale  Photograph Year  \n",
       "55287               100000.0           1968.0  \n",
       "8667                 90000.0           1971.0  \n",
       "54813               100000.0           1971.0  \n",
       "69320               100000.0           1971.0  \n",
       "575                 100000.0           1971.0  \n",
       "\n",
       "[5 rows x 37 columns]"
      ]
     },
     "execution_count": 139,
     "metadata": {},
     "output_type": "execute_result"
    }
   ],
   "source": [
    "test_set.head(5)"
   ]
  },
  {
   "cell_type": "code",
   "execution_count": 140,
   "metadata": {
    "collapsed": true
   },
   "outputs": [],
   "source": [
    "# Here we are further splitting, since the y data will be the classes and the x data will be the rest of the data\n",
    "\n",
    "y_train = train_set[\"Primary Class\"]\n",
    "y_test = test_set[\"Primary Class\"]\n",
    "x_test = test_set.drop(\"Primary Class\", 1)\n",
    "x_train = train_set.drop(\"Primary Class\", 1)"
   ]
  },
  {
   "cell_type": "code",
   "execution_count": 141,
   "metadata": {},
   "outputs": [
    {
     "data": {
      "text/plain": [
       "55287    6.0\n",
       "8667     7.0\n",
       "54813    6.0\n",
       "69320    7.0\n",
       "575      6.0\n",
       "Name: Primary Class, dtype: float64"
      ]
     },
     "execution_count": 141,
     "metadata": {},
     "output_type": "execute_result"
    }
   ],
   "source": [
    "y_test.head(5) # checking out the classes"
   ]
  },
  {
   "cell_type": "code",
   "execution_count": 142,
   "metadata": {},
   "outputs": [
    {
     "data": {
      "text/html": [
       "<div>\n",
       "<style>\n",
       "    .dataframe thead tr:only-child th {\n",
       "        text-align: right;\n",
       "    }\n",
       "\n",
       "    .dataframe thead th {\n",
       "        text-align: left;\n",
       "    }\n",
       "\n",
       "    .dataframe tbody tr th {\n",
       "        vertical-align: top;\n",
       "    }\n",
       "</style>\n",
       "<table border=\"1\" class=\"dataframe\">\n",
       "  <thead>\n",
       "    <tr style=\"text-align: right;\">\n",
       "      <th></th>\n",
       "      <th>Political Unit</th>\n",
       "      <th>Continent</th>\n",
       "      <th>Basin Code</th>\n",
       "      <th>Location Code</th>\n",
       "      <th>Glacier Code</th>\n",
       "      <th>Latitude</th>\n",
       "      <th>Longitude</th>\n",
       "      <th>Glacier Source</th>\n",
       "      <th>Basin Count</th>\n",
       "      <th>Glacier Form</th>\n",
       "      <th>...</th>\n",
       "      <th>Maximum Length</th>\n",
       "      <th>Maximum Length Exposed</th>\n",
       "      <th>Maximum Length Ablation</th>\n",
       "      <th>Mean Depth</th>\n",
       "      <th>Depth Accuracy</th>\n",
       "      <th>Accumulation Orientation</th>\n",
       "      <th>Ablation Orientation</th>\n",
       "      <th>Topographic Map Year</th>\n",
       "      <th>Topographic Map Scale</th>\n",
       "      <th>Photograph Year</th>\n",
       "    </tr>\n",
       "  </thead>\n",
       "  <tbody>\n",
       "    <tr>\n",
       "      <th>55287</th>\n",
       "      <td>8.0</td>\n",
       "      <td>2.0</td>\n",
       "      <td>657.0</td>\n",
       "      <td>383.0</td>\n",
       "      <td>31.0</td>\n",
       "      <td>35.661</td>\n",
       "      <td>80.231</td>\n",
       "      <td>1.0</td>\n",
       "      <td>1.0</td>\n",
       "      <td>4.0</td>\n",
       "      <td>...</td>\n",
       "      <td>2.2</td>\n",
       "      <td>2.2</td>\n",
       "      <td>0.6</td>\n",
       "      <td>41.0</td>\n",
       "      <td>2.0</td>\n",
       "      <td>2.0</td>\n",
       "      <td>2.0</td>\n",
       "      <td>1972.0</td>\n",
       "      <td>100000.0</td>\n",
       "      <td>1968.0</td>\n",
       "    </tr>\n",
       "    <tr>\n",
       "      <th>8667</th>\n",
       "      <td>6.0</td>\n",
       "      <td>5.0</td>\n",
       "      <td>250.0</td>\n",
       "      <td>183.0</td>\n",
       "      <td>44.0</td>\n",
       "      <td>57.305</td>\n",
       "      <td>-128.613</td>\n",
       "      <td>1.0</td>\n",
       "      <td>1.0</td>\n",
       "      <td>8.0</td>\n",
       "      <td>...</td>\n",
       "      <td>0.5</td>\n",
       "      <td>0.8</td>\n",
       "      <td>0.6</td>\n",
       "      <td>10.0</td>\n",
       "      <td>3.0</td>\n",
       "      <td>7.0</td>\n",
       "      <td>7.0</td>\n",
       "      <td>1971.0</td>\n",
       "      <td>90000.0</td>\n",
       "      <td>1971.0</td>\n",
       "    </tr>\n",
       "    <tr>\n",
       "      <th>54813</th>\n",
       "      <td>8.0</td>\n",
       "      <td>2.0</td>\n",
       "      <td>657.0</td>\n",
       "      <td>345.0</td>\n",
       "      <td>10.0</td>\n",
       "      <td>35.585</td>\n",
       "      <td>81.048</td>\n",
       "      <td>1.0</td>\n",
       "      <td>1.0</td>\n",
       "      <td>4.0</td>\n",
       "      <td>...</td>\n",
       "      <td>1.7</td>\n",
       "      <td>1.7</td>\n",
       "      <td>0.6</td>\n",
       "      <td>37.0</td>\n",
       "      <td>2.0</td>\n",
       "      <td>3.0</td>\n",
       "      <td>3.0</td>\n",
       "      <td>1976.0</td>\n",
       "      <td>100000.0</td>\n",
       "      <td>1971.0</td>\n",
       "    </tr>\n",
       "    <tr>\n",
       "      <th>69320</th>\n",
       "      <td>8.0</td>\n",
       "      <td>2.0</td>\n",
       "      <td>735.0</td>\n",
       "      <td>206.0</td>\n",
       "      <td>127.0</td>\n",
       "      <td>33.234</td>\n",
       "      <td>90.987</td>\n",
       "      <td>1.0</td>\n",
       "      <td>1.0</td>\n",
       "      <td>0.0</td>\n",
       "      <td>...</td>\n",
       "      <td>1.0</td>\n",
       "      <td>1.0</td>\n",
       "      <td>0.6</td>\n",
       "      <td>32.0</td>\n",
       "      <td>3.0</td>\n",
       "      <td>1.0</td>\n",
       "      <td>8.0</td>\n",
       "      <td>1976.0</td>\n",
       "      <td>100000.0</td>\n",
       "      <td>1971.0</td>\n",
       "    </tr>\n",
       "    <tr>\n",
       "      <th>575</th>\n",
       "      <td>0.0</td>\n",
       "      <td>2.0</td>\n",
       "      <td>570.0</td>\n",
       "      <td>153.0</td>\n",
       "      <td>506.0</td>\n",
       "      <td>38.219</td>\n",
       "      <td>71.207</td>\n",
       "      <td>0.0</td>\n",
       "      <td>1.0</td>\n",
       "      <td>3.0</td>\n",
       "      <td>...</td>\n",
       "      <td>0.6</td>\n",
       "      <td>0.8</td>\n",
       "      <td>0.6</td>\n",
       "      <td>20.0</td>\n",
       "      <td>2.0</td>\n",
       "      <td>3.0</td>\n",
       "      <td>3.0</td>\n",
       "      <td>1959.0</td>\n",
       "      <td>100000.0</td>\n",
       "      <td>1971.0</td>\n",
       "    </tr>\n",
       "  </tbody>\n",
       "</table>\n",
       "<p>5 rows × 36 columns</p>\n",
       "</div>"
      ],
      "text/plain": [
       "       Political Unit  Continent  Basin Code  Location Code  Glacier Code  \\\n",
       "55287             8.0        2.0       657.0          383.0          31.0   \n",
       "8667              6.0        5.0       250.0          183.0          44.0   \n",
       "54813             8.0        2.0       657.0          345.0          10.0   \n",
       "69320             8.0        2.0       735.0          206.0         127.0   \n",
       "575               0.0        2.0       570.0          153.0         506.0   \n",
       "\n",
       "       Latitude  Longitude  Glacier Source  Basin Count  Glacier Form  \\\n",
       "55287    35.661     80.231             1.0          1.0           4.0   \n",
       "8667     57.305   -128.613             1.0          1.0           8.0   \n",
       "54813    35.585     81.048             1.0          1.0           4.0   \n",
       "69320    33.234     90.987             1.0          1.0           0.0   \n",
       "575      38.219     71.207             0.0          1.0           3.0   \n",
       "\n",
       "            ...         Maximum Length  Maximum Length Exposed  \\\n",
       "55287       ...                    2.2                     2.2   \n",
       "8667        ...                    0.5                     0.8   \n",
       "54813       ...                    1.7                     1.7   \n",
       "69320       ...                    1.0                     1.0   \n",
       "575         ...                    0.6                     0.8   \n",
       "\n",
       "       Maximum Length Ablation  Mean Depth  Depth Accuracy  \\\n",
       "55287                      0.6        41.0             2.0   \n",
       "8667                       0.6        10.0             3.0   \n",
       "54813                      0.6        37.0             2.0   \n",
       "69320                      0.6        32.0             3.0   \n",
       "575                        0.6        20.0             2.0   \n",
       "\n",
       "       Accumulation Orientation  Ablation Orientation  Topographic Map Year  \\\n",
       "55287                       2.0                   2.0                1972.0   \n",
       "8667                        7.0                   7.0                1971.0   \n",
       "54813                       3.0                   3.0                1976.0   \n",
       "69320                       1.0                   8.0                1976.0   \n",
       "575                         3.0                   3.0                1959.0   \n",
       "\n",
       "       Topographic Map Scale  Photograph Year  \n",
       "55287               100000.0           1968.0  \n",
       "8667                 90000.0           1971.0  \n",
       "54813               100000.0           1971.0  \n",
       "69320               100000.0           1971.0  \n",
       "575                 100000.0           1971.0  \n",
       "\n",
       "[5 rows x 36 columns]"
      ]
     },
     "execution_count": 142,
     "metadata": {},
     "output_type": "execute_result"
    }
   ],
   "source": [
    "x_test.head(5)"
   ]
  },
  {
   "cell_type": "markdown",
   "metadata": {},
   "source": [
    "# Non-linear Separation Visualization\n",
    "\n",
    "As you can see below, our data is not very separable when we compare any two attributes, which means that we have a complex dataset.\n",
    "\n",
    "To minimize the output, we print out the first 21 graphs, if we didn't limit the number of graphs displayed, over 1,000 would be printed to the screen. The first 21 are fairly representative of all of the graphs. You cannot observe separation in any of them, which means that our data set and task is complex; especially since we are doing multiclass classification."
   ]
  },
  {
   "cell_type": "code",
   "execution_count": 143,
   "metadata": {
    "collapsed": true
   },
   "outputs": [],
   "source": [
    "x_train_copy = x_train.values\n",
    "y_train_copy = y_train.values"
   ]
  },
  {
   "cell_type": "code",
   "execution_count": 144,
   "metadata": {},
   "outputs": [
    {
     "data": {
      "text/plain": [
       "35"
      ]
     },
     "execution_count": 144,
     "metadata": {},
     "output_type": "execute_result"
    }
   ],
   "source": [
    "length = x_train_copy.shape[1] - 1\n",
    "length"
   ]
  },
  {
   "cell_type": "code",
   "execution_count": 146,
   "metadata": {},
   "outputs": [
    {
     "name": "stdout",
     "output_type": "stream",
     "text": [
      "\n"
     ]
    },
    {
     "data": {
      "image/png": "[encoded data removed]",
      "text/plain": [
       "<matplotlib.figure.Figure at 0x7fd5e793f128>"
      ]
     },
     "metadata": {},
     "output_type": "display_data"
    },
    {
     "data": {
      "image/png": "[encoded data removed]",
      "text/plain": [
       "<matplotlib.figure.Figure at 0x7fd620c2b8d0>"
      ]
     },
     "metadata": {},
     "output_type": "display_data"
    },
    {
     "data": {
      "image/png": "[encoded data removed]",
      "text/plain": [
       "<matplotlib.figure.Figure at 0x7fd62863f978>"
      ]
     },
     "metadata": {},
     "output_type": "display_data"
    },
    {
     "data": {
      "image/png": "[encoded data removed]",
      "text/plain": [
       "<matplotlib.figure.Figure at 0x7fd5e77c7780>"
      ]
     },
     "metadata": {},
     "output_type": "display_data"
    },
    {
     "data": {
      "image/png": "[encoded data removed]",
      "text/plain": [
       "<matplotlib.figure.Figure at 0x7fd62083d668>"
      ]
     },
     "metadata": {},
     "output_type": "display_data"
    },
    {
     "data": {
      "image/png": "[encoded data removed]",
      "text/plain": [
       "<matplotlib.figure.Figure at 0x7fd62150b550>"
      ]
     },
     "metadata": {},
     "output_type": "display_data"
    },
    {
     "data": {
      "image/png": "[encoded data removed]",
      "text/plain": [
       "<matplotlib.figure.Figure at 0x7fd6200bb518>"
      ]
     },
     "metadata": {},
     "output_type": "display_data"
    },
    {
     "data": {
      "image/png": "[encoded data removed]",
      "text/plain": [
       "<matplotlib.figure.Figure at 0x7fd6113b5668>"
      ]
     },
     "metadata": {},
     "output_type": "display_data"
    },
    {
     "data": {
      "image/png": "[encoded data removed]",
      "text/plain": [
       "<matplotlib.figure.Figure at 0x7fd6268b8470>"
      ]
     },
     "metadata": {},
     "output_type": "display_data"
    },
    {
     "data": {
      "image/png": "[encoded data removed]",
      "text/plain": [
       "<matplotlib.figure.Figure at 0x7fd5e7a63ef0>"
      ]
     },
     "metadata": {},
     "output_type": "display_data"
    },
    {
     "data": {
      "image/png": "[encoded data removed]",
      "text/plain": [
       "<matplotlib.figure.Figure at 0x7fd6285dd978>"
      ]
     },
     "metadata": {},
     "output_type": "display_data"
    },
    {
     "data": {
      "image/png": "[encoded data removed]",
      "text/plain": [
       "<matplotlib.figure.Figure at 0x7fd620ba2a90>"
      ]
     },
     "metadata": {},
     "output_type": "display_data"
    },
    {
     "data": {
      "image/png": "[encoded data removed]",
      "text/plain": [
       "<matplotlib.figure.Figure at 0x7fd6201534a8>"
      ]
     },
     "metadata": {},
     "output_type": "display_data"
    },
    {
     "data": {
      "image/png": "[encoded data removed]",
      "text/plain": [
       "<matplotlib.figure.Figure at 0x7fd6201f2860>"
      ]
     },
     "metadata": {},
     "output_type": "display_data"
    },
    {
     "data": {
      "image/png": "[encoded data removed]",
      "text/plain": [
       "<matplotlib.figure.Figure at 0x7fd5e7ce1cf8>"
      ]
     },
     "metadata": {},
     "output_type": "display_data"
    },
    {
     "data": {
      "image/png": "[encoded data removed]",
      "text/plain": [
       "<matplotlib.figure.Figure at 0x7fd6208d73c8>"
      ]
     },
     "metadata": {},
     "output_type": "display_data"
    },
    {
     "data": {
      "image/png": "[encoded data removed]",
      "text/plain": [
       "<matplotlib.figure.Figure at 0x7fd62150ee80>"
      ]
     },
     "metadata": {},
     "output_type": "display_data"
    },
    {
     "data": {
      "image/png": "[encoded data removed]",
      "text/plain": [
       "<matplotlib.figure.Figure at 0x7fd610ff2b70>"
      ]
     },
     "metadata": {},
     "output_type": "display_data"
    },
    {
     "data": {
      "image/png": "[encoded data removed]",
      "text/plain": [
       "<matplotlib.figure.Figure at 0x7fd610bc6d30>"
      ]
     },
     "metadata": {},
     "output_type": "display_data"
    },
    {
     "data": {
      "image/png": "[encoded data removed]",
      "text/plain": [
       "<matplotlib.figure.Figure at 0x7fd6268b84e0>"
      ]
     },
     "metadata": {},
     "output_type": "display_data"
    },
    {
     "name": "stdout",
     "output_type": "stream",
     "text": [
      "\n",
      "\n",
      "\n",
      "\n",
      "\n",
      "\n",
      "\n",
      "\n",
      "\n",
      "\n",
      "\n",
      "\n",
      "\n",
      "\n",
      "\n",
      "\n",
      "\n",
      "\n",
      "\n",
      "\n",
      "\n",
      "\n",
      "\n",
      "\n",
      "\n",
      "\n",
      "\n",
      "\n",
      "\n",
      "\n",
      "\n",
      "\n",
      "\n",
      "\n"
     ]
    }
   ],
   "source": [
    "counter = 0\n",
    "\n",
    "for temp1 in range(0, length):\n",
    "    for temp2 in range(0, length):\n",
    "        if (temp1 == temp2):\n",
    "            print(\"\")\n",
    "        else:\n",
    "            counter = counter + 1\n",
    "            if (counter < 21):\n",
    "                plot_dataset(x_train_copy, y_train_copy, [x_train_copy[:, temp1].min() - 10, x_train_copy[:, temp1].max() + 10, x_train_copy[:, temp2].min() - 10, x_train_copy[:, temp2].max() + 10], temp1, temp2) #Departure time and distance plotted\n",
    "                plt.show()"
   ]
  },
  {
   "cell_type": "markdown",
   "metadata": {},
   "source": [
    "# Decision Tree Classifier (1-split)"
   ]
  },
  {
   "cell_type": "code",
   "execution_count": 147,
   "metadata": {
    "collapsed": true
   },
   "outputs": [],
   "source": [
    "dt_clf = DecisionTreeClassifier(random_state = 42)"
   ]
  },
  {
   "cell_type": "code",
   "execution_count": 148,
   "metadata": {},
   "outputs": [
    {
     "data": {
      "text/plain": [
       "DecisionTreeClassifier(class_weight=None, criterion='gini', max_depth=None,\n",
       "            max_features=None, max_leaf_nodes=None,\n",
       "            min_impurity_split=1e-07, min_samples_leaf=1,\n",
       "            min_samples_split=2, min_weight_fraction_leaf=0.0,\n",
       "            presort=False, random_state=42, splitter='best')"
      ]
     },
     "execution_count": 148,
     "metadata": {},
     "output_type": "execute_result"
    }
   ],
   "source": [
    "dt_clf.fit(x_train, y_train)\n",
    "dt_clf"
   ]
  },
  {
   "cell_type": "code",
   "execution_count": 149,
   "metadata": {},
   "outputs": [
    {
     "data": {
      "text/plain": [
       "array([0., 1., 2., 3., 4., 5., 6., 7., 8., 9.])"
      ]
     },
     "execution_count": 149,
     "metadata": {},
     "output_type": "execute_result"
    }
   ],
   "source": [
    "dt_clf.classes_ # verifying that we are using multiple classes"
   ]
  },
  {
   "cell_type": "code",
   "execution_count": 150,
   "metadata": {},
   "outputs": [
    {
     "data": {
      "text/plain": [
       "array([0.87872803, 0.87828762, 0.87983632])"
      ]
     },
     "execution_count": 150,
     "metadata": {},
     "output_type": "execute_result"
    }
   ],
   "source": [
    "cross_val_score(dt_clf, x_train, y_train, cv = 3, scoring = \"accuracy\")"
   ]
  },
  {
   "cell_type": "code",
   "execution_count": 151,
   "metadata": {},
   "outputs": [
    {
     "data": {
      "text/plain": [
       "array([7., 6., 7., ..., 0., 7., 5.])"
      ]
     },
     "execution_count": 151,
     "metadata": {},
     "output_type": "execute_result"
    }
   ],
   "source": [
    "y_train_predict_dt = cross_val_predict(dt_clf, x_train, y_train, cv = 3)\n",
    "y_train_predict_dt"
   ]
  },
  {
   "cell_type": "code",
   "execution_count": 152,
   "metadata": {},
   "outputs": [
    {
     "data": {
      "text/plain": [
       "array([[ 6377,     0,     4,     7,    20,    10,    56,    76,     0,\n",
       "           12],\n",
       "       [    0,   215,     0,     2,     0,     0,     0,     0,     0,\n",
       "            0],\n",
       "       [    2,     0,   219,    67,    17,    34,   118,    72,     0,\n",
       "            2],\n",
       "       [   12,     6,    63,  1582,    26,    31,   326,   134,     0,\n",
       "            3],\n",
       "       [   25,     0,    17,    37,  1682,   181,    95,    20,     2,\n",
       "            0],\n",
       "       [    9,     0,    14,    37,   175,  8523,  2313,    87,     0,\n",
       "           24],\n",
       "       [   70,     2,   124,   325,    83,  2371, 47652,  2419,     2,\n",
       "          169],\n",
       "       [   56,     0,    94,   134,    18,    87,  2392, 25323,     1,\n",
       "           77],\n",
       "       [    0,     0,     0,     1,     2,     0,     1,     0,     0,\n",
       "            0],\n",
       "       [   17,     0,     6,     1,     2,    22,   186,    71,     0,\n",
       "         1870]])"
      ]
     },
     "execution_count": 152,
     "metadata": {},
     "output_type": "execute_result"
    }
   ],
   "source": [
    "# The confusion matrix is a bit different for multi-class problems\n",
    "\n",
    "confusion_dt = confusion_matrix(y_train, y_train_predict_dt)\n",
    "confusion_dt"
   ]
  },
  {
   "cell_type": "code",
   "execution_count": 153,
   "metadata": {},
   "outputs": [
    {
     "data": {
      "image/png": "[encoded data removed]",
      "text/plain": [
       "<matplotlib.figure.Figure at 0x7fd620180b38>"
      ]
     },
     "metadata": {},
     "output_type": "display_data"
    }
   ],
   "source": [
    "plt.matshow(confusion_dt, cmap = plt.cm.gray)\n",
    "plt.show()"
   ]
  },
  {
   "cell_type": "code",
   "execution_count": 154,
   "metadata": {},
   "outputs": [
    {
     "data": {
      "text/plain": [
       "0.8790886527165317"
      ]
     },
     "execution_count": 154,
     "metadata": {},
     "output_type": "execute_result"
    }
   ],
   "source": [
    "precision_score(y_train, y_train_predict_dt, average = 'weighted')"
   ]
  },
  {
   "cell_type": "code",
   "execution_count": 155,
   "metadata": {},
   "outputs": [
    {
     "data": {
      "text/plain": [
       "0.8789506358642486"
      ]
     },
     "execution_count": 155,
     "metadata": {},
     "output_type": "execute_result"
    }
   ],
   "source": [
    "recall_score(y_train, y_train_predict_dt, average = 'weighted')"
   ]
  },
  {
   "cell_type": "code",
   "execution_count": 156,
   "metadata": {},
   "outputs": [
    {
     "data": {
      "text/plain": [
       "0.8790163830784185"
      ]
     },
     "execution_count": 156,
     "metadata": {},
     "output_type": "execute_result"
    }
   ],
   "source": [
    "f1_score(y_train, y_train_predict_dt, average = 'weighted')"
   ]
  },
  {
   "cell_type": "code",
   "execution_count": 157,
   "metadata": {},
   "outputs": [
    {
     "data": {
      "text/plain": [
       "array([6., 6., 6., ..., 7., 6., 6.])"
      ]
     },
     "execution_count": 157,
     "metadata": {},
     "output_type": "execute_result"
    }
   ],
   "source": [
    "dt_predictions = dt_clf.predict(x_test) #predict how the classes from our test set\n",
    "dt_predictions"
   ]
  },
  {
   "cell_type": "code",
   "execution_count": 158,
   "metadata": {},
   "outputs": [
    {
     "name": "stdout",
     "output_type": "stream",
     "text": [
      "0.885544435247197\n"
     ]
    }
   ],
   "source": [
    "print(accuracy_score(y_test, dt_predictions)) #88.5% accurate on our test set!!!!"
   ]
  },
  {
   "cell_type": "markdown",
   "metadata": {},
   "source": [
    "# Base performance\n",
    "\n",
    "Our base performance when using the decision tree classifier is the 87.90% f1 score."
   ]
  },
  {
   "cell_type": "markdown",
   "metadata": {},
   "source": [
    "# Bagging Classifier\n",
    "\n",
    "Now lets take a look at our bagging classifer!"
   ]
  },
  {
   "cell_type": "code",
   "execution_count": 159,
   "metadata": {
    "collapsed": true
   },
   "outputs": [],
   "source": [
    "bagg_clf = BaggingClassifier(\n",
    "    DecisionTreeClassifier(), n_estimators = 500,\n",
    "    max_samples = 100, bootstrap = True, n_jobs = -1)"
   ]
  },
  {
   "cell_type": "code",
   "execution_count": 160,
   "metadata": {},
   "outputs": [
    {
     "data": {
      "text/plain": [
       "BaggingClassifier(base_estimator=DecisionTreeClassifier(class_weight=None, criterion='gini', max_depth=None,\n",
       "            max_features=None, max_leaf_nodes=None,\n",
       "            min_impurity_split=1e-07, min_samples_leaf=1,\n",
       "            min_samples_split=2, min_weight_fraction_leaf=0.0,\n",
       "            presort=False, random_state=None, splitter='best'),\n",
       "         bootstrap=True, bootstrap_features=False, max_features=1.0,\n",
       "         max_samples=100, n_estimators=500, n_jobs=-1, oob_score=False,\n",
       "         random_state=None, verbose=0, warm_start=False)"
      ]
     },
     "execution_count": 160,
     "metadata": {},
     "output_type": "execute_result"
    }
   ],
   "source": [
    "bagg_clf.fit(x_train, y_train)\n",
    "bagg_clf"
   ]
  },
  {
   "cell_type": "code",
   "execution_count": 161,
   "metadata": {},
   "outputs": [
    {
     "data": {
      "text/plain": [
       "array([0., 1., 2., 3., 4., 5., 6., 7., 8., 9.])"
      ]
     },
     "execution_count": 161,
     "metadata": {},
     "output_type": "execute_result"
    }
   ],
   "source": [
    "bagg_clf.classes_"
   ]
  },
  {
   "cell_type": "code",
   "execution_count": 162,
   "metadata": {},
   "outputs": [
    {
     "data": {
      "text/plain": [
       "array([0.75855647, 0.75406366, 0.76130944])"
      ]
     },
     "execution_count": 162,
     "metadata": {},
     "output_type": "execute_result"
    }
   ],
   "source": [
    "cross_val_score(bagg_clf, x_train, y_train, cv = 3, scoring = \"accuracy\")"
   ]
  },
  {
   "cell_type": "code",
   "execution_count": 163,
   "metadata": {},
   "outputs": [
    {
     "data": {
      "text/plain": [
       "array([6., 6., 7., ..., 6., 7., 5.])"
      ]
     },
     "execution_count": 163,
     "metadata": {},
     "output_type": "execute_result"
    }
   ],
   "source": [
    "y_train_predict_bagg = cross_val_predict(bagg_clf, x_train, y_train, cv = 3)\n",
    "y_train_predict_bagg"
   ]
  },
  {
   "cell_type": "code",
   "execution_count": 164,
   "metadata": {},
   "outputs": [
    {
     "data": {
      "text/plain": [
       "array([[ 5312,     0,     0,     0,     0,   125,  1036,    89,     0,\n",
       "            0],\n",
       "       [    0,     0,     0,     0,     0,     0,   217,     0,     0,\n",
       "            0],\n",
       "       [   22,     0,     0,     0,     0,    33,   378,    98,     0,\n",
       "            0],\n",
       "       [   76,     0,     0,     1,     4,   368,  1570,   164,     0,\n",
       "            0],\n",
       "       [   20,     0,     0,     0,     3,  1051,   963,    22,     0,\n",
       "            0],\n",
       "       [    4,     0,     0,     0,     0,  5435,  5695,    48,     0,\n",
       "            0],\n",
       "       [   87,     0,     0,     0,     0,  1267, 47810,  4053,     0,\n",
       "            0],\n",
       "       [  104,     0,     0,     0,     0,    50,  6085, 21943,     0,\n",
       "            0],\n",
       "       [    0,     0,     0,     0,     0,     1,     3,     0,     0,\n",
       "            0],\n",
       "       [   13,     0,     0,     0,     0,    25,  1428,   676,     0,\n",
       "           33]])"
      ]
     },
     "execution_count": 164,
     "metadata": {},
     "output_type": "execute_result"
    }
   ],
   "source": [
    "confusion_bagg = confusion_matrix(y_train, y_train_predict_bagg)\n",
    "confusion_bagg"
   ]
  },
  {
   "cell_type": "code",
   "execution_count": 165,
   "metadata": {},
   "outputs": [
    {
     "data": {
      "image/png": "[encoded data removed]",
      "text/plain": [
       "<matplotlib.figure.Figure at 0x7fd620130c18>"
      ]
     },
     "metadata": {},
     "output_type": "display_data"
    }
   ],
   "source": [
    "plt.matshow(confusion_bagg, cmap = plt.cm.gray)\n",
    "plt.show()"
   ]
  },
  {
   "cell_type": "code",
   "execution_count": 166,
   "metadata": {},
   "outputs": [
    {
     "name": "stderr",
     "output_type": "stream",
     "text": [
      "/home/shelob/anaconda3/lib/python3.6/site-packages/sklearn/metrics/classification.py:1113: UndefinedMetricWarning: Precision is ill-defined and being set to 0.0 in labels with no predicted samples.\n",
      "  'precision', 'predicted', average, warn_for)\n"
     ]
    },
    {
     "data": {
      "text/plain": [
       "0.7577135653039185"
      ]
     },
     "execution_count": 166,
     "metadata": {},
     "output_type": "execute_result"
    }
   ],
   "source": [
    "precision_score(y_train, y_train_predict_bagg, average = 'weighted')"
   ]
  },
  {
   "cell_type": "code",
   "execution_count": 167,
   "metadata": {},
   "outputs": [
    {
     "data": {
      "text/plain": [
       "0.7575532395214087"
      ]
     },
     "execution_count": 167,
     "metadata": {},
     "output_type": "execute_result"
    }
   ],
   "source": [
    "recall_score(y_train, y_train_predict_bagg, average = 'weighted')"
   ]
  },
  {
   "cell_type": "code",
   "execution_count": 168,
   "metadata": {},
   "outputs": [
    {
     "name": "stderr",
     "output_type": "stream",
     "text": [
      "/home/shelob/anaconda3/lib/python3.6/site-packages/sklearn/metrics/classification.py:1113: UndefinedMetricWarning: F-score is ill-defined and being set to 0.0 in labels with no predicted samples.\n",
      "  'precision', 'predicted', average, warn_for)\n"
     ]
    },
    {
     "data": {
      "text/plain": [
       "0.7276832290028306"
      ]
     },
     "execution_count": 168,
     "metadata": {},
     "output_type": "execute_result"
    }
   ],
   "source": [
    "f1_score(y_train, y_train_predict_bagg, average = 'weighted')"
   ]
  },
  {
   "cell_type": "code",
   "execution_count": 169,
   "metadata": {},
   "outputs": [
    {
     "data": {
      "text/plain": [
       "array([6., 7., 6., ..., 7., 6., 6.])"
      ]
     },
     "execution_count": 169,
     "metadata": {},
     "output_type": "execute_result"
    }
   ],
   "source": [
    "bagg_predictions = bagg_clf.predict(x_test) #predict how the classes from our test set\n",
    "bagg_predictions"
   ]
  },
  {
   "cell_type": "code",
   "execution_count": 170,
   "metadata": {},
   "outputs": [
    {
     "name": "stdout",
     "output_type": "stream",
     "text": [
      "0.759349838212055\n"
     ]
    }
   ],
   "source": [
    "print(accuracy_score(y_test, bagg_predictions)) #88.5% accurate on our test set!!!!"
   ]
  },
  {
   "cell_type": "markdown",
   "metadata": {},
   "source": [
    "# Random Forest Ensemble"
   ]
  },
  {
   "cell_type": "code",
   "execution_count": 171,
   "metadata": {
    "collapsed": true
   },
   "outputs": [],
   "source": [
    "random_clf = RandomForestClassifier(n_estimators = 500, max_leaf_nodes = 16, n_jobs = -1)"
   ]
  },
  {
   "cell_type": "code",
   "execution_count": 172,
   "metadata": {},
   "outputs": [
    {
     "data": {
      "text/plain": [
       "RandomForestClassifier(bootstrap=True, class_weight=None, criterion='gini',\n",
       "            max_depth=None, max_features='auto', max_leaf_nodes=16,\n",
       "            min_impurity_split=1e-07, min_samples_leaf=1,\n",
       "            min_samples_split=2, min_weight_fraction_leaf=0.0,\n",
       "            n_estimators=500, n_jobs=-1, oob_score=False,\n",
       "            random_state=None, verbose=0, warm_start=False)"
      ]
     },
     "execution_count": 172,
     "metadata": {},
     "output_type": "execute_result"
    }
   ],
   "source": [
    "random_clf.fit(x_train, y_train)\n",
    "random_clf"
   ]
  },
  {
   "cell_type": "code",
   "execution_count": 173,
   "metadata": {},
   "outputs": [
    {
     "data": {
      "text/plain": [
       "array([0., 1., 2., 3., 4., 5., 6., 7., 8., 9.])"
      ]
     },
     "execution_count": 173,
     "metadata": {},
     "output_type": "execute_result"
    }
   ],
   "source": [
    "random_clf.classes_"
   ]
  },
  {
   "cell_type": "code",
   "execution_count": 174,
   "metadata": {},
   "outputs": [
    {
     "data": {
      "text/plain": [
       "array([0.74591575, 0.73662377, 0.74042613])"
      ]
     },
     "execution_count": 174,
     "metadata": {},
     "output_type": "execute_result"
    }
   ],
   "source": [
    "cross_val_score(random_clf, x_train, y_train, cv = 3, scoring = \"accuracy\")"
   ]
  },
  {
   "cell_type": "code",
   "execution_count": 175,
   "metadata": {},
   "outputs": [
    {
     "data": {
      "text/plain": [
       "array([6., 7., 7., ..., 6., 6., 5.])"
      ]
     },
     "execution_count": 175,
     "metadata": {},
     "output_type": "execute_result"
    }
   ],
   "source": [
    "y_train_predict_random = cross_val_predict(random_clf, x_train, y_train, cv = 3)\n",
    "y_train_predict_random"
   ]
  },
  {
   "cell_type": "code",
   "execution_count": 176,
   "metadata": {},
   "outputs": [
    {
     "data": {
      "text/plain": [
       "array([[ 5088,     0,     0,     0,     0,    64,  1340,    70,     0,\n",
       "            0],\n",
       "       [    0,     0,     0,     0,     0,     0,   217,     0,     0,\n",
       "            0],\n",
       "       [    0,     0,     0,     0,     0,    19,   467,    45,     0,\n",
       "            0],\n",
       "       [    1,     0,     0,     0,     0,   161,  1911,   110,     0,\n",
       "            0],\n",
       "       [    5,     0,     0,     0,     0,   757,  1281,    16,     0,\n",
       "            0],\n",
       "       [    1,     0,     0,     0,     0,  4655,  6487,    39,     0,\n",
       "            0],\n",
       "       [   69,     0,     0,     0,     0,   934, 48519,  3695,     0,\n",
       "            0],\n",
       "       [   86,     0,     0,     0,     0,    10,  7423, 20663,     0,\n",
       "            0],\n",
       "       [    0,     0,     0,     0,     0,     0,     4,     0,     0,\n",
       "            0],\n",
       "       [    4,     0,     0,     0,     0,     2,  1578,   591,     0,\n",
       "            0]])"
      ]
     },
     "execution_count": 176,
     "metadata": {},
     "output_type": "execute_result"
    }
   ],
   "source": [
    "confusion_random = confusion_matrix(y_train, y_train_predict_random)\n",
    "confusion_random"
   ]
  },
  {
   "cell_type": "code",
   "execution_count": 177,
   "metadata": {},
   "outputs": [
    {
     "data": {
      "image/png": "[encoded data removed]",
      "text/plain": [
       "<matplotlib.figure.Figure at 0x7fd620ba2ef0>"
      ]
     },
     "metadata": {},
     "output_type": "display_data"
    }
   ],
   "source": [
    "plt.matshow(confusion_random, cmap = plt.cm.gray)\n",
    "plt.show()"
   ]
  },
  {
   "cell_type": "code",
   "execution_count": 178,
   "metadata": {},
   "outputs": [
    {
     "name": "stderr",
     "output_type": "stream",
     "text": [
      "/home/shelob/anaconda3/lib/python3.6/site-packages/sklearn/metrics/classification.py:1113: UndefinedMetricWarning: Precision is ill-defined and being set to 0.0 in labels with no predicted samples.\n",
      "  'precision', 'predicted', average, warn_for)\n"
     ]
    },
    {
     "data": {
      "text/plain": [
       "0.7018835447685394"
      ]
     },
     "execution_count": 178,
     "metadata": {},
     "output_type": "execute_result"
    }
   ],
   "source": [
    "precision_score(y_train, y_train_predict_random, average = 'weighted')"
   ]
  },
  {
   "cell_type": "code",
   "execution_count": 179,
   "metadata": {},
   "outputs": [
    {
     "data": {
      "text/plain": [
       "0.7423903228233878"
      ]
     },
     "execution_count": 179,
     "metadata": {},
     "output_type": "execute_result"
    }
   ],
   "source": [
    "recall_score(y_train, y_train_predict_random, average = 'weighted')"
   ]
  },
  {
   "cell_type": "code",
   "execution_count": 180,
   "metadata": {},
   "outputs": [
    {
     "name": "stderr",
     "output_type": "stream",
     "text": [
      "/home/shelob/anaconda3/lib/python3.6/site-packages/sklearn/metrics/classification.py:1113: UndefinedMetricWarning: F-score is ill-defined and being set to 0.0 in labels with no predicted samples.\n",
      "  'precision', 'predicted', average, warn_for)\n"
     ]
    },
    {
     "data": {
      "text/plain": [
       "0.7100368482074166"
      ]
     },
     "execution_count": 180,
     "metadata": {},
     "output_type": "execute_result"
    }
   ],
   "source": [
    "f1_score(y_train, y_train_predict_random, average = 'weighted')"
   ]
  },
  {
   "cell_type": "code",
   "execution_count": 181,
   "metadata": {},
   "outputs": [
    {
     "data": {
      "text/plain": [
       "array([6., 7., 6., ..., 7., 6., 6.])"
      ]
     },
     "execution_count": 181,
     "metadata": {},
     "output_type": "execute_result"
    }
   ],
   "source": [
    "random_predictions = random_clf.predict(x_test) #predict how the classes from our test set\n",
    "random_predictions"
   ]
  },
  {
   "cell_type": "code",
   "execution_count": 182,
   "metadata": {},
   "outputs": [
    {
     "name": "stdout",
     "output_type": "stream",
     "text": [
      "0.7456919256527955\n"
     ]
    }
   ],
   "source": [
    "print(accuracy_score(y_test, random_predictions)) #88.5% accurate on our test set!!!!"
   ]
  },
  {
   "cell_type": "markdown",
   "metadata": {},
   "source": [
    "# Adaboost Classifier"
   ]
  },
  {
   "cell_type": "code",
   "execution_count": 183,
   "metadata": {
    "collapsed": true
   },
   "outputs": [],
   "source": [
    "ada_clf = AdaBoostClassifier(\n",
    "    DecisionTreeClassifier(max_depth = 1), n_estimators = 200,\n",
    "    algorithm = \"SAMME.R\", learning_rate = .5)"
   ]
  },
  {
   "cell_type": "code",
   "execution_count": 184,
   "metadata": {},
   "outputs": [
    {
     "data": {
      "text/plain": [
       "AdaBoostClassifier(algorithm='SAMME.R',\n",
       "          base_estimator=DecisionTreeClassifier(class_weight=None, criterion='gini', max_depth=1,\n",
       "            max_features=None, max_leaf_nodes=None,\n",
       "            min_impurity_split=1e-07, min_samples_leaf=1,\n",
       "            min_samples_split=2, min_weight_fraction_leaf=0.0,\n",
       "            presort=False, random_state=None, splitter='best'),\n",
       "          learning_rate=0.5, n_estimators=200, random_state=None)"
      ]
     },
     "execution_count": 184,
     "metadata": {},
     "output_type": "execute_result"
    }
   ],
   "source": [
    "ada_clf.fit(x_train, y_train)\n",
    "ada_clf"
   ]
  },
  {
   "cell_type": "code",
   "execution_count": 185,
   "metadata": {},
   "outputs": [
    {
     "data": {
      "text/plain": [
       "array([0., 1., 2., 3., 4., 5., 6., 7., 8., 9.])"
      ]
     },
     "execution_count": 185,
     "metadata": {},
     "output_type": "execute_result"
    }
   ],
   "source": [
    "ada_clf.classes_"
   ]
  },
  {
   "cell_type": "code",
   "execution_count": 186,
   "metadata": {},
   "outputs": [
    {
     "data": {
      "text/plain": [
       "array([0.35729804, 0.3355627 , 0.37186398])"
      ]
     },
     "execution_count": 186,
     "metadata": {},
     "output_type": "execute_result"
    }
   ],
   "source": [
    "cross_val_score(ada_clf, x_train, y_train, cv = 3, scoring = \"accuracy\")"
   ]
  },
  {
   "cell_type": "code",
   "execution_count": 187,
   "metadata": {},
   "outputs": [
    {
     "data": {
      "text/plain": [
       "array([7., 6., 7., ..., 7., 0., 0.])"
      ]
     },
     "execution_count": 187,
     "metadata": {},
     "output_type": "execute_result"
    }
   ],
   "source": [
    "y_train_predict_ada = cross_val_predict(ada_clf, x_train, y_train, cv = 3)\n",
    "y_train_predict_ada"
   ]
  },
  {
   "cell_type": "code",
   "execution_count": 188,
   "metadata": {},
   "outputs": [
    {
     "data": {
      "text/plain": [
       "array([[ 4435,     0,     4,   696,   300,     6,   155,   506,     0,\n",
       "          460],\n",
       "       [    0,    78,    42,    96,     0,     0,     1,     0,     0,\n",
       "            0],\n",
       "       [  105,     2,    27,    26,    77,    29,   168,    75,     0,\n",
       "           22],\n",
       "       [  292,     8,    54,   267,   413,    73,   742,   284,     0,\n",
       "           50],\n",
       "       [  445,     0,    13,    82,  1243,   121,    98,    32,     0,\n",
       "           25],\n",
       "       [ 2178,     0,    13,   274,  3270,  2838,  1443,   244,     0,\n",
       "          922],\n",
       "       [ 9626,     0,    58,  4433,  4737,  3450, 18542,  5329,     0,\n",
       "         7042],\n",
       "       [ 4555,     0,    38,  1031,   631,    95,  4640,  9006,     0,\n",
       "         8186],\n",
       "       [    1,     0,     0,     0,     3,     0,     0,     0,     0,\n",
       "            0],\n",
       "       [  573,     0,     0,     1,    92,     6,    86,   122,     0,\n",
       "         1295]])"
      ]
     },
     "execution_count": 188,
     "metadata": {},
     "output_type": "execute_result"
    }
   ],
   "source": [
    "confusion_ada = confusion_matrix(y_train, y_train_predict_ada)\n",
    "confusion_ada"
   ]
  },
  {
   "cell_type": "code",
   "execution_count": 189,
   "metadata": {},
   "outputs": [
    {
     "data": {
      "image/png": "[encoded data removed]",
      "text/plain": [
       "<matplotlib.figure.Figure at 0x7fd611628fd0>"
      ]
     },
     "metadata": {},
     "output_type": "display_data"
    }
   ],
   "source": [
    "plt.matshow(confusion_ada, cmap = plt.cm.gray)\n",
    "plt.show()"
   ]
  },
  {
   "cell_type": "markdown",
   "metadata": {},
   "source": [
    "# Ranking Feature Importance\n",
    "\n",
    "Next, we'll see how the Random Forest Classifier ranked each feature in terms of relative importance!"
   ]
  },
  {
   "cell_type": "code",
   "execution_count": 190,
   "metadata": {},
   "outputs": [
    {
     "data": {
      "text/plain": [
       "array([4.47558497e-02, 2.07836633e-02, 4.12796417e-02, 8.30529501e-03,\n",
       "       5.53159310e-04, 5.98701683e-02, 3.83817728e-02, 1.17060860e-02,\n",
       "       0.00000000e+00, 1.76118983e-01, 2.93322648e-03, 8.56520361e-05,\n",
       "       0.00000000e+00, 2.24061174e-02, 1.64381514e-02, 1.21906608e-02,\n",
       "       0.00000000e+00, 4.72832081e-04, 8.06775590e-03, 7.02124504e-03,\n",
       "       0.00000000e+00, 1.05047214e-01, 1.47666255e-02, 6.37805575e-02,\n",
       "       3.98645398e-02, 1.70439614e-02, 5.61247582e-02, 2.82519429e-02,\n",
       "       7.12340178e-03, 1.03841922e-01, 8.00261978e-03, 3.28375991e-02,\n",
       "       9.33828982e-03, 1.73011087e-02, 1.16569838e-02, 1.36482154e-02])"
      ]
     },
     "execution_count": 190,
     "metadata": {},
     "output_type": "execute_result"
    }
   ],
   "source": [
    "# Let's take a look at the raw feature importance's\n",
    "\n",
    "random_clf.feature_importances_"
   ]
  },
  {
   "cell_type": "code",
   "execution_count": 191,
   "metadata": {},
   "outputs": [
    {
     "name": "stdout",
     "output_type": "stream",
     "text": [
      "Political Unit 0.044755849706999806\n",
      "Continent 0.020783663337698908\n",
      "Basin Code 0.041279641740266625\n",
      "Location Code 0.008305295012954487\n",
      "Glacier Code 0.0005531593103129272\n",
      "Latitude 0.059870168290219766\n",
      "Longitude 0.038381772813684954\n",
      "Glacier Source 0.011706086043729344\n",
      "Basin Count 0.0\n",
      "Glacier Form 0.17611898320137448\n",
      "Glacier Activity 0.002933226479639187\n",
      "Activity Start 8.565203606332519e-05\n",
      "Activity End 0.0\n",
      "Minimum Elevation 0.02240611741126295\n",
      "Minimum Elevation Exposed 0.01643815142823775\n",
      "Mean Elevation 0.012190660785317591\n",
      "Mean Elevation Accumulation 0.0\n",
      "Mean Elevation Ablation 0.00047283208138830816\n",
      "Maximum Elevation 0.008067755896472071\n",
      "Snow Line Elevation 0.007021245043695779\n",
      "Snow Line Accuracy 0.0\n",
      "Glacier Area 0.10504721386321267\n",
      "Area Accuracy 0.01476662551001798\n",
      "Area Exposed 0.06378055746399862\n",
      "Mean Width 0.039864539765199866\n",
      "Mean Length 0.017043961367885274\n",
      "Maximum Length 0.05612475821673952\n",
      "Maximum Length Exposed 0.02825194286626314\n",
      "Maximum Length Ablation 0.007123401783345995\n",
      "Mean Depth 0.10384192197963736\n",
      "Depth Accuracy 0.008002619782671078\n",
      "Accumulation Orientation 0.03283759905639993\n",
      "Ablation Orientation 0.00933828981924357\n",
      "Topographic Map Year 0.017301108744962854\n",
      "Topographic Map Scale 0.011656983770620613\n",
      "Photograph Year 0.01364821539048324\n"
     ]
    }
   ],
   "source": [
    "# Now let's make it easier for the user to view\n",
    "\n",
    "for name, score in zip(list(x_train), random_clf.feature_importances_):\n",
    "    print(name, score)"
   ]
  },
  {
   "cell_type": "markdown",
   "metadata": {},
   "source": [
    "# Present Solution\n",
    "\n",
    "If we were pitching this to a client, we would present the solution that saw the best performance / accuracy measures. If the client requested ensemble methods to be used then we would inform them that in their context the bagging classifier would be the best ensemble method to use. We would tell them that random forest would be a very close alternative and to stay away from ada boost (at least with the parameters that we used). For the clients data, and although we say good results when classifying glacier classes, we may suggest that the user use different labels to see if they could realize better results; different labels such as maybe continent or political unit. The user would have to change up their goal slightly, but it may be worth it if they could get better results. In addition, by first classifying according to the continent or political unit, it may segway into finding out more info about the data. So the client could revisit the primary class labels and implement different attributes (in that they could create their own based on their findings classifying the continent or political unit)."
   ]
  },
  {
   "cell_type": "markdown",
   "metadata": {},
   "source": [
    "# Plan for the Future\n",
    "\n",
    "In the end, each ensemble method (and the base decision tree classifier) except for adaboost performed well. The best was the decision tree classifier, which is ironic because it's not an ensemble implementation. One reason that this could be the case is because we need more data. Our data set wasn't small but it also wasn't large. In the future, we can get more data, which will probably improve the performance of the various ensemble methods. Other than the need for more data, our system works well and should work just as well in the future (actually, it may get better). As of now, we are satisfied with the system and saw great multi-class classification accuracy."
   ]
  },
  {
   "cell_type": "code",
   "execution_count": null,
   "metadata": {
    "collapsed": true
   },
   "outputs": [],
   "source": []
  }
 ],
 "metadata": {
  "kernelspec": {
   "display_name": "Python 3",
   "language": "python",
   "name": "python3"
  },
  "language_info": {
   "codemirror_mode": {
    "name": "ipython",
    "version": 3
   },
   "file_extension": ".py",
   "mimetype": "text/x-python",
   "name": "python",
   "nbconvert_exporter": "python",
   "pygments_lexer": "ipython3",
   "version": "3.6.1"
  }
 },
 "nbformat": 4,
 "nbformat_minor": 2
}
